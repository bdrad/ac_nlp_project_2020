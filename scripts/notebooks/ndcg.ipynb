{
 "cells": [
  {
   "cell_type": "code",
   "execution_count": 1,
   "metadata": {},
   "outputs": [],
   "source": [
    "import numpy as np"
   ]
  },
  {
   "cell_type": "code",
   "execution_count": 2,
   "metadata": {},
   "outputs": [],
   "source": [
    "hard_biosent = np.load(\"../resources/artificial_inds_hard_key_v5.npy\",allow_pickle=True)\n",
    "hard_tfidf = np.load(\"../resources/artificial_inds_easy_key_v5.npy\",allow_pickle=True)"
   ]
  },
  {
   "cell_type": "code",
   "execution_count": 3,
   "metadata": {
    "scrolled": true
   },
   "outputs": [
    {
     "data": {
      "text/plain": [
       "array([['Breast Cancer Screening', '01_01.txt', '0.534118115901947', ...,\n",
       "        '0.49915446313505907', '2.613237842091487', '0'],\n",
       "       ['Ovarian Cancer Screening', '04_11.txt', '0.5126306414604187',\n",
       "        ..., '0.5068788481271703', '2.5722638823140977', '51'],\n",
       "       ['Breast Imaging of Pregnant and Lactating Women', '01_02.txt',\n",
       "        '0.497243732213974', ..., '0.4634212727459952',\n",
       "        '2.4033595249392645', '1'],\n",
       "       ...,\n",
       "       ['Imaging of Mesenteric Ischemia', '11_08.txt',\n",
       "        '0.323648065328598', ..., '0.17980315496514998',\n",
       "        '1.0215844723579515', '171'],\n",
       "       ['Pelvic Floor Dysfunction', '04_12.txt', '0.3007028102874756',\n",
       "        ..., '0.17241342259443493', '1.013586175233027', '52'],\n",
       "       ['Penetrating Trauma–Lower Abdomen and Pelvis', '10_09.txt',\n",
       "        '0.2872193455696106', ..., '0.17338413348191395',\n",
       "        '0.9780466064928', '152']], dtype='<U120')"
      ]
     },
     "execution_count": 3,
     "metadata": {},
     "output_type": "execute_result"
    }
   ],
   "source": [
    "hard_biosent[0]"
   ]
  },
  {
   "cell_type": "code",
   "execution_count": 4,
   "metadata": {
    "scrolled": true
   },
   "outputs": [
    {
     "data": {
      "text/plain": [
       "array([['Breast Imaging of Pregnant and Lactating Women', '01_02.txt',\n",
       "        '0.4927057921886444', ..., '0.4954610896774535',\n",
       "        '2.4755672909821285', '1'],\n",
       "       ['Breast Cancer Screening', '01_01.txt', '0.4871990978717804',\n",
       "        ..., '0.4618334362227252', '2.4101364878769314', '0'],\n",
       "       ['Stage I Breast Cancer: Initial Workup and Surveillance for Local Recurrence and Distant Metastases in Asymptomatic Women',\n",
       "        '01_09.txt', '0.4944331645965576', ..., '0.4352562255450799',\n",
       "        '2.2411942859854443', '8'],\n",
       "       ...,\n",
       "       ['Tinnitus', '07_24.txt', '0.3057592213153839', ...,\n",
       "        '0.17592038406092247', '1.0035441128360725', '111'],\n",
       "       ['Radiologic Management of Lower-Extremity Venous Insufficiency',\n",
       "        '11_15.txt', '0.2616093158721924', ..., '0.10929150274278421',\n",
       "        '0.7885968652630359', '178'],\n",
       "       ['Radiologic Management of Lower-Extremity Venous Insufficiency',\n",
       "        '12_12.txt', '0.2616093158721924', ..., '0.10929150274278421',\n",
       "        '0.7885968652630359', '198']], dtype='<U120')"
      ]
     },
     "execution_count": 4,
     "metadata": {},
     "output_type": "execute_result"
    }
   ],
   "source": [
    "hard_tfidf[0]"
   ]
  },
  {
   "cell_type": "code",
   "execution_count": 5,
   "metadata": {
    "scrolled": true
   },
   "outputs": [
    {
     "ename": "FileNotFoundError",
     "evalue": "[Errno 2] No such file or directory: '../resources/artificial_indications_filled_v2.csv'",
     "output_type": "error",
     "traceback": [
      "\u001b[0;31m---------------------------------------------------------------------------\u001b[0m",
      "\u001b[0;31mFileNotFoundError\u001b[0m                         Traceback (most recent call last)",
      "\u001b[0;32m<ipython-input-5-666ac21b6d82>\u001b[0m in \u001b[0;36m<module>\u001b[0;34m\u001b[0m\n\u001b[1;32m      2\u001b[0m \u001b[0;34m\u001b[0m\u001b[0m\n\u001b[1;32m      3\u001b[0m \u001b[0min_f\u001b[0m \u001b[0;34m=\u001b[0m \u001b[0;34m'../resources/artificial_indications_filled_v2.csv'\u001b[0m\u001b[0;34m\u001b[0m\u001b[0;34m\u001b[0m\u001b[0m\n\u001b[0;32m----> 4\u001b[0;31m \u001b[0mreader\u001b[0m \u001b[0;34m=\u001b[0m \u001b[0mcsv\u001b[0m\u001b[0;34m.\u001b[0m\u001b[0mreader\u001b[0m\u001b[0;34m(\u001b[0m\u001b[0mopen\u001b[0m\u001b[0;34m(\u001b[0m\u001b[0min_f\u001b[0m\u001b[0;34m)\u001b[0m\u001b[0;34m)\u001b[0m\u001b[0;34m\u001b[0m\u001b[0;34m\u001b[0m\u001b[0m\n\u001b[0m\u001b[1;32m      5\u001b[0m \u001b[0;34m\u001b[0m\u001b[0m\n\u001b[1;32m      6\u001b[0m \u001b[0mhard_queries\u001b[0m \u001b[0;34m=\u001b[0m \u001b[0;34m[\u001b[0m\u001b[0;34m]\u001b[0m\u001b[0;34m\u001b[0m\u001b[0;34m\u001b[0m\u001b[0m\n",
      "\u001b[0;31mFileNotFoundError\u001b[0m: [Errno 2] No such file or directory: '../resources/artificial_indications_filled_v2.csv'"
     ]
    }
   ],
   "source": [
    "import csv\n",
    "\n",
    "in_f = '../resources/artificial_indications_filled_v2.csv'\n",
    "reader = csv.reader(open(in_f))\n",
    "\n",
    "hard_queries = []\n",
    "hard_etiologies = []\n",
    "categories = []\n",
    "for row in reader:\n",
    "    etiologies = []\n",
    "    if row[2] != 'narr_names': # Don't include header row\n",
    "#         print(row)\n",
    "        [_,name,narr_name, simple, difficult, _,_,_,_,_,_,_,_,_,_,_] = row\n",
    "        \n",
    "        etiologies = row[5:14]\n",
    "        print(etiologies)\n",
    "        hard_etiologies.append(etiologies)\n",
    "        \n",
    "        category = row[14]\n",
    "        print(category)\n",
    "        categories.append(category)\n",
    "        if difficult != '':\n",
    "            hard_queries.append([name, narr_name, difficult, '', '', ''])"
   ]
  },
  {
   "cell_type": "code",
   "execution_count": null,
   "metadata": {
    "scrolled": true
   },
   "outputs": [],
   "source": [
    "in_f = '/mnt/c/users/gunu1/documents/ucsf_rad/acr_project/resources/relevance_criteria.csv'\n",
    "reader = csv.reader(open(in_f))\n",
    "\n",
    "criteria = []\n",
    "for row in reader:\n",
    "    if row[0] != 'file_code': # Don't include header row\n",
    "        criteria.append(row)\n",
    "        "
   ]
  },
  {
   "cell_type": "code",
   "execution_count": null,
   "metadata": {
    "scrolled": true
   },
   "outputs": [],
   "source": [
    "import math\n",
    "\n",
    "def calc_relevance(doc_index,query_index):\n",
    "    rel = 0\n",
    "    \n",
    "    doc_eti = criteria[doc_index][2:-2]\n",
    "    query_eti = hard_etiologies[query_index]\n",
    "    \n",
    "    for i in range(len(doc_eti)):\n",
    "        if query_eti[i] == \"x\" and doc_eti[i] == \"x\" and i!=3:\n",
    "            rel = 1\n",
    "    \n",
    "    \n",
    "    if doc_eti[3] == \"x\" and categories[query_index] == criteria[doc_index][-2]:\n",
    "        rel += 1\n",
    "    \n",
    "    return rel/2\n",
    "            \n",
    "\n",
    "names = list(np.load('../resources/names.npy'))\n",
    "\n",
    "tfidf_rel = []\n",
    "biosent_rel = []\n",
    "\n",
    "for max_counter in range(1,51):\n",
    "    for query_i,query in enumerate(hard_queries):\n",
    "        this_tfidf_rel = 0\n",
    "        this_biosent_rel = 0\n",
    "\n",
    "        #iterating in one query\n",
    "        counter = 0\n",
    "        for rank_i,eachdoc in enumerate(hard_tfidf[query_i]):\n",
    "    #         print(rank_i)\n",
    "    #         print(hard_tfidf[query_i][rank_i][0])\n",
    "\n",
    "            if(hard_tfidf[query_i][rank_i][0] != hard_tfidf[query_i][rank_i+1][0]):\n",
    "                this_rel = calc_relevance(names.index(hard_tfidf[query_i][rank_i][1]),query_i)\n",
    "                this_tfidf_rel += (this_rel)/(math.log(counter+2,2))\n",
    "    #             print(this_tfidf_rel)\n",
    "                counter += 1\n",
    "\n",
    "            if counter >= max_counter:\n",
    "                break;\n",
    "\n",
    "\n",
    "        counter = 0\n",
    "        for rank_i,eachdoc in enumerate(hard_biosent[query_i]):\n",
    "    #         print(rank_i)\n",
    "    #         print(hard_biosent[query_i][rank_i][0])\n",
    "\n",
    "            if(hard_biosent[query_i][rank_i][0] != hard_biosent[query_i][rank_i+1][0]):\n",
    "                this_rel = calc_relevance(names.index(hard_biosent[query_i][rank_i][1]),query_i)\n",
    "                this_biosent_rel += (this_rel)/(math.log(counter+2,2))\n",
    "                counter += 1\n",
    "\n",
    "            if counter >= max_counter: #max = 188\n",
    "                break;\n",
    "\n",
    "        tfidf_rel.append(this_tfidf_rel)\n",
    "        biosent_rel.append(this_biosent_rel)\n",
    "\n",
    "    print(np.mean(biosent_rel))"
   ]
  },
  {
   "cell_type": "code",
   "execution_count": null,
   "metadata": {
    "scrolled": true
   },
   "outputs": [],
   "source": [
    "ct = 0\n",
    "for x in range(len(tfidf_rel)):\n",
    "    if tfidf_rel[x] > biosent_rel[x]:\n",
    "        print(x, tfidf_rel[x]-biosent_rel[x])\n",
    "        ct += 1\n",
    "        \n",
    "ct"
   ]
  }
 ],
 "metadata": {
  "kernelspec": {
   "display_name": "Python 3",
   "language": "python",
   "name": "python3"
  },
  "language_info": {
   "codemirror_mode": {
    "name": "ipython",
    "version": 3
   },
   "file_extension": ".py",
   "mimetype": "text/x-python",
   "name": "python",
   "nbconvert_exporter": "python",
   "pygments_lexer": "ipython3",
   "version": "3.6.9"
  }
 },
 "nbformat": 4,
 "nbformat_minor": 4
}
