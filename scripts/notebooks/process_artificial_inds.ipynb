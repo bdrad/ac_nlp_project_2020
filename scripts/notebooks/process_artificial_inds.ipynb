{
 "cells": [
  {
   "cell_type": "code",
   "execution_count": 1,
   "metadata": {},
   "outputs": [
    {
     "name": "stdout",
     "output_type": "stream",
     "text": [
      "model successfully loaded\n"
     ]
    }
   ],
   "source": [
    "import sent2vec\n",
    "filename = '../resources/BioSentVec.bin'\n",
    "model = sent2vec.Sent2vecModel()\n",
    "try:\n",
    "\tmodel.load_model(filename)\n",
    "except Exception as e:\n",
    "\tprint(e)\n",
    "print('model successfully loaded')"
   ]
  },
  {
   "cell_type": "code",
   "execution_count": 2,
   "metadata": {},
   "outputs": [],
   "source": [
    "from biosentvec_embeds_fxn import run_me"
   ]
  },
  {
   "cell_type": "code",
   "execution_count": 3,
   "metadata": {},
   "outputs": [],
   "source": [
    "import csv\n",
    "import biosentvec_embeds_fxn\n",
    "import biosentvec_embeds_tfidf_fxn\n",
    "import xlsxwriter\n",
    "import numpy as np\n",
    "import random\n",
    "\n",
    "import re"
   ]
  },
  {
   "cell_type": "code",
   "execution_count": 4,
   "metadata": {},
   "outputs": [],
   "source": [
    "in_f = '../resources/artificial_indications_filled_v2.csv'\n",
    "reader = csv.reader(open(in_f))\n",
    "easy_queries = []\n",
    "hard_queries = []\n",
    "for row in reader:\n",
    "    if row[2] != 'narr_names': # Don't include header row\n",
    "        [_,name,narr_name, simple, difficult, _, _] = row\n",
    "        if simple != '':\n",
    "            easy_queries.append([simple, '', '', ''])\n",
    "        if difficult != '':\n",
    "            hard_queries.append([difficult, '', '', ''])"
   ]
  },
  {
   "cell_type": "code",
   "execution_count": 56,
   "metadata": {},
   "outputs": [
    {
     "name": "stdout",
     "output_type": "stream",
     "text": [
      "['screen', 'for', 'breast', 'cancer', 'in', '52', 'yo', 'female', 'year', 'old']\n",
      "['genetic', 'screening', 'shows', 'brca1', 'mutation', '.', 'high', 'risk', 'screening', 'breast', 'cancer', '1']\n",
      "['firm', 'mass', 'in', 'left', 'breast', ',', 'pregnant', ',', 'screen', 'for', 'malignancy']\n",
      "['firm', 'mass', 'in', 'left', 'breast', 's/p', 'hip', 'surgery', ',', 'history', 'of', 'diabetes', 'and', 'hypertension', ',', 'recent', 'pregnancy', ',', 'normal', 'lactation']\n",
      "['s/p', 'silicone', 'breast', 'implantation']\n",
      "['s/p', 'right', 'mastectomy', 'and', 'bilateral', 'breast', 'implant', 'reconstruction', ',', 'check', 'for', 'potential', 'rupture', 'status', 'post']\n",
      "['focal', 'right', 'breast', 'pain']\n",
      "['strong', 'family', 'history', 'of', 'breast', 'cancer', ',', 'planning', 'for', 'bilateral', 'mastectomy', '.', 'evaluate', 'for', 'intermittent', 'mild', 'right', 'breast', 'pain', 'at', 'site', 'of', 'surgery']\n",
      "['right', 'breast', 'nipple', 'discharge']\n",
      "['right', 'breast', 'white', 'non-spontaneous', 'nipple', 'discharge', ',', 'recent', 'maternity', '.', 'family', 'history', 'of', 'heart', 'disease', ',', 'diabetes']\n",
      "['palpable', 'breast', 'mass', ',', 'male']\n",
      "['man', 'with', 'palpable', 'mass', 'in', 'left', 'breast', 'and', 'nipple', 'retraction', '.', 'rule', 'out', 'breast', 'cancer', '.', 'history', 'of', 'hcv', 'infection', '.', 'hepatitis', 'C', 'virus']\n",
      "['breast', 'cancer', 'neoadjuvant', 'chemotherapy']\n",
      "['breast', 'cancer', 'diagnosed', '3', 'months', 'ago', ',', 'monitoring', 'for', 'chemotherapy', 'before', 'surgery', 'scheduled', 'in', '2', 'months']\n",
      "['breast', 'mass', 'on', 'physicial', 'exam']\n",
      "['55yo', 'woman', 'with', 'palpable', 'masses', 'in', 'left', 'breast', ',', 'initial', 'evaluation', '.', 'history', 'of', 'hyperlipidemia', '.']\n",
      "['breast', 'cancer', 'stage', 'i', 'workup']\n",
      "['newly', 'diagnosed', 'stage', 'i', 'breast', 'cancer', ',', 'concerning', 'for', 'metastases', '.', 'history', 'of', 'stroke']\n",
      "['chest', 'pain', 'evaluate', 'for', 'aortic', 'dissection']\n",
      "['acute', 'upper', 'back', 'and', 'chest', 'pain', 'radiates', 'to', 'neck', ',', 'concerning', 'for', 'aortic', 'dissection', '.', 'history', 'of', 'hypertension', ',', 'hyperlipidemia']\n",
      "['acute', 'chest', 'pain', 'no', 'ekg', 'changes', 'electrokardiogram']\n",
      "['60', 'yo', 'man', 'with', 'acute', 'chest', 'pain', ',', 'ruled', 'out', 'mi', '.', 'history', 'of', 'hypertension', 'year', 'old']\n",
      "['screen', 'for', 'cad', 'before', 'surgery']\n",
      "['asymptomatic', '70yo', 'patient', 'with', 'benign', 'tumor', '.', 'screen', 'for', 'coronary', 'artery', 'disease', 'prior', 'to', 'elective', 'tumor', 'resection', '.']\n",
      "['chest', 'trauma', 'motorvehicle', 'accident']\n",
      "['25yo', 'male', 'coming', 'in', 'after', 'a', 'high', 'speed', 'motorvehicle', 'accident', '.', 'evaluate', 'for', 'potential', 'chest', 'trauma', '.', 'no', 'significiant', 'medical', 'history']\n",
      "['substernal', 'chest', 'pressure', ',', 'suspected', 'mi']\n",
      "['60', 'yo', 'with', 'history', 'of', 'mi', ',', 'hypertension', ',', 'hyperlipidemia', '.', 'substernal', 'chest', 'pressure', ',', 'high', 'likelihood', 'of', 'acute', 'mi', 'year', 'old']\n",
      "['chronic', 'chest', 'pain', 'upon', 'exertion']\n",
      "['chest', 'pain', 'upon', 'exertion', ',', 'with', 'history', 'of', 'hypertension', ',', 'hyperlipidemia', '.', 'family', 'history', 'of', 'stroke', 'and', 'mi', '.', 'evaluate', 'for', 'coronary', 'artery', 'disease']\n",
      "['chronic', 'chest', 'pain', 'evaluate', 'for', 'coronary', 'artery', 'disease']\n",
      "['chronic', 'chest', 'pain', 'with', 'history', 'of', 'hyperlipidemia', '.', 'family', 'history', 'of', 'coronary', 'artery', 'disease', 'and', 'heart', 'failure', '.']\n",
      "['dyspnea', 'likely', 'cardiac']\n",
      "['70', 'yo', 'male', 'with', 'dsypnea', 'and', 'history', 'of', 'myocardial', 'infarction', 'and', 'known', 'coronary', 'artery', 'disease', '.', 'year', 'old']\n",
      "['tavr', 'planning', 'transcatheter', 'aortic', 'valve', 'replacement']\n",
      "['patient', 'with', 'aortic', 'valve', 'calcification', 'needing', 'replacement', '.', 'history', 'of', 'uncontrolled', 'hypertension']\n",
      "['congenital', 'heart', 'disease', 'suspected']\n",
      "['25yo', 'with', 'systolic', 'murmur', 'and', 'mustard', 'procedure', ',', 'evaluate', 'for', 'flow', 'issues']\n",
      "['suspected', 'hypertrophic', 'myocardiopathy']\n",
      "['30yo', 'with', 'no', 'ekg', 'findings', '.', 'family', 'history', 'of', 'hypertrophic', 'myocardiopathy', 'electrokardiogram']\n",
      "['endocarditis', 'suspected']\n",
      "['42yo', 'with', 'aortic', 'systolic', 'heart', 'murmur', ',', 'history', 'of', 'iv', 'injections', 'of', 'heroin', '.']\n",
      "['heart', 'failure', 'suspected']\n",
      "['chronic', 'dsypnea', ',', 'stable', 'angina', ',', 'peripheral', 'edema', '.', 'history', 'of', 'hypertension', ',', 'hyperlipidemia', '.', 'suspected', 'heart', 'failure', '.']\n",
      "['eval', 'for', 'pulmonary', 'embolism']\n",
      "['acute', 'right', 'lower', 'chest', 'pain', 'with', 'tachypnea', '.', 'history', 'of', 'deep', 'vein', 'thrombosis', ',', 'recent', 'surgery', '.']\n",
      "['general', 'abdominal', 'pain']\n",
      "['general', 'abdominal', 'pain', 'with', 'recent', 'bowel', 'resection', 'surgery', '.']\n",
      "['elevated', 'amylase', 'suspected', 'pancreatitis']\n",
      "['acute', 'epigastric', 'pain', 'with', 'elevated', 'amylase', ',', 'leukocytosis', ',', 'fever', '.', 'suspected', 'pancreatitis', '.', 'history', 'of', 'biliary', 'cholangitis']\n",
      "['monitoring', 'alcoholic', 'liver', 'disease']\n",
      "['55yo', 'male', 'with', '20', 'year', 'history', 'of', 'alcohol', 'use', 'disorder', ',', 'alcoholic', 'liver', 'disease', '.', 'screen', 'for', 'hepatocellular', 'carcinoma']\n",
      "['screen', 'for', 'colorectal', 'cancer', ',', 'high', 'risk']\n",
      "['father', 'had', 'crc', 'at', 'age', '70.', 'colorectal', 'cancer', 'screening', 'colorectal', 'cancer']\n",
      "['abdominal', 'pain', 'suspected', 'crohn', \"'s\", 'disease']\n",
      "['episodic', 'abdominal', 'pain', ',', 'diarrhea', ',', 'and', 'fatigue', '.', 'family', 'history', 'of', 'crohn', \"'s\", 'disease']\n",
      "['postoperative', 'dysphagia']\n",
      "['inability', 'to', 'swallow', 'without', 'clear', 'cause', ',', 'rule', 'out', 'achlasia', 'constant', 'level', 'appearance']\n",
      "['severe', 'abdominal', 'pain', 'suspected', 'mesenteric', 'ischemia']\n",
      "['78yo', 'female', 'with', 'history', 'of', 'hyperlipidemia', 'presents', 'with', 'hyperacute', 'servere', 'and', 'diffuse', 'abdominal', 'pain', '.', 'concerning', 'for', 'acute', 'mesenteric', 'ischemia']\n",
      "['jaundice', 'with', 'history', 'of', 'cholelithiasis']\n",
      "['68yo', 'with', 'history', 'of', 'hyperlipidemia', ',', 'hypertension', ',', 'and', 'diabetes', 'mellitus', 'presents', 'with', 'icteric', 'sclera', 'with', 'history', 'of', 'nonalcoholic', 'fatty', 'liver', 'disease']\n",
      "['llq', 'abdominal', 'pain', 'left', 'lower', 'quadrant']\n",
      "['70yo', 'with', 'chronic', 'llq', 'abdominal', 'pain', 'and', 'bloating', ',', 'acute', 'fever', '.', 'suspected', 'diverticulitis', 'left', 'lower', 'quadrant']\n",
      "['liver', 'mass', 'incidental', 'ultrasound', 'finding']\n",
      "['50yo', 'with', 'incidental', 'finding', 'of', '2', 'cm', 'liver', 'mass', 'on', 'abdominal', 'ultrasound', '.', 'no', 'history', 'of', 'liver', 'disease', '.', 'centimeter']\n",
      "['esophageal', 'bleeding', 'history', 'of', 'esophageal', 'ulcer']\n",
      "['endoscopy', 'revealed', 'esophageal', 'bleeding', 'likely', 'from', 'ulcer', '.', 'history', 'of', 'gerd', 'and', 'hypertension', '.', 'gastroesophageal', 'reflux', 'disease']\n",
      "['ruq', 'abdominal', 'mass', 'right', 'upper', 'quadrant']\n",
      "['55yo', 'with', 'asymptomatic', 'ruq', 'abdominal', 'mass', ',', 'with', 'family', 'history', 'of', 'breast', 'cancer', 'and', 'colon', 'cancer', '.', 'right', 'upper', 'quadrant']\n",
      "['pancreatic', 'cyst', 'workup']\n",
      "['78yo', 'with', 'ct', 'abdomen', 'incidentally', 'finding', 'a', '4', 'cm', 'pancreatic', 'cyst', '.', 'history', 'of', 'hypertension', 'centimeter']\n",
      "['stage', 'rectal', 'cancer']\n",
      "['recent', 'diagnosis', 'of', 'colorectal', 'cancer', ',', 'screen', 'for', 'potential', 'metastases', '.', 'no', 'significant', 'other', 'medical', 'history']\n",
      "['suspected', 'appendicitis']\n",
      "['patient', 'with', 'hyperacute', 'onset', 'rlq', 'pain', 'and', 'fever', '.', 'suspected', 'appendicitis', '.', 'no', 'significant', 'other', 'medical', 'history', 'right', 'lower', 'quadrant']\n",
      "['ruq', 'abdominal', 'pain', 'and', 'fever', 'right', 'upper', 'quadrant']\n",
      "['55yo', 'male', 'with', 'acute', 'onset', 'ruq', 'abdominal', 'pain', 'and', 'fever', ',', 'suspected', 'biliary', 'cholangitis', '.', 'history', 'of', 'cholelithiasis', 'right', 'upper', 'quadrant']\n",
      "['stage', 'pancreatic', 'cancer']\n",
      "['history', 'of', 'pancreatic', 'adenocarcinoma', ',', 'receiving', 'neoadjuvant', 'therapy', '.', 'evaluate', 'for', 'pancreatic', 'resection']\n",
      "['abdominal', 'pain', ',', 'nausea', '.', 'suspected', 'small', 'bowel', 'obstruction']\n",
      "['acute', 'onset', 'abdominal', 'pain', ',', 'nausea', ',', 'and', 'constipation', '.', 'evaluate', 'for', 'small', 'bowel', 'obstruction', '.', 'history', 'of', 'hypertension']\n",
      "['postmenopausal', 'vaginal', 'bleeding']\n",
      "['27yo', 'with', 'vaginal', 'bleeding', '.', 'postmenopausal', '.', 'endometrial', '>', '5', 'cm', 'by', 'ultrasound', '.', 'centimeter']\n",
      "['20yo', 'with', 'acute', 'pelvic', 'pain']\n",
      "['30yo', 'with', 'pelvic', 'pain', ',', 'nausea', ',', 'and', 'vomiting', 'for', '2', 'days', '.', 'not', 'pregnant']\n",
      "['abnormal', 'afp', 'assess', 'for', 'fetal', 'well', 'being', 'alpha', 'fetoprotein']\n",
      "['25yo', 'g2p1', '37', 'weeks', 'gestational', 'age', ',', 'complaining', 'of', 'lack', 'of', 'fetal', 'movement', 'for', 'the', 'last', '12', 'hours']\n",
      "['routine', 'prenatal', 'visit', 'of', 'woman', 'with', 'preterm', 'deliveries', ',', 'assess', 'the', 'cervix']\n",
      "['24yo', 'g3p2', 'with', 'history', 'of', 'two', 'preterm', 'deliveries', 'presenting', 'for', 'routine', 'ultrasound', 'for', 'routine', 'anatomy', 'scan']\n",
      "['suspected', 'adnexal', 'malignancy']\n",
      "['68yo', 'woman', 'with', 'family', 'history', 'of', 'breast', 'cancer', ',', 'presenting', 'with', '10', 'pound', 'weight', 'loss', 'over', 'a', 'month', 'and', 'bloating', ',', 'suspected', 'pelvic', 'malignancy']\n",
      "['failure', 'to', 'conceive', 'with', 'history', 'of', 'irregular', 'periods', '.', 'infertility', 'workup']\n",
      "['24yo', 'g0p0', 'with', 'history', 'of', 'irregular', 'periods', 'and', 'type', '2', 'diabetes', 'presenting', 'with', 'failure', 'to', 'conceive', 'for', '14', 'months']\n",
      "['spotting', 'at', '11', 'weeks', 'of', 'gestational', 'age', ',', 'first', 'trimester', 'bleeding']\n",
      "['22yo', 'g1p0', 'presenting', 'with', 'spotting', 'at', '11', 'weeks', 'of', 'gestational', 'age']\n",
      "['evaluate', 'for', 'gestational', 'trophoblastic', 'disease']\n",
      "['21yo', 'g2p0a1', 'with', 'history', 'of', 'recent', 'termination', 'procedure', 'presenting', 'with', 'vaginal', 'bleeding', 'and', 'vomiting', 'for', 'a', 'week']\n",
      "['elevated', 'blood', 'pressure', 'and', 'gestational', 'diabetes', ',', 'presenting', 'for', 'fetal', 'growth', 'assessment']\n",
      "['23yo', 'g1p0', 'with', 'history', 'of', 'gestational', 'hypertension', 'and', 'high', 'glucose', 'presenting', 'for', 'growth', 'ultrasound', 'at', '28', 'weeks', 'gestational', 'age']\n",
      "['twin', 'pregnancy', ',', 'determine', 'chorionicity']\n",
      "['27yo', 'g1p0', 'with', 'twin', 'pregnancy', 'presenting', 'for', 'routine', 'anatomy', 'scan']\n",
      "['brca1', 'positive', 'ovarian', 'cancer', 'screening', 'breast', 'cancer', '1']\n",
      "['70yo', 'with', 'genetic', 'predisposition', 'for', 'ovarian', 'malignancy', ',', 'screening']\n",
      "['incontinence', ',', 'suspected', 'vaginal', 'prolapse']\n",
      "['82yo', 'g4p2', 'presenting', 'with', 'incontinence', 'and', 'encopresis', 'for', '6', 'months']\n",
      "['vaginal', 'dryness', 'and', 'pain']\n",
      "['58yo', 'presenting', 'with', 'vaginal', 'bleeding', ',', 'pain', ',', 'and', 'itching']\n",
      "['grade', 'i', 'endometrial', 'cancer', ',', 'for', 'surgical', 'planning']\n",
      "['36yo', 'with', 'recent', 'endometrial', 'biopsy', 'showing', 'grade', 'i', 'endometrial', 'cancer', ',', 'presenting', 'for', 'surgical', 'evaluation']\n",
      "['surgical', 'evaluation', 'for', 'stage', 'ib2', 'cervical', 'cancer']\n",
      "['42yo', 'with', 'recent', 'diagnosis', 'of', 'stage', 'ib2', 'cervical', 'cancer', 'presenting', 'for', 'surgical', 'evalutation', ',', 'requesting', 'mri', 'scan', 'magnetic', 'resonance', 'imaging']\n",
      "['vaginal', 'bleeding', 'suspected', 'placenta', 'previa']\n",
      "['31yo', 'g3p2', 'with', 'history', 'of', '2', 'cesarean', 'sections', 'presenting', 'with', 'third', 'trimester', 'vaginal', 'bleeding']\n",
      "['suspected', 'recurrence', 'of', 'high', 'grade', 'ovarian', 'cancer', 'in', 'remission']\n",
      "['68yo', 'with', 'history', 'of', 'high', 'grade', 'ovarian', 'cancer', 'status', 'post', 'surgical', 'resection', 'and', 'chemotherapy', ',', 'in', 'remission', 'for', '10', 'months', ',', 'presenting', 'with', 'abdominal', 'pressure', 'and', 'fatigue', ',', 'suspected', 'recurrence', 'of', 'malignancy']\n",
      "['vaginal', 'bleeding', 'suspected', 'placental', 'abnormality']\n",
      "['25yo', 'g2p1', 'with', 'history', 'of', 'myomectomy', 'and', 'one', 'cesarean', 'section', 'presenting', 'with', 'hematuria', ',', 'concerning', 'for', 'placental', 'abnormality']\n",
      "['motorvehicle', 'collision', ',', 'bleeding', 'and', 'bruising', 'from', 'abdomen', 'and', 'legs']\n",
      "['patient', 'post', 'motorvehicle', 'collision', ',', 'hemodynamically', 'stable', ',', 'abdominal', 'and', 'facial', 'bruising']\n"
     ]
    },
    {
     "name": "stdout",
     "output_type": "stream",
     "text": [
      "['hand', 'pain', 'after', 'fall']\n",
      "['10yo', 'with', 'wrist', 'pain', 'and', 'swelling', 'after', 'falling', 'while', 'playing', 'soccer', '.', 'no', 'external', 'bleeding', '.']\n",
      "['hip', 'pain', 'after', 'ground-level', 'fall']\n",
      "['80yo', 'woman', 'with', 'history', 'of', 'hypertension', 'presenting', 'with', 'left', 'hip', 'pain', 'after', 'ground-level', 'fall']\n",
      "['suspected', 'ankle', 'sprain']\n",
      "['18yo', 'male', 'with', 'ankle', 'swelling', 'and', 'pain', 'after', 'playing', 'basketball', '.', 'able', 'to', 'walk', 'independently', 'but', 'with', 'pain', '.', 'ankle', 'is', 'tender', '.']\n",
      "['nonpenetrating', 'foot', 'injury', 'suspected', 'fracture']\n",
      "['40yo', 'with', '8/10', 'dorsal', 'left', 'foot', 'pain', 'after', 'dropping', 'tool', 'on', 'foot', '.', 'not', 'able', 'to', 'put', 'weight', 'on', 'left', 'foot', '.', 'suspected', 'fracture', '.']\n",
      "['knee', 'injury', 'after', 'fall', 'suspected', 'pcl', 'tear', 'posterior', 'cruciate', 'ligament']\n",
      "['patient', 'with', 'knee', 'pain', 'after', 'twisting', 'injury', 'while', 'playing', 'football', '.', 'not', 'able', 'to', 'walk', 'independently', '.', 'negative', 'varus', 'and', 'valgus', 'tests', '.', 'positive', 'lachman', 'test', '.']\n",
      "['intermittent', 'ankle', 'pain', 'for', '2', 'years']\n",
      "['70yo', 'with', 'history', 'of', 'lung', 'adenocarcinoma', 'in', 'remission', 'presents', 'with', 'new', 'and', 'progressive', 'ankle', 'pain', 'for', 'the', 'past', '6', 'months', '.']\n",
      "['progressive', 'lower', 'back', 'stiffness', 'and', 'pain']\n",
      "['66yo', 'female', 'with', 'family', 'history', 'of', 'arthritis', 'presenting', 'with', 'gradual', 'onset', 'lower', 'back', 'stiffness', 'associated', 'with', 'fatigue', 'over', '6', 'months', '.', 'suspected', 'ankylosing', 'spondylitis']\n",
      "['elbow', 'pain', 'and', 'limited', 'range', 'of', 'motion', 'for', '3', 'months']\n",
      "['25yo', 'tennis', 'player', 'presenting', 'with', 'progressive', 'right', 'elbow', 'pain', 'for', 'the', 'past', '4', 'months', '.', 'suspected', 'lateral', 'epicondylitis']\n",
      "['bilateral', 'interphalangeal', 'joint', 'redness', 'and', 'pain', '.', 'suspected', 'erosive', 'osteoarthritis']\n",
      "['64yo', 'woman', 'with', 'history', 'of', 'obesity', 'and', 'alcohol', 'use', 'disorder', 'presents', 'with', 'chronic', 'onset', 'of', 'progressive', 'big', 'toe', 'pain', 'and', 'swelling', '.', 'transesophageal', 'echocardiography']\n",
      "['chronic', 'onset', 'pain', 'and', 'bilateral', 'flat', 'foot']\n",
      "['35yo', 'with', 'history', 'of', 'diabetes', 'presents', 'with', 'chronic', 'bilateral', 'foot', 'pain', 'on', 'the', 'planar', 'surface', 'of', 'the', 'heel']\n",
      "['pain', 'suspected', 'femoroacetabular', 'impingment']\n",
      "['65yo', 'male', 'with', 'history', 'of', 'hypertension', 'and', 's/p', 'cabg', 'surgery', 'presents', 'with', 'progressive', 'right', 'hip', 'pain', '.', 'initial', 'study', '.', 'coronary', 'artery', 'bypass', 'graft']\n",
      "['progressive', 'knee', 'pain', 'for', '11', 'months', ',', 'suspected', 'knee', 'effusion']\n",
      "['62yo', 'female', 'with', 'history', 'of', 'diabetes', 'presents', 'with', 'progressive', 'bilateral', 'knee', 'pain', 'for', 'the', 'past', '5', 'months', '.', 'initial', 'study', '.']\n",
      "['chronic', 'hand', 'and', 'wrist', 'pain', 'and', 'weakness', '.', 'evaluate', 'for', 'carpal', 'tunnel', 'syndrome']\n",
      "['45yo', 'with', 'family', 'history', 'of', 'arthritis', 'presents', 'with', 'worsening', 'right', 'wrist', 'pain', 'for', 'the', 'past', 'year', '.', 'previous', 'radiographs', 'negative', '6', 'months', 'ago', '.']\n",
      "['osteosarcoma', 'with', 'right', 'knee', 'pain', '.', 'evaluate', 'for', 'metastases']\n",
      "['55yo', 'with', 'previous', 'diagnosis', 'of', 'multiple', 'myeloma', ',', 'presenting', 'for', 'worsening', 'fatigue', 'and', 'weight', 'loss', '.', 'evaluate', 'for', 'metastases', '.']\n",
      "['pain', 'after', 'shoulder', 'replacement', 'surgery']\n",
      "['patient', 'with', 'history', 'of', 'medically', 'managed', 'hiv', 's/p', 'right', 'total', 'shoulder', 'arthoplasty', 'presenting', 'with', 'fever', 'and', 'shoulder', 'pain', 'and', 'swelling', '.', 'human', 'immunodeficiency', 'virus']\n",
      "['pain', 'and', 'swelling', 'after', 'total', 'hip', 'replacement']\n",
      "['65yo', 'woman', 's/p', 'right', 'total', 'hip', 'replacement', 'after', 'a', 'ground-level', 'fall', '.', 'no', 'swelling', 'or', 'impaired', 'mobility', '.', 'follow-up', 'evaluation', '.']\n",
      "['pain', 'and', 'swelling', 's/p', 'total', 'knee', 'arthroplasty', ',', 'suspect', 'infection']\n",
      "['69yo', 'with', 'history', 'of', 'coronary', 'artery', 'disease', 'and', 's/p', 'total', 'bilateral', 'knee', 'replacement', '2', 'months', 'ago', ',', 'presenting', 'with', 'persistent', 'bilateral', 'knee', 'pain', '.']\n",
      "['incidental', 'finding', 'of', 'lumbar', 'compression', 'fracture', ',', 'back', 'pain']\n",
      "['76yo', 'with', 'history', 'of', 'multiple', 'myeloma', 'presenting', 'with', 'new', 'back', 'pain', 'and', 'radiologically', 'confirmed', 'compression', 'fractures']\n",
      "['painful', 'hip', 'with', 'confirmed', 'collapsed', 'femoral', 'head']\n",
      "['36yo', 'with', 'history', 'of', 'steroid', 'use', 'and', 'alcohol', 'use', 'disorder', 'presenting', 'with', 'progressive', 'hip', 'pain', 'worse', 'when', 'bearing', 'weight', '.', 'suspected', 'avascular', 'necrosis', '.']\n",
      "['asymptomatic', '88yo', 'screening', 'for', 'low', 'bone', 'mineral', 'density']\n",
      "['84yo', 'man', 'with', 'history', 'of', 'smoking', 'presenting', 'with', 'loss', 'of', 'height', 'in', 'the', 'past', '2', 'years', 'and', 'back', 'pain', '.', 'suspected', 'low', 'bone', 'mineral', 'density']\n",
      "['bone', 'tumor', 'radiographically', 'suspected', ',', 'evaluate', 'for', 'staging']\n",
      "['72yo', 'with', 'history', 'of', 'lung', 'cancer', 'in', 'remission', 'presenting', 'with', 'fatigue', ',', 'unintended', 'weight', 'loss', ',', 'and', 'dull', 'right', 'thigh', 'pain', 'for', 'the', 'last', '5', 'months', '.', 'suspected', 'femoral', 'bone', 'tumor']\n",
      "['suspected', 'rotater', 'cuff', 'tear']\n",
      "['32yo', 'man', 'with', 'history', 'of', 'type', '2', 'diabetes', 'mellitus', 'and', 'obesity', 'presenting', 'with', 'worsening', 'left', 'shoulder', 'pain', 'stiffness', 'and', 'pain', 'over', 'the', 'last', '4', 'months', '.']\n",
      "['humeral', 'head', 'facture', 'confirmed', ',', 'evaluate', 'for', 'treatment']\n",
      "['18yo', 'female', 'with', 'persistent', 'shoulder', 'pain', 's/p', 'reduction', 'of', 'dislocated', 'shoulder', 'after', 'ground-level', 'fall', '3', 'days', 'ago', '.']\n",
      "['palpable', 'superficial', 'mass', 'on', 'right', 'knee']\n",
      "['60yo', 'female', 'with', 'history', 'of', 'hypertension', 'presents', 'with', 'right', 'groin', 'pain', ',', 'fatigue', ',', 'and', 'weight', 'loss', 'for', 'past', '3', 'months', '.', 'concerning', 'for', 'sarcoma']\n",
      "['leg', 'pain', 'during', 'exertion', ',', 'evaluate', 'for', 'stress', 'fracture']\n",
      "['55yo', 'woman', 'with', 'low', 'bmi', 'and', 'is', 'an', 'marathon', 'runner', 'presents', 'with', 'hip', 'pain', 'while', 'running', ',', 'suspected', 'stress', 'fracture', 'body', 'mass', 'index']\n",
      "['followup', 'study', 'of', 'diabetic', 'ulcers', 'and', 'foot', 'swelling']\n",
      "['65yo', 'woman', 'with', 'history', 'of', 'type', '1', 'diabetes', 'mellitus', 'for', '35', 'years', 'presents', 'with', 'bilateral', 'foot', 'ulcers', '>', '2cm', 'and', 'right', 'foot', 'swelling', 'and', 'pain', '.']\n",
      "['right', 'lower', 'extremity', 'cellulitis']\n",
      "['32yo', 'presenting', 'with', 'fever', 'and', 'right', 'arm', 'pain', 'after', 'workplace', 'penetrating', 'injury', '.', 'initial', 'radiographs', 'negative', 'for', 'foreign', 'bodies', '.', 'followup', 'study', '.']\n",
      "['suspected', 'cervical', 'spinal', 'cord', 'injury']\n",
      "['19yo', 'presenting', 'with', 'bilateral', 'leg', 'weakness', 'and', 'impaired', 'walking', 'after', 'a', 'motorcycle', 'accident', ',', 'suspected', 'lumbar', 'spine', 'injury', '.']\n",
      "['recent', 'ischemic', 'event', ',', 'acute', 'change', 'in', 'mental', 'status']\n",
      "['68yo', 's/p', 'cabg', 'surgery', '2', 'days', 'ago', 'and', 'history', 'of', 'hypertension', 'and', 'type', '2', 'diabetes', 'mellitus', 'presents', 'with', 'new', 'onset', 'of', 'progressive', 'delirium', '.', 'coronary', 'artery', 'bypass', 'graft']\n",
      "['ataxia', 'after', 'fall', 'from', 'ladder']\n",
      "['40yo', 's/p', 'motorvehicle', 'crash', 'presenting', 'with', 'ataxia', 'after', 'suspected', 'head', 'trauma', '.', 'no', 'external', 'bleeding']\n",
      "['sudden', 'headache', ',', 'double', 'vision', ',', 'suspected', 'hemmorrhage']\n",
      "['54yo', 'with', 'history', 'of', 'hyperlipidemia', 'presents', 'with', 'new', 'onset', 'right', 'hemiparesis', 'of', 'extermities', ',', 'right', 'facial', 'droop', ',', 'and', 'aphasia', '.', 'suspected', 'stroke']\n",
      "['new', 'onset', 'neck', 'pain', ',', 'first', 'study']\n",
      "['67yo', 'with', 'history', 'of', 'cervical', 'spine', 'fusion', 'for', 'herniated', 'discs', 'presents', 'with', 'new', 'and', 'progressive', 'neck', 'pain', 'for', 'the', 'past', 'month', '.']\n",
      "['new', 'onset', 'anosmia', ',', 'suspected', 'cranial', 'nerve', 'i', 'compression']\n",
      "['45yo', 'with', 'history', 'of', 'tia', 'presents', 'with', 'new', 'onset', 'left', 'facial', 'hemiparesis', '.', 'concerning', 'for', 'bell', 'palsy', 'transient', 'ischemic', 'attack']\n",
      "['mental', 'decline', 'suspected', 'alzheimer', \"'s\", 'disease']\n",
      "['73yo', 'with', 'family', 'history', 'of', 'lewy', 'body', 'dementia', 'presents', 'with', 'worsesning', 'memory', 'and', 'confusion', 'for', 'the', 'past', '6', 'months', '.']\n",
      "['head', 'injury', 'and', 'concussion', 'while', 'playing', 'sports']\n",
      "['22yo', 's/p', 'motorvehicle', 'crash', 'and', 'head', 'trauma', 'with', 'blurry', 'vision', '1', 'week', 'ago', 'presenting', 'for', 'follow-up', 'scan', 'with', 'no', 'new', 'symptoms', '.']\n",
      "['sudden', 'extremely', 'painful', 'headache']\n",
      "['45yo', 'with', 'history', 'of', 'cocaine', 'use', 'presenting', 'with', 'headaches', 'increasing', 'in', 'frequency', 'for', 'the', 'past', '4', 'months', '.']\n",
      "['1yo', 'with', 'congential', 'deafness', ',', 'evaluation', 'for', 'cochlear', 'implant']\n",
      "['38yo', 'with', 'episodes', 'of', 'dizziness', ',', 'vomiting', ',', 'difficulty', 'balancing', ',', 'and', 'partial', 'hearing', 'deficit', '.', 'suspected', 'peripheral', 'vertigo']\n",
      "['persistent', 'lower', 'back', 'pain', 'after', 'working', 'out', '1', 'week', 'ago']\n",
      "['45yo', 'with', 'lower', 'back', 'pain', 'that', 'radiates', 'down', 'the', 'leg', ',', 'loss', 'of', 'bladder', 'control', '.', 'suspected', 'cauda', 'equina', 'syndrome']\n",
      "['incidental', 'finding', 'of', 'lumbar', 'compression', 'fracture', ',', 'back', 'pain']\n",
      "['76yo', 'with', 'history', 'of', 'multiple', 'myeloma', 'presenting', 'with', 'new', 'back', 'pain', 'and', 'radiologically', 'confirmed', 'compression', 'fractures']\n",
      "['resting', 'tremor', ',', 'bradykinesia', ',', 'rigidity', '.', 'suspected', 'parkinsonianism']\n",
      "['47yo', 'with', 'family', 'history', 'of', 'huntington', \"'s\", 'disease', 'presenting', 'with', 'worsening', 'memory', ',', 'chorea', ',', 'and', 'anxiety']\n",
      "['pain', 'in', 'neck', 'radiating', 'down', 'arm', 'after', 'motorvehicle', 'accident', ',', 'suspected', 'cervical', 'myelopathy']\n",
      "['67yo', 'with', 'history', 'of', 'smoking', 'and', 'hypertension', 'presents', 'with', 'sudden', 'onset', 'bilateral', 'leg', 'pain', 'and', 'difficulty', 'walking', '2', 'days', 'ago', '.', 'concerning', 'for', 'lumbar', 'myelopathy', '.']\n",
      "['parotid', 'mass', 'suspected', 'tumor']\n",
      "['58yo', 'with', 'history', 'of', 'smoking', 'and', 'hypertension', 'presents', 'with', 'painless', 'pulsatile', 'mass', 'in', 'the', 'anterior', 'triangle', 'of', 'the', 'neck', ',', 'bruit', 'heard', '.']\n",
      "['diabetes', 'insipidus', 'suspected', ',', 'initial', 'study']\n",
      "['53yo', 'female', 'presenting', 'with', 'rounding', 'of', 'face', ',', 'abdominal', 'striae', ',', 'headache', ',', 'and', 'recent', 'weight', 'gain', ',', 'suspected', 'cushing', 'syndrome', '.']\n",
      "['right', 'eye', 'pain', 'and', 'blurred', 'vision', ',', 'suspected', 'optic', 'neuritis']\n",
      "['65yo', 'male', 'with', 'history', 'of', 'smoking', 'presents', 'with', 'chronic', 'right', 'eye', 'pain', ',', 'vision', 'changes', ',', 'and', 'progressive', 'bulging', 'forward', 'of', 'right', 'eyeball', '.', 'suspected', 'orbital', 'mass', '.']\n",
      "['penetrating', 'neck', 'injury', 'with', 'right', 'carotid', 'bruit']\n",
      "['18yo', 'female', 'presenting', 'with', 'hemoptsis', 'and', 'dysphonia', 'after', 'neck', 'stabbing', 'injury']\n",
      "['brachial', 'plexopathy', 'post', 'surgery']\n",
      "['patient', 'with', 'history', 'of', 'metastatic', 'small', 'cell', 'cancer', 'presents', 'with', 'progressive', 'shoulder', 'tingling', 'and', 'weakness', 'for', 'the', 'past', 'two', 'weeks', '.', 'evaluate', 'for', 'brachial', 'plexus', 'injury']\n",
      "['new', 'onset', 'seizure', 'after', 'motorvehicle', 'crash']\n",
      "['54yo', 'patient', 'with', 'history', 'of', 'epilepsy', 'and', 'alcohol', 'misuse', 'disorder', 'presents', 'with', 'episode', 'of', 'status', 'epilepticus', '.']\n",
      "['sinusitis', 'and', 'epistaxis', ',', 'sinonasal', 'tumor', 'suspected']\n",
      "['20yo', 'presents', 'with', 'recurrent', 'rhinosinusitis', 'associated', 'with', 'nasal', 'discharge', 'and', 'hyposmia', '.']\n",
      "['suspected', 'cervical', 'spinal', 'cord', 'injury']\n",
      "['19yo', 'presenting', 'with', 'bilateral', 'leg', 'weakness', 'and', 'impaired', 'walking', 'after', 'a', 'motorcycle', 'accident', ',', 'suspected', 'lumbar', 'spine', 'injury', '.']\n",
      "['sudden', 'onset', 'numbness', 'and', 'cold', 'fingers', ',', 'suspected', 'arterial', 'thoracic', 'outlet', 'syndrome', 'Cowden-Lhermitte-Duclos', 'syndrome']\n",
      "['patient', 'presenting', 'with', 'hand', 'muscle', 'wasting', ',', 'hand', 'aches', 'and', 'numbness', ',', 'and', 'weakening', 'grip', '.', 'suspected', 'neurogenic', 'outlet', 'syndrome']\n",
      "['palpable', 'mass', 'in', 'thyroid', ',', 'initial', 'study']\n",
      "['65yo', 'with', 'history', 'of', 'papillary', 'thyroid', 'carcinoma', 'in', 'remission', 'after', 'radioactive', 'iodine', 'therapy', ',', 'presents', 'with', 'new', 'onset', 'palpable', 'mass', 'in', 'thyroid', '.', 'suspected', 'recurrence', '.']\n",
      "['subjective', 'tinnitus', 'for', '5', 'months']\n",
      "['65yo', 'with', 'history', 'of', 'smoking', 'and', 'obesity', 'presents', 'with', 'bilateral', 'nonpulsatile', 'tinnitus', 'not', 'associated', 'with', 'hearing', 'loss', 'or', 'trauma', '.', 'initial', 'study', '.']\n",
      "['3yo', 'with', 'limp', 'and', 'right', 'hip', 'pain']\n",
      "['4yo', 'with', 'recent', 'inlfluenza', 'illness', 'presents', 'with', 'new', 'onset', 'fever', ',', 'limping', ',', 'and', 'left', 'upper', 'thigh', 'pain', '.', 'concerning', 'for', 'infection', '.']\n",
      "['child', 'with', 'acute', 'back', 'pain', 'during', 'physical', 'activity']\n",
      "['13yo', 'presents', 'with', 'back', 'pain', 'for', 'the', 'last', 'month', 'associated', 'with', 'weight', 'loss', ',', 'weakness', ',', 'and', 'night', 'pain', '.', 'concerning', 'for', 'malignancy', '.']\n"
     ]
    },
    {
     "name": "stdout",
     "output_type": "stream",
     "text": [
      "['child', 'with', 'hip', 'click', 'and', 'swayback', ',', 'suspected', 'hip', 'developmental', 'dysplasia']\n",
      "['5', 'month', 'old', 'female', 'with', 'right', 'hip', 'pain', 'and', 'swaying', ',', 'concerning', 'for', 'congential', 'hip', 'dislocation']\n",
      "['child', 'with', 'fever', 'for', '2', 'weeks', 'with', 'no', 'apparent', 'source']\n",
      "['2', 'month', 'old', 'child', 'presenting', 'with', 'fever', 'of', '39c', 'for', 'past', '3', 'days', ',', 'with', 'leukocytosis', 'and', 'no', 'respiratory', 'symptoms', '.']\n",
      "['child', 'with', 'altered', 'mental', 'status', 'after', 'ground', 'level', 'fall', ',', 'suspected', 'head', 'trauma']\n",
      "['22', 'month', 'old', 'child', 'presenting', 'with', 'somnolescence', 'after', '6', 'foot', 'fall', 'and', 'loss', 'of', 'consciousness', 'for', '10', 'seconds', '.', 'suspected', 'head', 'injury', '.']\n",
      "['child', 'with', 'sudden', 'severe', 'headache', 'and', 'nausea']\n",
      "['9yo', 'with', 'acute', 'onset', ',', 'progressive', 'headache', 'after', '3', 'weeks', 'of', 'influenza', 'illness', 'with', 'fever', ',', 'chills', ',', 'and', 'congestion']\n",
      "['child', 'with', 'hematuria', 'associated', 'with', 'dysuria']\n",
      "['14yo', 'with', 'family', 'history', 'of', 'anemia', 'presents', 'with', 'progressive', 'subacute', 'fatigue', 'associated', 'with', 'microhematuria', 'and', 'no', 'proteinuria', '.']\n",
      "['1yo', 'with', 'community', 'acquired', 'pneumonia']\n",
      "['10', 'month', 'old', 'child', 'with', 'community-acquired', 'pneumonia', 'for', 'past', 'three', 'weeks', 'has', 'radiographic', 'findings', 'of', 'a', 'suspected', 'right', 'lung', 'abscess']\n",
      "['congenital', 'scoliosis']\n",
      "['13yo', 'with', 'history', 'of', 'surgically', 'corrected', 'spina', 'bifida', 'presents', 'with', 'progressive', 'scoliosis']\n",
      "['child', 'with', 'new', 'onset', 'generalized', 'seizure']\n",
      "['10yo', 'presenting', 'with', 'recurrent', 'focal', 'seizures', 'with', 'vision', 'changes', 'and', 'right', 'extermity', 'contractions']\n",
      "['suspected', 'fungal', 'sinusitis']\n",
      "['child', 'with', 'persistent', 'nasal', 'congestion', 'not', 'responding', 'to', 'antibiotics', 'and', 'decongestants', '.', 'initial', 'study', '.']\n",
      "['child', 'with', 'acute', 'periumbilical', 'pain', ',', 'suspected', 'appendicitis']\n",
      "['15yo', 'with', 'right', 'lower', 'quadrant', 'pain', ',', 'low-grade', 'fever', ',', 'and', 'nausea', '.', 'initial', 'ultrasound', 'was', 'nondiagnostic', '.']\n",
      "['child', 'with', 'skin', 'bruises', 'and', 'tenderness', ',', 'suspected', 'physical', 'abuse']\n",
      "['3yo', 'presenting', 'with', 'altered', 'mental', 'status', ',', 'complex', 'skull', 'fracture', ',', 'and', 'skin', 'bruises', '.']\n",
      "['13yo', 'with', 'suspected', 'lumbar', 'spine', 'trauma', 'after', 'fall']\n",
      "['8yo', 'with', 'spinal', 'tenderness', 'and', 'altered', 'level', 'of', 'consciousness', 'after', '12', 'foot', 'fall', '.', 'suspected', 'cervical', 'spine', 'injury']\n",
      "['8yo', 'with', 'urinary', 'tract', 'infection', 'associated', 'with', 'fever']\n",
      "['child', 'diagnosed', 'with', 'urinary', 'tract', 'infection', '3', 'days', 'ago', 'presents', 'with', 'persisting', 'symptoms', 'despite', 'antibiotic', 'treatment', 'and', 'elevated', 'creatinine', '.']\n",
      "['1', 'week', 'old', 'with', 'bilious', 'vomiting']\n",
      "['3', 'week', 'old', 'with', 'nonbilious', 'vomiting', 'about', 'every', 'other', 'day', 'since', 'birth', 'and', 'associated', 'with', 'abdominal', 'tenderness', '.']\n",
      "['acute', 'lower', 'respiratory', 'illness', 'with', 'low', 'o2', 'sat', ',', 'fever', ',', 'and', 'tachypnea']\n",
      "['70yo', 'with', 'history', 'of', 'smoking', 'presents', 'with', 'copd', 'exacerbation', 'and', 'chest', 'pain', 'chronic', 'obstructive', 'pulmonary', 'disease']\n",
      "['recurrent', 'upper', 'respiratory', 'illness', ',', 'baseline', 'immunocompromised']\n",
      "['54yo', 'with', 'history', 'of', 'medically', 'managed', 'hiv', 'presents', 'with', 'acute', 'onset', 'fever', ',', 'dsypnea', ',', 'and', 'productive', 'cough', 'human', 'immunodeficiency', 'virus']\n",
      "['chest', 'trauma', 'motorvehicle', 'accident']\n",
      "['25yo', 'male', 'coming', 'in', 'after', 'a', 'high', 'speed', 'motorvehicle', 'accident', '.', 'evaluate', 'for', 'potential', 'chest', 'trauma', '.', 'no', 'significiant', 'medical', 'history']\n",
      "['chronic', 'dyspnea', 'with', 'history', 'of', 'smoking']\n",
      "['55yo', 'coal', 'miner', 'presents', 'with', 'chronic', 'dry', 'cough', 'and', 'dsypnea', '.', 'suspected', 'interstitial', 'lung', 'disease', '.']\n",
      "['recurrent', 'hemoptysis', 'and', 'dyspnea']\n",
      "['patient', 'with', 'history', 'of', 'cystic', 'fibrosis', 'presenting', 'with', 'recent', 'hemoptysis', 'episode']\n",
      "['suspected', 'tb', ',', 'positive', 'ppd']\n",
      "['26yo', 'with', 'recent', 'travel', 'to', 'asia', 'presents', 'with', 'worsening', 'cough', 'for', '3', 'weeks', ',', 'fever', ',', 'and', 'weight', 'loss', '.', 'ppd', 'not', 'available', '.']\n",
      "['icu', 'patient', 'after', 'chest', 'tube', 'removal', 'intensive', 'care', 'unit']\n",
      "['32yo', 'icu', 'patient', 'in', 'recovery', 'from', 'ortho', 'surgery', 'presenting', 'with', 'worsening', 'o2', 'sat', ',', 'tachycardia', ',', 'and', 'delirium', 'intensive', 'care', 'unit']\n",
      "['40', 'pack-year', 'smoker', ',', 'lung', 'cancer', 'screening']\n",
      "['65yo', 'with', 'family', 'history', 'of', 'lung', 'cancer', 'and', 'history', 'of', 'smoking', 'for', '20', 'pack-years', '.', 'screen', 'for', 'lung', 'cancer', '.']\n",
      "['small-cell', 'lung', 'carcinoma', 'staging']\n",
      "['patient', 'with', 'history', 'of', 'smoking', 'and', 'recent', 'diagnosis', 'of', 'adenocarcinoma', '.', 'evaluate', 'stage', '.']\n",
      "['iron', 'mill', 'worker', 'presenting', 'for', 'lung', 'disease', 'screening']\n",
      "['54yo', 'male', 'who', 'works', 'in', 'a', 'rubber', 'production', 'factory', 'presents', 'with', 'dry', 'cough', ',', 'tachypnea', ',', 'and', 'lung', 'crackles', '.', 'suspected', 'interstitial', 'lung', 'disease']\n",
      "['incidental', 'pulmonary', 'nodule', 'finding']\n",
      "['patient', 'with', 'no', 'symptoms', 'has', 'an', 'incidental', 'finding', 'of', 'a', '2cm', 'right', 'lung', 'mass', 'on', 'chest', 'radiograph']\n",
      "['rib', 'fracture', 'after', 'cpr', 'cardiopulmonary', 'resuscitation']\n",
      "['bicycle', 'crash', ',', 'pain', 'and', 'swelling', 'at', 'the', 'right', '5th', 'rib', '.', 'evaluate', 'for', 'fracture']\n",
      "['chest', 'radiography', 'for', 'unstable', 'emphysema']\n",
      "['82yo', 's/p', 'lung', 'nodule', 'excision', 'surgery', '.', 'track', 'recovery', 'and', 'complications', 'via', 'chest', 'radiographs']\n",
      "['acute', 'dsypnea', ',', 'positive', 'd-dimer', '.', 'suspected', 'pulmonary', 'embolism', '.']\n",
      "['acute', 'right', 'lower', 'chest', 'pain', 'with', 'tachypnea', '.', 'history', 'of', 'deep', 'vein', 'thrombosis', ',', 'surgery', '1', 'week', 'ago', '.']\n",
      "['patient', 'with', 'chronic', 'fatigue', ',', 'dyspnea', '.', 'suspected', 'pulmonary', 'hypertension']\n",
      "['patient', 'with', 'history', 'of', 'interstitial', 'lung', 'disease', 'presents', 'with', 'new', 'onset', 'of', 'dyspnea', ',', 'chest', 'pain', ',', 'extermity', 'swelling', '.']\n",
      "['sudden', 'onset', 'numbness', 'and', 'cold', 'fingers', ',', 'suspected', 'arterial', 'thoracic', 'outlet', 'syndrome', 'Cowden-Lhermitte-Duclos', 'syndrome']\n",
      "['patient', 'presenting', 'with', 'hand', 'muscle', 'wasting', ',', 'hand', 'aches', 'and', 'numbness', ',', 'and', 'weakening', 'grip', '.', 'suspected', 'neurogenic', 'outlet', 'syndrome']\n",
      "['flank', 'pain', 'and', 'dysuria', ',', 'suspected', 'urolithiasis']\n",
      "['56yo', 'obese', 'female', 'with', 'history', 'of', 'renal', 'tubular', 'acidosis', 'presents', 'with', 'flank', 'pain', ',', 'dysuria', ',', 'and', 'lower', 'abdominal', 'pain', '.', 'suspected', 'kidney', 'stones']\n",
      "['acute', 'scrotal', 'pain']\n",
      "['16yo', 'male', 'with', 'acute', 'pain', 'in', 'scrotum', 'not', 'associated', 'with', 'trauma', '.', 'initial', 'study', '.']\n",
      "['acute', 'fever', ',', 'nausea', ',', 'and', 'flank', 'pain', ',', 'suspected', 'pyelonephritis']\n",
      "['patient', 'with', 'history', 'of', 'type', 'i', 'diabetes', 'mellitus', 'presents', 'with', 'acute', 'onset', 'of', 'fever', ',', 'nausea', ',', 'and', 'flank', 'pain', '.', 'suspected', 'kidney', 'infection']\n",
      "['episodic', 'hematospermia']\n",
      "['35yo', 'male', 'presenting', 'with', 'persistent', 'hematospermia', 'and', 'painful', 'ejaculation', 'for', '1', 'week']\n",
      "['hematuria', 'associated', 'with', 'menstruation']\n",
      "['patient', 'presenting', 'with', 'new', 'hematuria', 'associated', 'with', 'ongoing', 'mild', 'upper', 'respiratory', 'infection', 'for', 'the', 'past', '2', 'weeks']\n",
      "['incidental', 'adrenal', 'mass', 'finding']\n",
      "['51yo', 'male', 'with', 'history', 'of', 'lymphoma', 'in', 'remission', 'presents', 'with', 'incidental', 'finding', 'of', '2cm', 'adrenal', 'nodule']\n",
      "['further', 'evaluate', 'renal', 'mass']\n",
      "['patient', 'with', 'history', 'of', 'hypertension', 'has', 'a', 'recent', 'finding', 'of', 'renal', 'lesion', '.', 'baseline', 'creatinine', 'and', 'gfr', '.', 'glomerular', 'filtration', 'rate']\n",
      "['frequent', 'urination', 'and', 'weak', 'urinary', 'stream', ',', 'suspected', 'benign', 'prostatic', 'hyperplasia']\n",
      "['50yo', 'male', 'with', 'worsening', 'frequent', 'urination', ',', 'weak', 'urinary', 'stream', ',', 'and', 'nocturia', 'for', 'the', 'past', '5', 'months', '.', 'evaluate', 'for', 'prostate', 'enlargement']\n",
      "['inability', 'to', 'urinate', 'after', 'penetrating', 'trauma', 'to', 'lower', 'abdomen']\n",
      "['19yo', 'presenting', 'with', 'stab', 'wound', 'to', 'lower', 'abdomen', 'has', 'inability', 'to', 'urinate', 'and', 'suprapubic', 'tenderness', '.']\n",
      "['renal', 'cell', 'cancer', 'followup', 'post', 'ablation']\n",
      "['patient', 's/p', 'partial', 'nephrectomy', 'for', 'renal', 'carcinoma', 'is', 'presenting', 'for', 'followup']\n",
      "['followup', 'for', 'malignant', 'prostate', 'cancer']\n",
      "['56yo', 'male', 's/p', 'prostatectomy', 'presenting', 'with', 'new', 'onset', 'hematuria', 'and', 'elevated', 'psa', '.', 'concern', 'for', 'recurrence']\n",
      "['surveillance', 'after', 'treatment', 'for', 'nonmuscle', 'invasive', 'bladder', 'cancer']\n",
      "['s/p', 'partial', 'cystectomy', 'for', 'muscle', 'invasive', 'bladder', 'cancer', ',', 'evaluate', 'for', 'recurrence']\n",
      "['diagnosis', 'of', 'muscle-invasive', 'bladder', 'cancer', ',', 'evaluate', 'for', 'staging']\n",
      "['56yo', 'male', 'with', 'history', 'of', 'chronic', 'bladder', 'inflammation', 'and', 'diagnosis', 'of', 'bladder', 'cancer', '.', 'evaluate', 'stage']\n",
      "['dysuria', 'and', 'hematuria', ',', 'suspected', 'prostate', 'cancer']\n",
      "['56yo', 'obese', 'man', 'presents', 'with', 'chronic', 'dysuria', 'and', 'hematuria', '.', 'evaluate', 'for', 'prostate', 'carcinoma']\n",
      "['female', 'with', 'recurring', 'uti', 'urinary', 'tract', 'infection']\n",
      "['58yo', 'woman', 'with', 'diabetes', 'mellitus', 'type', '2', 'presents', 'with', 'frequently', 'recurring', 'uti', 'urinary', 'tract', 'infection']\n",
      "['staging', 'for', 'renal', 'cell', 'carcinoma']\n",
      "['patient', 'with', 'history', 'of', 'hypertension', 'and', 'obesity', 'presents', 'with', 'recent', 'diagnosis', 'of', 'kidney', 'cancer', '.', 'evaluate', 'for', 'staging', '.']\n",
      "['oliguria', 'after', 'large', 'blood', 'loss', '.', 'suspected', 'acute', 'renal', 'failure']\n",
      "['78yo', 'patient', 'with', 'history', 'of', 'diabetes', 'mellitus', 'and', 'hypertension', 'presenting', 'with', 'chronic', 'fatigue', ',', 'oliguria', ',', 'pedal', 'edema', ',', 'and', 'elevated', 'creatinine', '.', 'suspected', 'diabetic', 'nephropathy']\n",
      "['s/p', 'renal', 'transplant', '1', 'week', 'ago', ',', 'presenting', 'with', 'increasing', 'creatinine']\n",
      "['patient', 'with', 'kidney', 'transplant', '1', 'week', 'ago', 'presenting', 'with', 'oliguria', ',', 'edema', ',', 'and', 'muddy', 'brown', 'casts', 'in', 'urine', '.', 'suspected', 'acute', 'tubular', 'necrosis', '.']\n",
      "['low', 'egfr', 'and', 'history', 'of', 'hypertension', ',', 'suspected', 'renovascular', 'hypertension', 'estimated', 'glomerular', 'filtration', 'rate']\n",
      "['60yo', 'with', 'poorly', 'managed', 'hypertension', 'for', '35', 'years', 'and', 'new', 'pulmonary', 'edema', '.', 'suspected', 'renal', 'artery', 'stenosis', '.']\n",
      "['testicular', 'cancer', 'staging']\n",
      "['22yo', 'with', 'history', 'of', 'cryptorchidism', 'and', 'recent', 'diagnosis', 'of', 'testis', 'tumor', '.', 'evaluate', 'for', 'stage', '.']\n",
      "['followup', 'for', 'asymptomatic', 'aaa', 'abdominal', 'aortic', 'aneurysm']\n",
      "['male', 'patient', 'with', '3.5cm', 'slowly', 'growing', 'aaa', 'presenting', 'for', 'follow-up', 'surveillance', 'abdominal', 'aortic', 'aneurysm']\n",
      "['planning', 'for', 'open', 'repair', 'of', 'aaa', 'abdominal', 'aortic', 'aneurysm']\n",
      "['patient', 's/p', 'endovascular', 'repair', 'of', 'aaa', 'presenting', 'with', 'acute', 'onset', 'fatigue', 'and', 'hypotension', 'at', 'follow-up', '.', 'abdominal', 'aortic', 'aneurysm']\n",
      "['planning', 'for', 'chylothorax', 'after', 'trauma']\n",
      "['56yo', 'presents', 'with', 'acute', 'chylothorax', 'associated', 'with', 'chest', 'pain', 'and', 'dsypnea', '.', 'imaging', 'to', 'identify', 'source', 'of', 'lymphatic', 'leak']\n",
      "['dyspnea', 'and', 'cyanosis', ',', 'suspected', 'pulmonary', 'avm', 'arteriovenous', 'malformation']\n",
      "['patient', 'with', 'family', 'history', 'of', 'hereditary', 'hemorrhagic', 'telangiectasia', 'presenting', 'with', 'chronic', 'dyspnea', ',', 'cyanosis', ',', 'and', 'orthodeoxia', '.', 'suspected', 'avm', 'in', 'lung', 'arteriovenous', 'malformation']\n",
      "['chronic', ',', 'focal', 'right', 'upper', 'extremity', 'pain', '.', 'suspected', 'vascular', 'malformation']\n",
      "['47yo', 'with', 'history', 'of', 'penetrating', 'injury', 'to', 'left', 'leg', '3', 'months', 'ago', 'presents', 'with', 'focal', 'left', 'leg', 'pain', ',', 'swelling', ',', 'and', 'bulging', 'vasculature', '.', 'suspected', 'arteriovenous', 'fistula']\n",
      "['tavr', 'planning', 'transcatheter', 'aortic', 'valve', 'replacement']\n",
      "['patient', 'with', 'aortic', 'valve', 'calcification', 'needing', 'replacement', '.', 'history', 'of', 'uncontrolled', 'hypertension']\n",
      "['surgical', 'planning', 'for', 'breast', 'reconstruction', 'surgery']\n",
      "['55yo', 'woman', 's/p', 'right', 'mastectomy', 'for', 'breast', 'cancer', '.', 'evalute', 'diep', 'for', 'autologous', 'breast', 'reconstruction', 'surgery', 'deep', 'inferior', 'epigastric', 'perforators']\n",
      "['severe', 'abdominal', 'pain', 'suspected', 'mesenteric', 'ischemia']\n",
      "['78yo', 'female', 'with', 'history', 'of', 'hyperlipidemia', 'presents', 'with', 'hyperacute', 'servere', 'and', 'diffuse', 'abdominal', 'pain', '.', 'concerning', 'for', 'acute', 'mesenteric', 'ischemia']\n",
      "['surveillance', 'post', 'endovascular', 'lower', 'extremity', 'arterial', 'revascularization', 'surgery']\n",
      "['patient', 'with', 'history', 'of', 'right', 'femoropopliteal', 'bypass', 'for', 'revascularization', 'presents', 'with', 'new', 'onset', 'right', 'critical', 'limb', 'ischemia', '.']\n",
      "['painful', 'lower', 'extremity', ',', 'suspected', 'peripheral', 'arterial', 'disease']\n",
      "['16yo', 'athlete', 'with', 'progressive', 'bilateral', 'lower', 'leg', 'cramps', 'and', 'pain', 'during', 'exercise', '.', 'evaluate', 'for', 'popliteal', 'entrapment', 'syndrome']\n",
      "['evaluate', 'for', 'atherosclerotic', 'aortic', 'disease']\n",
      "['76yo', 'with', 'history', 'of', 'atherosclerosis', 'presents', 'with', 'servere', 'acute', 'upper', 'back', 'pain', 'associated', 'with', 'hypertension', '.', 'suspected', 'aortic', 'syndrome', '.']\n",
      "['esophageal', 'bleeding', 'history', 'of', 'esophageal', 'ulcer']\n",
      "['endoscopy', 'revealed', 'esophageal', 'bleeding', 'likely', 'from', 'ulcer', '.', 'history', 'of', 'gerd', 'and', 'hypertension', '.', 'gastroesophageal', 'reflux', 'disease']\n",
      "['penetrating', 'neck', 'injury', 'with', 'right', 'carotid', 'bruit']\n",
      "['18yo', 'female', 'presenting', 'with', 'hemoptsis', 'and', 'dysphonia', 'after', 'neck', 'stabbing', 'injury']\n",
      "['pulsatile', 'mass', 'in', 'abdomen', ',', 'possible', 'aaa', 'abdominal', 'aortic', 'aneurysm']\n",
      "['patient', 'with', 'history', 'of', 'hypertension', 'and', 'smoking', 'presents', 'with', 'new', 'onset', 'of', 'pulsating', 'mass', 'in', 'abdomen', '.', 'suspected', 'aaa', 'abdominal', 'aortic', 'aneurysm']\n",
      "['cosmetic', 'management', 'for', 'lower', 'extremity', 'varicose', 'veins', 'from', 'venous', 'insufficiency']\n",
      "['pregnant', 'woman', 'presents', 'with', 'bilateral', 'leg', 'varicose', 'veins', 'and', 'great', 'saphenous', 'venous', 'insufficiency', '.']\n",
      "['low', 'egfr', 'and', 'history', 'of', 'hypertension', ',', 'suspected', 'renovascular', 'hypertension', 'estimated', 'glomerular', 'filtration', 'rate']\n",
      "['60yo', 'with', 'poorly', 'managed', 'hypertension', 'for', '35', 'years', 'and', 'new', 'pulmonary', 'edema', '.', 'suspected', 'renal', 'artery', 'stenosis', '.']\n",
      "['hyperacute', 'leg', 'pain', 'and', 'coldness']\n",
      "['patient', 'with', 'history', 'of', 'artherosclerosis', 'presents', 'with', 'acute', 'limb', 'ischemia', 'associated', 'with', 'gangrene', '.']\n",
      "['left', 'leg', 'swelling', 'and', 'pain', ',', 'suspected', 'deep', 'vein', 'thrombosis']\n",
      "['patient', 'with', 'recent', 'prolonged', 'bed', 'rest', 'presents', 'with', 'elevated', 'd-dimer', 'and', 'left', 'leg', 'pain', 'and', 'swelling', '.', 'suspected', 'dvt', 'deep', 'vein', 'thrombosis']\n",
      "['suspected', 'thoracic', 'aortic', 'aneurysm', 'on', 'chest', 'radiograph']\n",
      "['27yo', 'presents', 'with', 'dysphagia', 'and', 'slight', 'dull', 'upper', 'back', 'pain', '.', 'evaluate', 'for', 'taa', 'thoracic', 'aortic', 'aneurysm']\n",
      "['forearm', 'swelling', 'and', 'pain', ',', 'susepcted', 'deep', 'vein', 'thrombosis']\n",
      "['58yo', 'with', 'history', 'of', 'cancer', 'presents', 'with', 'right', 'upper', 'extremity', 'pain', 'and', 'edema', 'at', 'location', 'of', 'venous', 'catheter', '.', 'suspected', 'dvt', 'deep', 'vein', 'thrombosis']\n",
      "['surgical', 'planning', 'for', 'thoracic', 'aorta', 'repair', 'surgery']\n",
      "['patient', 'with', 'history', 'of', 'thoracic', 'endovascular', 'repair', 'for', 'aortic', 'root', 'aneurysm', '5', 'years', 'ago', 'presenting', 'for', 'follow-up', '.', 'trend', 'of', 'mild', 'aneurysm', 'size', 'increase', '.']\n",
      "['sudden', 'onset', 'numbness', 'and', 'cold', 'fingers', ',', 'suspected', 'arterial', 'thoracic', 'outlet', 'syndrome', 'Cowden-Lhermitte-Duclos', 'syndrome']\n",
      "['patient', 'presenting', 'with', 'hand', 'muscle', 'wasting', ',', 'hand', 'aches', 'and', 'numbness', ',', 'and', 'weakening', 'grip', '.', 'suspected', 'neurogenic', 'outlet', 'syndrome']\n",
      "['lower', 'leg', 'claudication', ',', 'evaluate', 'for', 'revascularization']\n",
      "['73yo', 'with', 'history', 'of', 'peripheral', 'artery', 'disease', 'presents', 'with', 'lower', 'leg', 'pain', 'during', 'exertion', '.']\n",
      "['planning', 'for', 'open', 'repair', 'of', 'aaa', 'abdominal', 'aortic', 'aneurysm']\n",
      "['patient', 's/p', 'endovascular', 'repair', 'of', 'aaa', 'presenting', 'with', 'acute', 'onset', 'fatigue', 'and', 'hypotension', 'at', 'follow-up', '.', 'abdominal', 'aortic', 'aneurysm']\n",
      "['planning', 'for', 'chylothorax', 'after', 'trauma']\n",
      "['56yo', 'presents', 'with', 'acute', 'chylothorax', 'associated', 'with', 'chest', 'pain', 'and', 'dsypnea', '.', 'imaging', 'to', 'identify', 'source', 'of', 'lymphatic', 'leak']\n",
      "['incidental', 'finding', 'of', 'lumbar', 'compression', 'fracture', ',', 'back', 'pain']\n",
      "['76yo', 'with', 'history', 'of', 'multiple', 'myeloma', 'presenting', 'with', 'new', 'back', 'pain', 'and', 'radiologically', 'confirmed', 'compression', 'fractures']\n",
      "['biliary', 'obstruction', 'intervention']\n",
      "['59yo', 'with', 'history', 'of', 'hypertension', 'and', 'ibd', 'presents', 'with', 'fever', ',', 'ruq', 'pain', ',', 'high', 'suspicion', 'of', 'sclerosing', 'cholangitis', '.', 'inflammatory', 'bowel', 'disease', 'right', 'upper', 'quadrant']\n",
      "['central', 'venous', 'line', 'for', 'abx', 'infusion', 'antibiotics']\n",
      "['50yo', 'with', 'stage', 'iv', 'ckd', 'has', 'poor', 'flow', 'during', 'hemodialysis', 'by', 'right', 'internal', 'jugular', 'vein', 'catheter', 'chronic', 'kidney', 'disease']\n",
      "['acute', 'gastric', 'variceal', 'bleed']\n",
      "['70yo', 'with', 'history', 'of', 'hypertension', 'and', 'alcohol', 'use', 'disorder', 'presents', 'with', 'acute', 'episodes', 'of', 'melena', '.', 'colonoscopy', 'positive', 'for', 'variceal', 'bleeding', '.', 'past', 'mri', 'has', 'shown', 'thrombus', 'in', 'spleen', '.', 'magnetic', 'resonance', 'imaging']\n",
      "['hcc', 'found', 'on', 'ct', 'angio', 'hepatocellular', 'carcinoma']\n",
      "['70yo', 'with', 'history', 'of', '40pack', 'year', 'smoking', 'and', 'metastatic', 'colorectal', 'cancer', 'shows', 'new', 'solitary', 'liver', 'metastasis']\n",
      "['filling', 'defect', 'in', 'bilateral', 'iliac', 'arteries']\n",
      "['patient', 'who', 'has', '40pack', 'year', 'history', 'of', 'smoking', 'and', 'type', '2', 'dm', 'has', 'severe', 'claudication', 'of', 'left', 'leg', '.', 'angiogram', 'shows', 'left', 'iliac', 'stenosis', 'diabetes', 'mellitus']\n",
      "['iliofemoral', 'dvt', 'on', 'ct', 'deep', 'vein', 'thrombosis']\n",
      "['patient', 'with', 'history', 'of', 'peripheral', 'artery', 'disease', 'presents', 'with', 'acute', 'right', 'lower', 'extremity', 'pain', ',', 'edema', ',', 'and', 'pulse', 'deficit', '.', 'suspect', 'phlegmasia', 'cerulea', 'dolens']\n",
      "['potentially', 'infected', 'liver', 'abscesses', 'on', 'ct']\n",
      "['20yo', 'with', 'hiv', 'presents', 'with', 'fever', 'and', 'right', 'ankle', 'pain', 'for', 'the', 'past', 'few', 'days', '.', 'ultrasound', 'shows', 'subperiosteal', 'abscess', '.', 'human', 'immunodeficiency', 'virus']\n",
      "['recurrent', 'gi', 'bleeding', 'gastrointestinal']\n",
      "['young', 'patient', 'with', 'ibs', 'presents', 'with', 'ongoing', 'bleed', 'in', 'gi', ',', 'cause', 'unknown', '.', 'hemodynamically', 'stable', 'after', '1', 'unit', 'of', 'blood', '.', 'next', 'procedure', '.', 'irritable', 'bowel', 'syndrome', 'gastrointestinal']\n",
      "['cosmetic', 'management', 'for', 'lower', 'extremity', 'varicose', 'veins', 'from', 'venous', 'insufficiency']\n",
      "['pregnant', 'woman', 'presents', 'with', 'bilateral', 'leg', 'varicose', 'veins', 'and', 'great', 'saphenous', 'venous', 'insufficiency', '.']\n",
      "['hyperacute', 'abdominal', 'pain', ',', 'mesenteric', 'ischemia', 'suspected', 'from', 'ct']\n",
      "['68yo', 'smoker', 'presents', 'with', 'chronic', 'postprandial', 'abdominal', 'pain', '.', 'cta', 'shows', 'sma', 'and', 'ima', 'narrowing', '.', 'computed', 'tomography', 'angiography', 'superior', 'mesenteric', 'artery']\n",
      "['incidental', 'lung', 'nodule', 'finding', ',', 'management', 'steps']\n",
      "['74', 'yo', 'with', 'history', 'of', 'dm', 'type', '2', 'presents', 'with', 'enlarging', 'bilateral', 'hilar', 'adenopathy', 'on', 'ct.', 'next', 'steps', 'for', 'potential', 'intervention', '.', 'year', 'old', 'diabetes', 'mellitus']\n",
      "['right', 'flank', 'pain', ',', 'oliguria', '.', 'suspected', 'urinary', 'tract', 'obstruction']\n",
      "['24yo', 'pregnant', 'patient', 'presenting', 'with', 'left', 'flank', 'pain', 'and', 'fever', 'for', 'the', 'past', '3', 'days', '.', 'ultrasound', 'positive', 'for', 'hydronephrosis', '.']\n",
      "['constipation', ',', 'suspected', 'uterine', 'leiomyoma', 'on', 'mri', 'magnetic', 'resonance', 'imaging']\n",
      "['35yo', 'woman', 'with', 'recent', 'abnormal', 'periods', 'presents', 'with', 'menometrorrhagia', '.', 'mri', 'shows', 'uterine', 'fibroids', '.', 'she', 'prefers', 'to', 'bear', 'children', 'in', 'the', 'future', '.', 'next', 'steps', '?', 'magnetic', 'resonance', 'imaging']\n",
      "['history', 'of', 'dvt', ',', 'inferior', 'vena', 'cava', 'filter', 'placement', 'deep', 'vein', 'thrombosis']\n",
      "['76yo', 'patient', 'with', 'lung', 'cancer', 'in', 'remission', 'and', 'recent', 'cabg', 'surgery', '.', 'treated', 'for', 'pe', 'during', 'recovery', 'and', 'dvt', 'shown', 'in', 'bilateral', 'lower', 'extremities', '.', 'plan', 'to', 'place', 'permanent', 'inferior', 'vena', 'cava', 'filter', '.', 'coronary', 'artery', 'bypass', 'graft', 'deep', 'vein', 'thrombosis']\n",
      "['surgical', 'planning', 'for', 'thoracic', 'aorta', 'repair', 'surgery']\n",
      "['patient', 'with', 'history', 'of', 'thoracic', 'endovascular', 'repair', 'for', 'aortic', 'root', 'aneurysm', '5', 'years', 'ago', 'presenting', 'for', 'follow-up', '.', 'trend', 'of', 'mild', 'aneurysm', 'size', 'increase', '.']\n"
     ]
    },
    {
     "name": "stdout",
     "output_type": "stream",
     "text": [
      "0.3125932603981384 0.09791242284081243\n"
     ]
    }
   ],
   "source": [
    "## Code to find what words of queries are present in narr title\n",
    "\n",
    "from nltk import word_tokenize\n",
    "from abbreviations import solve_abbvs_fast\n",
    "\n",
    "in_f = '../resources/artificial_indications_filled_v2.csv'\n",
    "reader = csv.reader(open(in_f))\n",
    "easy_has_narr_name = []\n",
    "hard_has_narr_name = []\n",
    "for row in reader:\n",
    "    if row[2] != 'narr_names': # Don't include header row\n",
    "        [_,name,narr_name, simple, difficult, _, _] = row\n",
    "        \n",
    "        narr_tkns = [x.lower() for x in word_tokenize(narr_name)]\n",
    "        simp_tkns = [x.lower() for x in word_tokenize(simple)] + solve_abbvs_fast(simple, verbose=False)\n",
    "        print(simp_tkns)\n",
    "        diff_tkns = [x.lower() for x in word_tokenize(difficult)] + solve_abbvs_fast(difficult, verbose=False)\n",
    "        print(diff_tkns)\n",
    "        \n",
    "        if simple != '':\n",
    "            easy_has_narr_name.append(sum([1 for narr_tkn in narr_tkns if narr_tkn in simp_tkns]) / len(simp_tkns))\n",
    "                \n",
    "        if difficult != '':\n",
    "            hard_has_narr_name.append(sum([1 for narr_tkn in narr_tkns if narr_tkn in diff_tkns])  / len(diff_tkns))\n",
    "\n",
    "print(sum(easy_has_narr_name)/205,sum(hard_has_narr_name)/205)"
   ]
  },
  {
   "cell_type": "code",
   "execution_count": null,
   "metadata": {
    "scrolled": false
   },
   "outputs": [],
   "source": [
    "import importlib\n",
    "# importlib.reload(biosentvec_embeds_fxn)\n",
    "importlib.reload(biosentvec_embeds_tfidf_fxn)"
   ]
  },
  {
   "cell_type": "code",
   "execution_count": 5,
   "metadata": {
    "scrolled": true
   },
   "outputs": [
    {
     "name": "stderr",
     "output_type": "stream",
     "text": [
      "\r",
      "0it [00:00, ?it/s]"
     ]
    },
    {
     "name": "stdout",
     "output_type": "stream",
     "text": [
      "docs and headers successfully embedded\n",
      "Processing query 0\n",
      "VERBOSE: False\n",
      "ABV [['year', 'old']]\n",
      "FLTR ['screen', 'breast', 'cancer', 'yo', 'female']\n",
      "embedding:  ['year', 'old'] 0.2857142857142857\n"
     ]
    },
    {
     "name": "stderr",
     "output_type": "stream",
     "text": [
      "\r",
      "1it [00:02,  2.29s/it]"
     ]
    },
    {
     "name": "stdout",
     "output_type": "stream",
     "text": [
      "Processing query 1\n",
      "VERBOSE: False\n",
      "ABV []\n",
      "FLTR ['firm', 'mass', 'left', 'breast', 'pregnant', 'screen', 'malignancy']\n"
     ]
    },
    {
     "name": "stderr",
     "output_type": "stream",
     "text": [
      "\r",
      "2it [00:02,  1.69s/it]"
     ]
    },
    {
     "name": "stdout",
     "output_type": "stream",
     "text": [
      "Processing query 2\n",
      "VERBOSE: False\n",
      "ABV []\n",
      "FLTR ['silicone', 'breast', 'implantation']\n"
     ]
    },
    {
     "name": "stderr",
     "output_type": "stream",
     "text": [
      "\r",
      "3it [00:02,  1.26s/it]"
     ]
    },
    {
     "name": "stdout",
     "output_type": "stream",
     "text": [
      "Processing query 3\n",
      "VERBOSE: False\n",
      "ABV []\n",
      "FLTR ['focal', 'right', 'breast', 'pain']\n"
     ]
    },
    {
     "name": "stderr",
     "output_type": "stream",
     "text": [
      "\r",
      "4it [00:03,  1.04it/s]"
     ]
    },
    {
     "name": "stdout",
     "output_type": "stream",
     "text": [
      "Processing query 4\n",
      "VERBOSE: False\n",
      "ABV []\n",
      "FLTR ['right', 'breast', 'nipple', 'discharge']\n"
     ]
    },
    {
     "name": "stderr",
     "output_type": "stream",
     "text": [
      "\r",
      "5it [00:03,  1.33it/s]"
     ]
    },
    {
     "name": "stdout",
     "output_type": "stream",
     "text": [
      "Processing query 5\n",
      "VERBOSE: False\n",
      "ABV []\n",
      "FLTR ['palpable', 'breast', 'mass', 'male']\n"
     ]
    },
    {
     "name": "stderr",
     "output_type": "stream",
     "text": [
      "\r",
      "6it [00:03,  1.66it/s]"
     ]
    },
    {
     "name": "stdout",
     "output_type": "stream",
     "text": [
      "Processing query 6\n",
      "VERBOSE: False\n",
      "ABV []\n",
      "FLTR ['breast', 'cancer', 'neoadjuvant', 'chemotherapy']\n"
     ]
    },
    {
     "name": "stderr",
     "output_type": "stream",
     "text": [
      "\r",
      "7it [00:03,  2.01it/s]"
     ]
    },
    {
     "name": "stdout",
     "output_type": "stream",
     "text": [
      "Processing query 7\n",
      "VERBOSE: False\n",
      "ABV []\n",
      "FLTR ['breast', 'mass', 'physicial', 'exam']\n"
     ]
    },
    {
     "name": "stderr",
     "output_type": "stream",
     "text": [
      "\r",
      "8it [00:04,  2.34it/s]"
     ]
    },
    {
     "name": "stdout",
     "output_type": "stream",
     "text": [
      "Processing query 8\n",
      "VERBOSE: False\n",
      "ABV []\n",
      "FLTR ['breast', 'cancer', 'stage', 'workup']\n"
     ]
    },
    {
     "name": "stderr",
     "output_type": "stream",
     "text": [
      "\r",
      "9it [00:04,  2.65it/s]"
     ]
    },
    {
     "name": "stdout",
     "output_type": "stream",
     "text": [
      "Processing query 9\n",
      "VERBOSE: False\n",
      "ABV []\n",
      "FLTR ['chest', 'pain', 'aortic', 'dissection']\n"
     ]
    },
    {
     "name": "stderr",
     "output_type": "stream",
     "text": [
      "\r",
      "10it [00:04,  2.94it/s]"
     ]
    },
    {
     "name": "stdout",
     "output_type": "stream",
     "text": [
      "Processing query 10\n",
      "VERBOSE: False\n",
      "ABV [['electrokardiogram']]\n",
      "FLTR ['acute', 'chest', 'pain', 'no', 'ekg', 'change']\n",
      "embedding:  ['electrokardiogram'] 0.14285714285714285\n"
     ]
    },
    {
     "name": "stderr",
     "output_type": "stream",
     "text": [
      "\r",
      "11it [00:04,  3.17it/s]"
     ]
    },
    {
     "name": "stdout",
     "output_type": "stream",
     "text": [
      "Processing query 11\n",
      "VERBOSE: False\n",
      "ABV []\n",
      "FLTR ['screen', 'cad', 'surgery']\n"
     ]
    },
    {
     "name": "stderr",
     "output_type": "stream",
     "text": [
      "\r",
      "12it [00:05,  3.44it/s]"
     ]
    },
    {
     "name": "stdout",
     "output_type": "stream",
     "text": [
      "Processing query 12\n",
      "VERBOSE: False\n",
      "ABV []\n",
      "FLTR ['chest', 'trauma', 'motorvehicle', 'accident']\n"
     ]
    },
    {
     "name": "stderr",
     "output_type": "stream",
     "text": [
      "\r",
      "13it [00:05,  3.56it/s]"
     ]
    },
    {
     "name": "stdout",
     "output_type": "stream",
     "text": [
      "Processing query 13\n",
      "VERBOSE: False\n",
      "ABV []\n",
      "FLTR ['substernal', 'chest', 'pressure', 'mi']\n"
     ]
    },
    {
     "name": "stderr",
     "output_type": "stream",
     "text": [
      "\r",
      "14it [00:05,  3.73it/s]"
     ]
    },
    {
     "name": "stdout",
     "output_type": "stream",
     "text": [
      "Processing query 14\n",
      "VERBOSE: False\n",
      "ABV []\n",
      "FLTR ['chronic', 'chest', 'pain', 'upon', 'exertion']\n"
     ]
    },
    {
     "name": "stderr",
     "output_type": "stream",
     "text": [
      "\r",
      "15it [00:05,  3.84it/s]"
     ]
    },
    {
     "name": "stdout",
     "output_type": "stream",
     "text": [
      "Processing query 15\n",
      "VERBOSE: False\n",
      "ABV []\n",
      "FLTR ['chronic', 'chest', 'pain', 'coronary', 'artery', 'disease']\n"
     ]
    },
    {
     "name": "stderr",
     "output_type": "stream",
     "text": [
      "\r",
      "16it [00:06,  3.93it/s]"
     ]
    },
    {
     "name": "stdout",
     "output_type": "stream",
     "text": [
      "Processing query 16\n",
      "VERBOSE: False\n",
      "ABV []\n",
      "FLTR ['dyspnea', 'likely', 'cardiac']\n"
     ]
    },
    {
     "name": "stderr",
     "output_type": "stream",
     "text": [
      "\r",
      "17it [00:06,  3.76it/s]"
     ]
    },
    {
     "name": "stdout",
     "output_type": "stream",
     "text": [
      "Processing query 17\n",
      "VERBOSE: False\n",
      "ABV [['transcatheter', 'aortic', 'valve', 'replacement']]\n",
      "FLTR ['tavr', 'planning']\n",
      "embedding:  ['transcatheter', 'aortic', 'valve', 'replacement'] 0.6666666666666666\n"
     ]
    },
    {
     "name": "stderr",
     "output_type": "stream",
     "text": [
      "\r",
      "18it [00:06,  3.67it/s]"
     ]
    },
    {
     "name": "stdout",
     "output_type": "stream",
     "text": [
      "Processing query 18\n",
      "VERBOSE: False\n",
      "ABV []\n",
      "FLTR ['congenital', 'heart', 'disease']\n"
     ]
    },
    {
     "name": "stderr",
     "output_type": "stream",
     "text": [
      "\r",
      "19it [00:06,  3.69it/s]"
     ]
    },
    {
     "name": "stdout",
     "output_type": "stream",
     "text": [
      "Processing query 19\n",
      "VERBOSE: False\n",
      "ABV []\n",
      "FLTR ['hypertrophic', 'myocardiopathy']\n"
     ]
    },
    {
     "name": "stderr",
     "output_type": "stream",
     "text": [
      "\r",
      "20it [00:07,  3.76it/s]"
     ]
    },
    {
     "name": "stdout",
     "output_type": "stream",
     "text": [
      "Processing query 20\n",
      "VERBOSE: False\n",
      "ABV []\n",
      "FLTR ['endocarditis']\n"
     ]
    },
    {
     "name": "stderr",
     "output_type": "stream",
     "text": [
      "\r",
      "21it [00:07,  3.82it/s]"
     ]
    },
    {
     "name": "stdout",
     "output_type": "stream",
     "text": [
      "Processing query 21\n",
      "VERBOSE: False\n",
      "ABV []\n",
      "FLTR ['heart', 'failure']\n"
     ]
    },
    {
     "name": "stderr",
     "output_type": "stream",
     "text": [
      "\r",
      "22it [00:07,  3.90it/s]"
     ]
    },
    {
     "name": "stdout",
     "output_type": "stream",
     "text": [
      "Processing query 22\n",
      "VERBOSE: False\n",
      "ABV []\n",
      "FLTR ['pulmonary', 'embolism']\n"
     ]
    },
    {
     "name": "stderr",
     "output_type": "stream",
     "text": [
      "\r",
      "23it [00:07,  3.92it/s]"
     ]
    },
    {
     "name": "stdout",
     "output_type": "stream",
     "text": [
      "Processing query 23\n",
      "VERBOSE: False\n",
      "ABV []\n",
      "FLTR ['general', 'abdominal', 'pain']\n"
     ]
    },
    {
     "name": "stderr",
     "output_type": "stream",
     "text": [
      "\r",
      "24it [00:08,  4.00it/s]"
     ]
    },
    {
     "name": "stdout",
     "output_type": "stream",
     "text": [
      "Processing query 24\n",
      "VERBOSE: False\n",
      "ABV []\n",
      "FLTR ['elevated', 'amylase', 'pancreatitis']\n"
     ]
    },
    {
     "name": "stderr",
     "output_type": "stream",
     "text": [
      "\r",
      "25it [00:08,  3.93it/s]"
     ]
    },
    {
     "name": "stdout",
     "output_type": "stream",
     "text": [
      "Processing query 25\n",
      "VERBOSE: False\n",
      "ABV []\n",
      "FLTR ['monitoring', 'alcoholic', 'liver', 'disease']\n"
     ]
    },
    {
     "name": "stderr",
     "output_type": "stream",
     "text": [
      "\r",
      "26it [00:08,  3.90it/s]"
     ]
    },
    {
     "name": "stdout",
     "output_type": "stream",
     "text": [
      "Processing query 26\n",
      "VERBOSE: False\n",
      "ABV []\n",
      "FLTR ['screen', 'colorectal', 'cancer', 'high', 'risk']\n"
     ]
    },
    {
     "name": "stderr",
     "output_type": "stream",
     "text": [
      "\r",
      "27it [00:08,  3.87it/s]"
     ]
    },
    {
     "name": "stdout",
     "output_type": "stream",
     "text": [
      "Processing query 27\n",
      "VERBOSE: False\n",
      "ABV []\n",
      "FLTR ['abdominal', 'pain', 'crohn', 'disease']\n"
     ]
    },
    {
     "name": "stderr",
     "output_type": "stream",
     "text": [
      "\r",
      "28it [00:09,  3.80it/s]"
     ]
    },
    {
     "name": "stdout",
     "output_type": "stream",
     "text": [
      "Processing query 28\n",
      "VERBOSE: False\n",
      "ABV []\n",
      "FLTR ['postoperative', 'dysphagia']\n"
     ]
    },
    {
     "name": "stderr",
     "output_type": "stream",
     "text": [
      "\r",
      "29it [00:09,  3.87it/s]"
     ]
    },
    {
     "name": "stdout",
     "output_type": "stream",
     "text": [
      "Processing query 29\n",
      "VERBOSE: False\n",
      "ABV []\n",
      "FLTR ['severe', 'abdominal', 'pain', 'mesenteric', 'ischemia']\n"
     ]
    },
    {
     "name": "stderr",
     "output_type": "stream",
     "text": [
      "\r",
      "30it [00:09,  3.81it/s]"
     ]
    },
    {
     "name": "stdout",
     "output_type": "stream",
     "text": [
      "Processing query 30\n",
      "VERBOSE: False\n",
      "ABV []\n",
      "FLTR ['jaundice', 'cholelithiasis']\n"
     ]
    },
    {
     "name": "stderr",
     "output_type": "stream",
     "text": [
      "\r",
      "31it [00:10,  3.88it/s]"
     ]
    },
    {
     "name": "stdout",
     "output_type": "stream",
     "text": [
      "Processing query 31\n",
      "VERBOSE: False\n",
      "ABV [['left', 'lower', 'quadrant']]\n",
      "FLTR ['llq', 'abdominal', 'pain']\n",
      "embedding:  ['left', 'lower', 'quadrant'] 0.5\n"
     ]
    },
    {
     "name": "stderr",
     "output_type": "stream",
     "text": [
      "\r",
      "32it [00:10,  3.87it/s]"
     ]
    },
    {
     "name": "stdout",
     "output_type": "stream",
     "text": [
      "Processing query 32\n",
      "VERBOSE: False\n",
      "ABV []\n",
      "FLTR ['liver', 'mass', 'incidental', 'ultrasound', 'finding']\n"
     ]
    },
    {
     "name": "stderr",
     "output_type": "stream",
     "text": [
      "\r",
      "33it [00:10,  3.77it/s]"
     ]
    },
    {
     "name": "stdout",
     "output_type": "stream",
     "text": [
      "Processing query 33\n",
      "VERBOSE: False\n",
      "ABV []\n",
      "FLTR ['esophageal', 'bleeding', 'esophageal', 'ulcer']\n"
     ]
    },
    {
     "name": "stderr",
     "output_type": "stream",
     "text": [
      "\r",
      "34it [00:10,  3.83it/s]"
     ]
    },
    {
     "name": "stdout",
     "output_type": "stream",
     "text": [
      "Processing query 34\n",
      "VERBOSE: False\n",
      "ABV [['right', 'upper', 'quadrant']]\n",
      "FLTR ['ruq', 'abdominal', 'mass']\n",
      "embedding:  ['right', 'upper', 'quadrant'] 0.5\n"
     ]
    },
    {
     "name": "stderr",
     "output_type": "stream",
     "text": [
      "\r",
      "35it [00:11,  3.90it/s]"
     ]
    },
    {
     "name": "stdout",
     "output_type": "stream",
     "text": [
      "Processing query 35\n",
      "VERBOSE: False\n",
      "ABV []\n",
      "FLTR ['pancreatic', 'cyst', 'workup']\n"
     ]
    },
    {
     "name": "stderr",
     "output_type": "stream",
     "text": [
      "\r",
      "36it [00:11,  3.96it/s]"
     ]
    },
    {
     "name": "stdout",
     "output_type": "stream",
     "text": [
      "Processing query 36\n",
      "VERBOSE: False\n",
      "ABV []\n",
      "FLTR ['stage', 'rectal', 'cancer']\n"
     ]
    },
    {
     "name": "stderr",
     "output_type": "stream",
     "text": [
      "\r",
      "37it [00:11,  4.02it/s]"
     ]
    },
    {
     "name": "stdout",
     "output_type": "stream",
     "text": [
      "Processing query 37\n",
      "VERBOSE: False\n",
      "ABV []\n",
      "FLTR ['appendicitis']\n"
     ]
    },
    {
     "name": "stderr",
     "output_type": "stream",
     "text": [
      "\r",
      "38it [00:11,  4.06it/s]"
     ]
    },
    {
     "name": "stdout",
     "output_type": "stream",
     "text": [
      "Processing query 38\n",
      "VERBOSE: False\n",
      "ABV [['right', 'upper', 'quadrant']]\n",
      "FLTR ['ruq', 'abdominal', 'pain', 'fever']\n",
      "embedding:  ['right', 'upper', 'quadrant'] 0.42857142857142855\n"
     ]
    },
    {
     "name": "stderr",
     "output_type": "stream",
     "text": [
      "\r",
      "39it [00:12,  3.98it/s]"
     ]
    },
    {
     "name": "stdout",
     "output_type": "stream",
     "text": [
      "Processing query 39\n",
      "VERBOSE: False\n",
      "ABV []\n",
      "FLTR ['stage', 'pancreatic', 'cancer']\n"
     ]
    },
    {
     "name": "stderr",
     "output_type": "stream",
     "text": [
      "\r",
      "40it [00:12,  3.97it/s]"
     ]
    },
    {
     "name": "stdout",
     "output_type": "stream",
     "text": [
      "Processing query 40\n",
      "VERBOSE: False\n",
      "ABV []\n",
      "FLTR ['abdominal', 'pain', 'nausea', 'small', 'bowel', 'obstruction']\n"
     ]
    },
    {
     "name": "stderr",
     "output_type": "stream",
     "text": [
      "\r",
      "41it [00:12,  3.99it/s]"
     ]
    },
    {
     "name": "stdout",
     "output_type": "stream",
     "text": [
      "Processing query 41\n",
      "VERBOSE: False\n",
      "ABV []\n",
      "FLTR ['postmenopausal', 'vaginal', 'bleeding']\n"
     ]
    },
    {
     "name": "stderr",
     "output_type": "stream",
     "text": [
      "\r",
      "42it [00:12,  3.94it/s]"
     ]
    },
    {
     "name": "stdout",
     "output_type": "stream",
     "text": [
      "Processing query 42\n",
      "VERBOSE: False\n",
      "ABV []\n",
      "FLTR ['acute', 'pelvic', 'pain']\n"
     ]
    },
    {
     "name": "stderr",
     "output_type": "stream",
     "text": [
      "\r",
      "43it [00:13,  4.01it/s]"
     ]
    },
    {
     "name": "stdout",
     "output_type": "stream",
     "text": [
      "Processing query 43\n",
      "VERBOSE: False\n",
      "ABV [['alpha', 'fetoprotein']]\n",
      "FLTR ['abnormal', 'afp', 'ass', 'fetal', 'well']\n",
      "embedding:  ['alpha', 'fetoprotein'] 0.2857142857142857\n"
     ]
    },
    {
     "name": "stderr",
     "output_type": "stream",
     "text": [
      "\r",
      "44it [00:13,  4.13it/s]"
     ]
    },
    {
     "name": "stdout",
     "output_type": "stream",
     "text": [
      "Processing query 44\n",
      "VERBOSE: False\n",
      "ABV []\n",
      "FLTR ['routine', 'prenatal', 'visit', 'woman', 'preterm', 'delivery', 'ass', 'cervix']\n"
     ]
    },
    {
     "name": "stderr",
     "output_type": "stream",
     "text": [
      "\r",
      "45it [00:13,  4.26it/s]"
     ]
    },
    {
     "name": "stdout",
     "output_type": "stream",
     "text": [
      "Processing query 45\n",
      "VERBOSE: False\n",
      "ABV []\n",
      "FLTR ['adnexal', 'malignancy']\n"
     ]
    },
    {
     "name": "stderr",
     "output_type": "stream",
     "text": [
      "\r",
      "46it [00:13,  4.37it/s]"
     ]
    },
    {
     "name": "stdout",
     "output_type": "stream",
     "text": [
      "Processing query 46\n",
      "VERBOSE: False\n",
      "ABV []\n",
      "FLTR ['failure', 'conceive', 'irregular', 'period', 'infertility', 'workup']\n"
     ]
    },
    {
     "name": "stderr",
     "output_type": "stream",
     "text": [
      "\r",
      "47it [00:13,  4.40it/s]"
     ]
    },
    {
     "name": "stdout",
     "output_type": "stream",
     "text": [
      "Processing query 47\n",
      "VERBOSE: False\n",
      "ABV []\n",
      "FLTR ['spotting', 'week', 'gestational', 'age', 'first', 'trimester', 'bleeding']\n"
     ]
    },
    {
     "name": "stderr",
     "output_type": "stream",
     "text": [
      "\r",
      "48it [00:14,  4.46it/s]"
     ]
    },
    {
     "name": "stdout",
     "output_type": "stream",
     "text": [
      "Processing query 48\n",
      "VERBOSE: False\n",
      "ABV []\n",
      "FLTR ['gestational', 'trophoblastic', 'disease']\n"
     ]
    },
    {
     "name": "stderr",
     "output_type": "stream",
     "text": [
      "\r",
      "49it [00:14,  4.58it/s]"
     ]
    },
    {
     "name": "stdout",
     "output_type": "stream",
     "text": [
      "Processing query 49\n",
      "VERBOSE: False\n",
      "ABV []\n",
      "FLTR ['elevated', 'blood', 'pressure', 'gestational', 'diabetes', 'presenting', 'fetal', 'growth', 'assessment']\n"
     ]
    },
    {
     "name": "stderr",
     "output_type": "stream",
     "text": [
      "\r",
      "50it [00:14,  4.60it/s]"
     ]
    },
    {
     "name": "stdout",
     "output_type": "stream",
     "text": [
      "Processing query 50\n",
      "VERBOSE: False\n",
      "ABV []\n",
      "FLTR ['twin', 'pregnancy', 'determine', 'chorionicity']\n"
     ]
    },
    {
     "name": "stderr",
     "output_type": "stream",
     "text": [
      "\r",
      "51it [00:14,  4.65it/s]"
     ]
    },
    {
     "name": "stdout",
     "output_type": "stream",
     "text": [
      "Processing query 51\n",
      "VERBOSE: False\n",
      "ABV [['breast', 'cancer', '1']]\n",
      "FLTR ['positive', 'ovarian', 'cancer', 'screening']\n",
      "embedding:  ['breast', 'cancer', '1'] 0.42857142857142855\n"
     ]
    },
    {
     "name": "stderr",
     "output_type": "stream",
     "text": [
      "\r",
      "52it [00:15,  4.60it/s]"
     ]
    },
    {
     "name": "stdout",
     "output_type": "stream",
     "text": [
      "Processing query 52\n",
      "VERBOSE: False\n",
      "ABV []\n",
      "FLTR ['incontinence', 'vaginal', 'prolapse']\n"
     ]
    },
    {
     "name": "stderr",
     "output_type": "stream",
     "text": [
      "\r",
      "53it [00:15,  4.60it/s]"
     ]
    },
    {
     "name": "stdout",
     "output_type": "stream",
     "text": [
      "Processing query 53\n",
      "VERBOSE: False\n",
      "ABV []\n",
      "FLTR ['vaginal', 'dryness', 'pain']\n"
     ]
    },
    {
     "name": "stderr",
     "output_type": "stream",
     "text": [
      "55it [00:15,  4.68it/s]"
     ]
    },
    {
     "name": "stdout",
     "output_type": "stream",
     "text": [
      "Processing query 54\n",
      "VERBOSE: False\n",
      "ABV []\n",
      "FLTR ['grade', 'endometrial', 'cancer', 'surgical', 'planning']\n",
      "Processing query 55\n",
      "VERBOSE: False\n",
      "ABV []\n",
      "FLTR ['surgical', 'evaluation', 'stage', 'cervical', 'cancer']\n"
     ]
    },
    {
     "name": "stderr",
     "output_type": "stream",
     "text": [
      "\r",
      "56it [00:15,  4.55it/s]"
     ]
    },
    {
     "name": "stdout",
     "output_type": "stream",
     "text": [
      "Processing query 56\n",
      "VERBOSE: False\n",
      "ABV []\n",
      "FLTR ['vaginal', 'bleeding', 'placenta', 'previa']\n"
     ]
    },
    {
     "name": "stderr",
     "output_type": "stream",
     "text": [
      "\r",
      "57it [00:16,  4.54it/s]"
     ]
    },
    {
     "name": "stdout",
     "output_type": "stream",
     "text": [
      "Processing query 57\n",
      "VERBOSE: False\n",
      "ABV []\n",
      "FLTR ['recurrence', 'high', 'grade', 'ovarian', 'cancer', 'remission']\n"
     ]
    },
    {
     "name": "stderr",
     "output_type": "stream",
     "text": [
      "\r",
      "58it [00:16,  4.59it/s]"
     ]
    },
    {
     "name": "stdout",
     "output_type": "stream",
     "text": [
      "Processing query 58\n",
      "VERBOSE: False\n",
      "ABV []\n",
      "FLTR ['vaginal', 'bleeding', 'placental', 'abnormality']\n"
     ]
    },
    {
     "name": "stderr",
     "output_type": "stream",
     "text": [
      "\r",
      "59it [00:16,  4.64it/s]"
     ]
    },
    {
     "name": "stdout",
     "output_type": "stream",
     "text": [
      "Processing query 59\n",
      "VERBOSE: False\n",
      "ABV []\n",
      "FLTR ['motorvehicle', 'collision', 'bleeding', 'bruising', 'abdomen', 'leg']\n"
     ]
    },
    {
     "name": "stderr",
     "output_type": "stream",
     "text": [
      "\r",
      "60it [00:16,  4.64it/s]"
     ]
    },
    {
     "name": "stdout",
     "output_type": "stream",
     "text": [
      "Processing query 60\n",
      "VERBOSE: False\n",
      "ABV []\n",
      "FLTR ['hand', 'pain', 'fall']\n"
     ]
    },
    {
     "name": "stderr",
     "output_type": "stream",
     "text": [
      "\r",
      "61it [00:16,  4.40it/s]"
     ]
    },
    {
     "name": "stdout",
     "output_type": "stream",
     "text": [
      "Processing query 61\n",
      "VERBOSE: False\n",
      "ABV []\n",
      "FLTR ['hip', 'pain', 'fall']\n"
     ]
    },
    {
     "name": "stderr",
     "output_type": "stream",
     "text": [
      "\r",
      "62it [00:17,  4.30it/s]"
     ]
    },
    {
     "name": "stdout",
     "output_type": "stream",
     "text": [
      "Processing query 62\n",
      "VERBOSE: False\n",
      "ABV []\n",
      "FLTR ['ankle', 'sprain']\n"
     ]
    },
    {
     "name": "stderr",
     "output_type": "stream",
     "text": [
      "\r",
      "63it [00:17,  4.33it/s]"
     ]
    },
    {
     "name": "stdout",
     "output_type": "stream",
     "text": [
      "Processing query 63\n",
      "VERBOSE: False\n",
      "ABV []\n",
      "FLTR ['nonpenetrating', 'foot', 'injury', 'fracture']\n"
     ]
    },
    {
     "name": "stderr",
     "output_type": "stream",
     "text": [
      "\r",
      "64it [00:17,  4.38it/s]"
     ]
    },
    {
     "name": "stdout",
     "output_type": "stream",
     "text": [
      "Processing query 64\n",
      "VERBOSE: False\n",
      "ABV [['posterior', 'cruciate', 'ligament']]\n",
      "FLTR ['knee', 'injury', 'fall', 'pcl', 'tear']\n",
      "embedding:  ['posterior', 'cruciate', 'ligament'] 0.375\n"
     ]
    },
    {
     "name": "stderr",
     "output_type": "stream",
     "text": [
      "\r",
      "65it [00:17,  4.37it/s]"
     ]
    },
    {
     "name": "stdout",
     "output_type": "stream",
     "text": [
      "Processing query 65\n",
      "VERBOSE: False\n",
      "ABV []\n",
      "FLTR ['intermittent', 'ankle', 'pain', 'year']\n"
     ]
    },
    {
     "name": "stderr",
     "output_type": "stream",
     "text": [
      "\r",
      "66it [00:18,  4.45it/s]"
     ]
    },
    {
     "name": "stdout",
     "output_type": "stream",
     "text": [
      "Processing query 66\n",
      "VERBOSE: False\n",
      "ABV []\n",
      "FLTR ['progressive', 'lower', 'back', 'stiffness', 'pain']\n"
     ]
    },
    {
     "name": "stderr",
     "output_type": "stream",
     "text": [
      "\r",
      "67it [00:18,  4.51it/s]"
     ]
    },
    {
     "name": "stdout",
     "output_type": "stream",
     "text": [
      "Processing query 67\n",
      "VERBOSE: False\n",
      "ABV []\n",
      "FLTR ['elbow', 'pain', 'limited', 'range', 'motion', 'month']\n"
     ]
    },
    {
     "name": "stderr",
     "output_type": "stream",
     "text": [
      "\r",
      "68it [00:18,  4.59it/s]"
     ]
    },
    {
     "name": "stdout",
     "output_type": "stream",
     "text": [
      "Processing query 68\n",
      "VERBOSE: False\n",
      "ABV []\n",
      "FLTR ['bilateral', 'interphalangeal', 'joint', 'redness', 'pain', 'erosive', 'osteoarthritis']\n"
     ]
    },
    {
     "name": "stderr",
     "output_type": "stream",
     "text": [
      "\r",
      "69it [00:18,  4.63it/s]"
     ]
    },
    {
     "name": "stdout",
     "output_type": "stream",
     "text": [
      "Processing query 69\n",
      "VERBOSE: False\n",
      "ABV []\n",
      "FLTR ['chronic', 'onset', 'pain', 'bilateral', 'flat', 'foot']\n"
     ]
    },
    {
     "name": "stderr",
     "output_type": "stream",
     "text": [
      "\r",
      "70it [00:18,  4.62it/s]"
     ]
    },
    {
     "name": "stdout",
     "output_type": "stream",
     "text": [
      "Processing query 70\n",
      "VERBOSE: False\n",
      "ABV []\n",
      "FLTR ['pain', 'femoroacetabular', 'impingment']\n"
     ]
    },
    {
     "name": "stderr",
     "output_type": "stream",
     "text": [
      "\r",
      "71it [00:19,  4.65it/s]"
     ]
    },
    {
     "name": "stdout",
     "output_type": "stream",
     "text": [
      "Processing query 71\n",
      "VERBOSE: False\n",
      "ABV []\n",
      "FLTR ['progressive', 'knee', 'pain', 'month', 'knee', 'effusion']\n"
     ]
    },
    {
     "name": "stderr",
     "output_type": "stream",
     "text": [
      "\r",
      "72it [00:19,  4.65it/s]"
     ]
    },
    {
     "name": "stdout",
     "output_type": "stream",
     "text": [
      "Processing query 72\n",
      "VERBOSE: False\n",
      "ABV []\n",
      "FLTR ['chronic', 'hand', 'wrist', 'pain', 'weakness', 'carpal', 'tunnel', 'syndrome']\n"
     ]
    },
    {
     "name": "stderr",
     "output_type": "stream",
     "text": [
      "\r",
      "73it [00:19,  4.61it/s]"
     ]
    },
    {
     "name": "stdout",
     "output_type": "stream",
     "text": [
      "Processing query 73\n",
      "VERBOSE: False\n",
      "ABV []\n",
      "FLTR ['osteosarcoma', 'right', 'knee', 'pain', 'metastasis']\n"
     ]
    },
    {
     "name": "stderr",
     "output_type": "stream",
     "text": [
      "\r",
      "74it [00:19,  4.47it/s]"
     ]
    },
    {
     "name": "stdout",
     "output_type": "stream",
     "text": [
      "Processing query 74\n",
      "VERBOSE: False\n",
      "ABV []\n",
      "FLTR ['pain', 'shoulder', 'replacement', 'surgery']\n"
     ]
    },
    {
     "name": "stderr",
     "output_type": "stream",
     "text": [
      "\r",
      "75it [00:20,  4.50it/s]"
     ]
    },
    {
     "name": "stdout",
     "output_type": "stream",
     "text": [
      "Processing query 75\n",
      "VERBOSE: False\n",
      "ABV []\n",
      "FLTR ['pain', 'swelling', 'total', 'hip', 'replacement']\n"
     ]
    },
    {
     "name": "stderr",
     "output_type": "stream",
     "text": [
      "77it [00:20,  4.61it/s]"
     ]
    },
    {
     "name": "stdout",
     "output_type": "stream",
     "text": [
      "Processing query 76\n",
      "VERBOSE: False\n",
      "ABV []\n",
      "FLTR ['pain', 'swelling', 'total', 'knee', 'arthroplasty', 'suspect', 'infection']\n",
      "Processing query 77\n",
      "VERBOSE: False\n",
      "ABV []\n",
      "FLTR ['incidental', 'finding', 'lumbar', 'compression', 'fracture', 'back', 'pain']\n"
     ]
    },
    {
     "name": "stderr",
     "output_type": "stream",
     "text": [
      "\r",
      "78it [00:20,  4.54it/s]"
     ]
    },
    {
     "name": "stdout",
     "output_type": "stream",
     "text": [
      "Processing query 78\n",
      "VERBOSE: False\n",
      "ABV []\n",
      "FLTR ['painful', 'hip', 'confirmed', 'collapsed', 'femoral', 'head']\n"
     ]
    },
    {
     "name": "stderr",
     "output_type": "stream",
     "text": [
      "\r",
      "79it [00:20,  4.45it/s]"
     ]
    },
    {
     "name": "stdout",
     "output_type": "stream",
     "text": [
      "Processing query 79\n",
      "VERBOSE: False\n",
      "ABV []\n",
      "FLTR ['asymptomatic', 'screening', 'low', 'bone', 'mineral', 'density']\n"
     ]
    },
    {
     "name": "stderr",
     "output_type": "stream",
     "text": [
      "\r",
      "80it [00:21,  4.39it/s]"
     ]
    },
    {
     "name": "stdout",
     "output_type": "stream",
     "text": [
      "Processing query 80\n",
      "VERBOSE: False\n",
      "ABV []\n",
      "FLTR ['bone', 'tumor', 'radiographically', 'staging']\n"
     ]
    },
    {
     "name": "stderr",
     "output_type": "stream",
     "text": [
      "\r",
      "81it [00:21,  4.46it/s]"
     ]
    },
    {
     "name": "stdout",
     "output_type": "stream",
     "text": [
      "Processing query 81\n",
      "VERBOSE: False\n",
      "ABV []\n",
      "FLTR ['rotater', 'cuff', 'tear']\n"
     ]
    },
    {
     "name": "stderr",
     "output_type": "stream",
     "text": [
      "\r",
      "82it [00:21,  4.52it/s]"
     ]
    },
    {
     "name": "stdout",
     "output_type": "stream",
     "text": [
      "Processing query 82\n",
      "VERBOSE: False\n",
      "ABV []\n",
      "FLTR ['humeral', 'head', 'facture', 'confirmed', 'treatment']\n"
     ]
    },
    {
     "name": "stderr",
     "output_type": "stream",
     "text": [
      "\r",
      "83it [00:21,  4.55it/s]"
     ]
    },
    {
     "name": "stdout",
     "output_type": "stream",
     "text": [
      "Processing query 83\n",
      "VERBOSE: False\n",
      "ABV []\n",
      "FLTR ['palpable', 'superficial', 'mass', 'right', 'knee']\n"
     ]
    },
    {
     "name": "stderr",
     "output_type": "stream",
     "text": [
      "\r",
      "84it [00:22,  4.60it/s]"
     ]
    },
    {
     "name": "stdout",
     "output_type": "stream",
     "text": [
      "Processing query 84\n",
      "VERBOSE: False\n",
      "ABV []\n",
      "FLTR ['leg', 'pain', 'exertion', 'stress', 'fracture']\n"
     ]
    },
    {
     "name": "stderr",
     "output_type": "stream",
     "text": [
      "\r",
      "85it [00:22,  4.57it/s]"
     ]
    },
    {
     "name": "stdout",
     "output_type": "stream",
     "text": [
      "Processing query 85\n",
      "VERBOSE: False\n",
      "ABV []\n",
      "FLTR ['followup', 'study', 'diabetic', 'ulcer', 'foot', 'swelling']\n"
     ]
    },
    {
     "name": "stderr",
     "output_type": "stream",
     "text": [
      "\r",
      "86it [00:22,  4.62it/s]"
     ]
    },
    {
     "name": "stdout",
     "output_type": "stream",
     "text": [
      "Processing query 86\n",
      "VERBOSE: False\n",
      "ABV []\n",
      "FLTR ['right', 'lower', 'extremity', 'cellulitis']\n"
     ]
    },
    {
     "name": "stderr",
     "output_type": "stream",
     "text": [
      "\r",
      "87it [00:22,  4.65it/s]"
     ]
    },
    {
     "name": "stdout",
     "output_type": "stream",
     "text": [
      "Processing query 87\n",
      "VERBOSE: False\n",
      "ABV []\n",
      "FLTR ['cervical', 'spinal', 'cord', 'injury']\n"
     ]
    },
    {
     "name": "stderr",
     "output_type": "stream",
     "text": [
      "\r",
      "88it [00:22,  4.67it/s]"
     ]
    },
    {
     "name": "stdout",
     "output_type": "stream",
     "text": [
      "Processing query 88\n",
      "VERBOSE: False\n",
      "ABV []\n",
      "FLTR ['recent', 'ischemic', 'event', 'acute', 'change', 'mental', 'status']\n"
     ]
    },
    {
     "name": "stderr",
     "output_type": "stream",
     "text": [
      "90it [00:23,  4.69it/s]"
     ]
    },
    {
     "name": "stdout",
     "output_type": "stream",
     "text": [
      "Processing query 89\n",
      "VERBOSE: False\n",
      "ABV []\n",
      "FLTR ['ataxia', 'fall', 'ladder']\n"
     ]
    },
    {
     "name": "stderr",
     "output_type": "stream",
     "text": [
      "92it [00:23,  4.76it/s]"
     ]
    },
    {
     "name": "stdout",
     "output_type": "stream",
     "text": [
      "Processing query 90\n",
      "VERBOSE: False\n",
      "ABV []\n",
      "FLTR ['sudden', 'headache', 'double', 'vision', 'hemmorrhage']\n",
      "Processing query 91\n",
      "VERBOSE: False\n",
      "ABV []\n",
      "FLTR ['new', 'onset', 'neck', 'pain', 'first', 'study']\n",
      "Processing query 92\n",
      "VERBOSE: False\n",
      "ABV []\n",
      "FLTR ['new', 'onset', 'anosmia', 'cranial', 'nerve', 'compression']\n"
     ]
    },
    {
     "name": "stderr",
     "output_type": "stream",
     "text": [
      "\r",
      "93it [00:23,  4.75it/s]"
     ]
    },
    {
     "name": "stdout",
     "output_type": "stream",
     "text": [
      "Processing query 93\n",
      "VERBOSE: False\n",
      "ABV []\n",
      "FLTR ['mental', 'decline', 'alzheimer', 'disease']\n"
     ]
    },
    {
     "name": "stderr",
     "output_type": "stream",
     "text": [
      "\r",
      "94it [00:24,  4.75it/s]"
     ]
    },
    {
     "name": "stdout",
     "output_type": "stream",
     "text": [
      "Processing query 94\n",
      "VERBOSE: False\n",
      "ABV []\n",
      "FLTR ['head', 'injury', 'concussion', 'playing', 'sport']\n"
     ]
    },
    {
     "name": "stderr",
     "output_type": "stream",
     "text": [
      "\r",
      "95it [00:24,  4.76it/s]"
     ]
    },
    {
     "name": "stdout",
     "output_type": "stream",
     "text": [
      "Processing query 95\n",
      "VERBOSE: False\n",
      "ABV []\n",
      "FLTR ['sudden', 'extremely', 'painful', 'headache']\n"
     ]
    },
    {
     "name": "stderr",
     "output_type": "stream",
     "text": [
      "\r",
      "96it [00:24,  4.79it/s]"
     ]
    },
    {
     "name": "stdout",
     "output_type": "stream",
     "text": [
      "Processing query 96\n",
      "VERBOSE: False\n",
      "ABV []\n",
      "FLTR ['congential', 'deafness', 'evaluation', 'cochlear', 'implant']\n"
     ]
    },
    {
     "name": "stderr",
     "output_type": "stream",
     "text": [
      "\r",
      "97it [00:24,  4.74it/s]"
     ]
    },
    {
     "name": "stdout",
     "output_type": "stream",
     "text": [
      "Processing query 97\n",
      "VERBOSE: False\n",
      "ABV []\n",
      "FLTR ['persistent', 'lower', 'back', 'pain', 'working', 'week', 'ago']\n"
     ]
    },
    {
     "name": "stderr",
     "output_type": "stream",
     "text": [
      "\r",
      "98it [00:25,  4.72it/s]"
     ]
    },
    {
     "name": "stdout",
     "output_type": "stream",
     "text": [
      "Processing query 98\n",
      "VERBOSE: False\n",
      "ABV []\n",
      "FLTR ['incidental', 'finding', 'lumbar', 'compression', 'fracture', 'back', 'pain']\n"
     ]
    },
    {
     "name": "stderr",
     "output_type": "stream",
     "text": [
      "\r",
      "99it [00:25,  4.70it/s]"
     ]
    },
    {
     "name": "stdout",
     "output_type": "stream",
     "text": [
      "Processing query 99\n",
      "VERBOSE: False\n",
      "ABV []\n",
      "FLTR ['resting', 'tremor', 'bradykinesia', 'rigidity', 'parkinsonianism']\n"
     ]
    },
    {
     "name": "stderr",
     "output_type": "stream",
     "text": [
      "\r",
      "100it [00:25,  4.69it/s]"
     ]
    },
    {
     "name": "stdout",
     "output_type": "stream",
     "text": [
      "Processing query 100\n",
      "VERBOSE: False\n",
      "ABV []\n",
      "FLTR ['pain', 'neck', 'radiating', 'arm', 'motorvehicle', 'accident', 'cervical', 'myelopathy']\n"
     ]
    },
    {
     "name": "stderr",
     "output_type": "stream",
     "text": [
      "\r",
      "101it [00:25,  4.69it/s]"
     ]
    },
    {
     "name": "stdout",
     "output_type": "stream",
     "text": [
      "Processing query 101\n",
      "VERBOSE: False\n",
      "ABV []\n",
      "FLTR ['parotid', 'mass', 'tumor']\n"
     ]
    },
    {
     "name": "stderr",
     "output_type": "stream",
     "text": [
      "\r",
      "102it [00:25,  4.44it/s]"
     ]
    },
    {
     "name": "stdout",
     "output_type": "stream",
     "text": [
      "Processing query 102\n",
      "VERBOSE: False\n",
      "ABV []\n",
      "FLTR ['diabetes', 'insipidus', 'initial', 'study']\n"
     ]
    },
    {
     "name": "stderr",
     "output_type": "stream",
     "text": [
      "\r",
      "103it [00:26,  4.33it/s]"
     ]
    },
    {
     "name": "stdout",
     "output_type": "stream",
     "text": [
      "Processing query 103\n",
      "VERBOSE: False\n",
      "ABV []\n",
      "FLTR ['right', 'eye', 'pain', 'blurred', 'vision', 'optic', 'neuritis']\n"
     ]
    },
    {
     "name": "stderr",
     "output_type": "stream",
     "text": [
      "\r",
      "104it [00:26,  4.24it/s]"
     ]
    },
    {
     "name": "stdout",
     "output_type": "stream",
     "text": [
      "Processing query 104\n",
      "VERBOSE: False\n",
      "ABV []\n",
      "FLTR ['penetrating', 'neck', 'injury', 'right', 'carotid', 'bruit']\n"
     ]
    },
    {
     "name": "stderr",
     "output_type": "stream",
     "text": [
      "\r",
      "105it [00:26,  4.26it/s]"
     ]
    },
    {
     "name": "stdout",
     "output_type": "stream",
     "text": [
      "Processing query 105\n",
      "VERBOSE: False\n",
      "ABV []\n",
      "FLTR ['brachial', 'plexopathy', 'surgery']\n"
     ]
    },
    {
     "name": "stderr",
     "output_type": "stream",
     "text": [
      "\r",
      "106it [00:26,  4.30it/s]"
     ]
    },
    {
     "name": "stdout",
     "output_type": "stream",
     "text": [
      "Processing query 106\n",
      "VERBOSE: False\n",
      "ABV []\n",
      "FLTR ['new', 'onset', 'seizure', 'motorvehicle', 'crash']\n"
     ]
    },
    {
     "name": "stderr",
     "output_type": "stream",
     "text": [
      "\r",
      "107it [00:27,  4.36it/s]"
     ]
    },
    {
     "name": "stdout",
     "output_type": "stream",
     "text": [
      "Processing query 107\n",
      "VERBOSE: False\n",
      "ABV []\n",
      "FLTR ['sinusitis', 'epistaxis', 'sinonasal', 'tumor']\n"
     ]
    },
    {
     "name": "stderr",
     "output_type": "stream",
     "text": [
      "\r",
      "108it [00:27,  4.41it/s]"
     ]
    },
    {
     "name": "stdout",
     "output_type": "stream",
     "text": [
      "Processing query 108\n",
      "VERBOSE: False\n",
      "ABV []\n",
      "FLTR ['cervical', 'spinal', 'cord', 'injury']\n"
     ]
    },
    {
     "name": "stderr",
     "output_type": "stream",
     "text": [
      "\r",
      "109it [00:27,  4.47it/s]"
     ]
    },
    {
     "name": "stdout",
     "output_type": "stream",
     "text": [
      "Processing query 109\n",
      "VERBOSE: False\n",
      "ABV [['Cowden-Lhermitte-Duclos', 'syndrome']]\n",
      "FLTR ['sudden', 'onset', 'numbness', 'cold', 'finger', 'arterial', 'thoracic', 'outlet', 'syndrome']\n",
      "embedding:  ['Cowden-Lhermitte-Duclos', 'syndrome'] 0.18181818181818182\n"
     ]
    },
    {
     "name": "stderr",
     "output_type": "stream",
     "text": [
      "\r",
      "110it [00:27,  4.48it/s]"
     ]
    },
    {
     "name": "stdout",
     "output_type": "stream",
     "text": [
      "Processing query 110\n",
      "VERBOSE: False\n",
      "ABV []\n",
      "FLTR ['palpable', 'mass', 'thyroid', 'initial', 'study']\n"
     ]
    },
    {
     "name": "stderr",
     "output_type": "stream",
     "text": [
      "\r",
      "111it [00:27,  4.55it/s]"
     ]
    },
    {
     "name": "stdout",
     "output_type": "stream",
     "text": [
      "Processing query 111\n",
      "VERBOSE: False\n",
      "ABV []\n",
      "FLTR ['subjective', 'tinnitus', 'month']\n"
     ]
    },
    {
     "name": "stderr",
     "output_type": "stream",
     "text": [
      "\r",
      "112it [00:28,  4.62it/s]"
     ]
    },
    {
     "name": "stdout",
     "output_type": "stream",
     "text": [
      "Processing query 112\n",
      "VERBOSE: False\n",
      "ABV []\n",
      "FLTR ['limp', 'right', 'hip', 'pain']\n"
     ]
    },
    {
     "name": "stderr",
     "output_type": "stream",
     "text": [
      "\r",
      "113it [00:28,  4.65it/s]"
     ]
    },
    {
     "name": "stdout",
     "output_type": "stream",
     "text": [
      "Processing query 113\n",
      "VERBOSE: False\n",
      "ABV []\n",
      "FLTR ['child', 'acute', 'back', 'pain', 'physical', 'activity']\n"
     ]
    },
    {
     "name": "stderr",
     "output_type": "stream",
     "text": [
      "\r",
      "114it [00:28,  4.66it/s]"
     ]
    },
    {
     "name": "stdout",
     "output_type": "stream",
     "text": [
      "Processing query 114\n",
      "VERBOSE: False\n",
      "ABV []\n",
      "FLTR ['child', 'hip', 'click', 'swayback', 'hip', 'developmental', 'dysplasia']\n"
     ]
    },
    {
     "name": "stderr",
     "output_type": "stream",
     "text": [
      "\r",
      "115it [00:28,  4.65it/s]"
     ]
    },
    {
     "name": "stdout",
     "output_type": "stream",
     "text": [
      "Processing query 115\n",
      "VERBOSE: False\n",
      "ABV []\n",
      "FLTR ['child', 'fever', 'week', 'no', 'apparent', 'source']\n"
     ]
    },
    {
     "name": "stderr",
     "output_type": "stream",
     "text": [
      "117it [00:29,  4.69it/s]"
     ]
    },
    {
     "name": "stdout",
     "output_type": "stream",
     "text": [
      "Processing query 116\n",
      "VERBOSE: False\n",
      "ABV []\n",
      "FLTR ['child', 'altered', 'mental', 'status', 'ground', 'level', 'fall', 'head', 'trauma']\n",
      "Processing query 117\n",
      "VERBOSE: False\n",
      "ABV []\n",
      "FLTR ['child', 'sudden', 'severe', 'headache', 'nausea']\n"
     ]
    },
    {
     "name": "stderr",
     "output_type": "stream",
     "text": [
      "119it [00:29,  4.79it/s]"
     ]
    },
    {
     "name": "stdout",
     "output_type": "stream",
     "text": [
      "Processing query 118\n",
      "VERBOSE: False\n",
      "ABV []\n",
      "FLTR ['child', 'hematuria', 'associated', 'dysuria']\n",
      "Processing query 119\n",
      "VERBOSE: False\n",
      "ABV []\n",
      "FLTR ['community', 'acquired', 'pneumonia']\n"
     ]
    },
    {
     "name": "stderr",
     "output_type": "stream",
     "text": [
      "121it [00:30,  4.87it/s]"
     ]
    },
    {
     "name": "stdout",
     "output_type": "stream",
     "text": [
      "Processing query 120\n",
      "VERBOSE: False\n",
      "ABV []\n",
      "FLTR ['congenital', 'scoliosis']\n",
      "Processing query 121\n",
      "VERBOSE: False\n",
      "ABV []\n",
      "FLTR ['child', 'new', 'onset', 'generalized', 'seizure']\n"
     ]
    },
    {
     "name": "stderr",
     "output_type": "stream",
     "text": [
      "\r",
      "122it [00:30,  4.85it/s]"
     ]
    },
    {
     "name": "stdout",
     "output_type": "stream",
     "text": [
      "Processing query 122\n",
      "VERBOSE: False\n",
      "ABV []\n",
      "FLTR ['fungal', 'sinusitis']\n"
     ]
    },
    {
     "name": "stderr",
     "output_type": "stream",
     "text": [
      "\r",
      "123it [00:30,  4.67it/s]"
     ]
    },
    {
     "name": "stdout",
     "output_type": "stream",
     "text": [
      "Processing query 123\n",
      "VERBOSE: False\n",
      "ABV []\n",
      "FLTR ['child', 'acute', 'periumbilical', 'pain', 'appendicitis']\n"
     ]
    },
    {
     "name": "stderr",
     "output_type": "stream",
     "text": [
      "\r",
      "124it [00:30,  4.49it/s]"
     ]
    },
    {
     "name": "stdout",
     "output_type": "stream",
     "text": [
      "Processing query 124\n",
      "VERBOSE: False\n",
      "ABV []\n",
      "FLTR ['child', 'skin', 'bruise', 'tenderness', 'physical', 'abuse']\n"
     ]
    },
    {
     "name": "stderr",
     "output_type": "stream",
     "text": [
      "\r",
      "125it [00:31,  4.30it/s]"
     ]
    },
    {
     "name": "stdout",
     "output_type": "stream",
     "text": [
      "Processing query 125\n",
      "VERBOSE: False\n",
      "ABV []\n",
      "FLTR ['lumbar', 'spine', 'trauma', 'fall']\n"
     ]
    },
    {
     "name": "stderr",
     "output_type": "stream",
     "text": [
      "\r",
      "126it [00:31,  4.24it/s]"
     ]
    },
    {
     "name": "stdout",
     "output_type": "stream",
     "text": [
      "Processing query 126\n",
      "VERBOSE: False\n",
      "ABV []\n",
      "FLTR ['urinary', 'tract', 'infection', 'associated', 'fever']\n"
     ]
    },
    {
     "name": "stderr",
     "output_type": "stream",
     "text": [
      "\r",
      "127it [00:31,  4.24it/s]"
     ]
    },
    {
     "name": "stdout",
     "output_type": "stream",
     "text": [
      "Processing query 127\n",
      "VERBOSE: False\n",
      "ABV []\n",
      "FLTR ['week', 'old', 'bilious', 'vomiting']\n"
     ]
    },
    {
     "name": "stderr",
     "output_type": "stream",
     "text": [
      "\r",
      "128it [00:31,  4.31it/s]"
     ]
    },
    {
     "name": "stdout",
     "output_type": "stream",
     "text": [
      "Processing query 128\n",
      "VERBOSE: False\n",
      "ABV []\n",
      "FLTR ['acute', 'lower', 'respiratory', 'illness', 'low', 'sat', 'fever', 'tachypnea']\n"
     ]
    },
    {
     "name": "stderr",
     "output_type": "stream",
     "text": [
      "\r",
      "129it [00:31,  4.32it/s]"
     ]
    },
    {
     "name": "stdout",
     "output_type": "stream",
     "text": [
      "Processing query 129\n",
      "VERBOSE: False\n",
      "ABV []\n",
      "FLTR ['recurrent', 'upper', 'respiratory', 'illness', 'baseline', 'immunocompromised']\n"
     ]
    },
    {
     "name": "stderr",
     "output_type": "stream",
     "text": [
      "131it [00:32,  4.49it/s]"
     ]
    },
    {
     "name": "stdout",
     "output_type": "stream",
     "text": [
      "Processing query 130\n",
      "VERBOSE: False\n",
      "ABV []\n",
      "FLTR ['chest', 'trauma', 'motorvehicle', 'accident']\n",
      "Processing query 131\n",
      "VERBOSE: False\n",
      "ABV []\n",
      "FLTR ['chronic', 'dyspnea', 'smoking']\n"
     ]
    },
    {
     "name": "stderr",
     "output_type": "stream",
     "text": [
      "\r",
      "132it [00:32,  4.57it/s]"
     ]
    },
    {
     "name": "stdout",
     "output_type": "stream",
     "text": [
      "Processing query 132\n",
      "VERBOSE: False\n",
      "ABV []\n",
      "FLTR ['recurrent', 'hemoptysis', 'dyspnea']\n"
     ]
    },
    {
     "name": "stderr",
     "output_type": "stream",
     "text": [
      "\r",
      "133it [00:32,  4.58it/s]"
     ]
    },
    {
     "name": "stdout",
     "output_type": "stream",
     "text": [
      "Processing query 133\n",
      "VERBOSE: False\n",
      "ABV []\n",
      "FLTR ['tb', 'positive', 'ppd']\n"
     ]
    },
    {
     "name": "stderr",
     "output_type": "stream",
     "text": [
      "\r",
      "134it [00:33,  4.54it/s]"
     ]
    },
    {
     "name": "stdout",
     "output_type": "stream",
     "text": [
      "Processing query 134\n",
      "VERBOSE: False\n",
      "ABV [['intensive', 'care', 'unit']]\n",
      "FLTR ['icu', 'patient', 'chest', 'tube', 'removal']\n",
      "embedding:  ['intensive', 'care', 'unit'] 0.375\n"
     ]
    },
    {
     "name": "stderr",
     "output_type": "stream",
     "text": [
      "\r",
      "135it [00:33,  4.57it/s]"
     ]
    },
    {
     "name": "stdout",
     "output_type": "stream",
     "text": [
      "Processing query 135\n",
      "VERBOSE: False\n",
      "ABV []\n",
      "FLTR ['smoker', 'lung', 'cancer', 'screening']\n"
     ]
    },
    {
     "name": "stderr",
     "output_type": "stream",
     "text": [
      "\r",
      "136it [00:33,  4.56it/s]"
     ]
    },
    {
     "name": "stdout",
     "output_type": "stream",
     "text": [
      "Processing query 136\n",
      "VERBOSE: False\n",
      "ABV []\n",
      "FLTR ['lung', 'carcinoma', 'staging']\n"
     ]
    },
    {
     "name": "stderr",
     "output_type": "stream",
     "text": [
      "\r",
      "137it [00:33,  4.53it/s]"
     ]
    },
    {
     "name": "stdout",
     "output_type": "stream",
     "text": [
      "Processing query 137\n",
      "VERBOSE: False\n",
      "ABV []\n",
      "FLTR ['iron', 'mill', 'worker', 'presenting', 'lung', 'disease', 'screening']\n"
     ]
    },
    {
     "name": "stderr",
     "output_type": "stream",
     "text": [
      "\r",
      "138it [00:33,  4.42it/s]"
     ]
    },
    {
     "name": "stdout",
     "output_type": "stream",
     "text": [
      "Processing query 138\n",
      "VERBOSE: False\n",
      "ABV []\n",
      "FLTR ['incidental', 'pulmonary', 'nodule', 'finding']\n"
     ]
    },
    {
     "name": "stderr",
     "output_type": "stream",
     "text": [
      "\r",
      "139it [00:34,  4.45it/s]"
     ]
    },
    {
     "name": "stdout",
     "output_type": "stream",
     "text": [
      "Processing query 139\n",
      "VERBOSE: False\n",
      "ABV [['cardiopulmonary', 'resuscitation']]\n",
      "FLTR ['rib', 'fracture', 'cpr']\n",
      "embedding:  ['cardiopulmonary', 'resuscitation'] 0.4\n"
     ]
    },
    {
     "name": "stderr",
     "output_type": "stream",
     "text": [
      "\r",
      "140it [00:34,  4.46it/s]"
     ]
    },
    {
     "name": "stdout",
     "output_type": "stream",
     "text": [
      "Processing query 140\n",
      "VERBOSE: False\n",
      "ABV []\n",
      "FLTR ['chest', 'radiography', 'unstable', 'emphysema']\n"
     ]
    },
    {
     "name": "stderr",
     "output_type": "stream",
     "text": [
      "\r",
      "141it [00:34,  4.27it/s]"
     ]
    },
    {
     "name": "stdout",
     "output_type": "stream",
     "text": [
      "Processing query 141\n",
      "VERBOSE: False\n",
      "ABV []\n",
      "FLTR ['acute', 'dsypnea', 'positive', 'pulmonary', 'embolism']\n"
     ]
    },
    {
     "name": "stderr",
     "output_type": "stream",
     "text": [
      "\r",
      "142it [00:34,  4.27it/s]"
     ]
    },
    {
     "name": "stdout",
     "output_type": "stream",
     "text": [
      "Processing query 142\n",
      "VERBOSE: False\n",
      "ABV []\n",
      "FLTR ['patient', 'chronic', 'fatigue', 'dyspnea', 'pulmonary', 'hypertension']\n"
     ]
    },
    {
     "name": "stderr",
     "output_type": "stream",
     "text": [
      "\r",
      "143it [00:35,  4.31it/s]"
     ]
    },
    {
     "name": "stdout",
     "output_type": "stream",
     "text": [
      "Processing query 143\n",
      "VERBOSE: False\n",
      "ABV [['Cowden-Lhermitte-Duclos', 'syndrome']]\n",
      "FLTR ['sudden', 'onset', 'numbness', 'cold', 'finger', 'arterial', 'thoracic', 'outlet', 'syndrome']\n",
      "embedding:  ['Cowden-Lhermitte-Duclos', 'syndrome'] 0.18181818181818182\n"
     ]
    },
    {
     "name": "stderr",
     "output_type": "stream",
     "text": [
      "\r",
      "144it [00:35,  4.35it/s]"
     ]
    },
    {
     "name": "stdout",
     "output_type": "stream",
     "text": [
      "Processing query 144\n",
      "VERBOSE: False\n",
      "ABV []\n",
      "FLTR ['flank', 'pain', 'dysuria', 'urolithiasis']\n"
     ]
    },
    {
     "name": "stderr",
     "output_type": "stream",
     "text": [
      "\r",
      "145it [00:35,  4.46it/s]"
     ]
    },
    {
     "name": "stdout",
     "output_type": "stream",
     "text": [
      "Processing query 145\n",
      "VERBOSE: False\n",
      "ABV []\n",
      "FLTR ['acute', 'scrotal', 'pain']\n"
     ]
    },
    {
     "name": "stderr",
     "output_type": "stream",
     "text": [
      "\r",
      "146it [00:35,  4.55it/s]"
     ]
    },
    {
     "name": "stdout",
     "output_type": "stream",
     "text": [
      "Processing query 146\n",
      "VERBOSE: False\n",
      "ABV []\n",
      "FLTR ['acute', 'fever', 'nausea', 'flank', 'pain', 'pyelonephritis']\n"
     ]
    },
    {
     "name": "stderr",
     "output_type": "stream",
     "text": [
      "\r",
      "147it [00:35,  4.45it/s]"
     ]
    },
    {
     "name": "stdout",
     "output_type": "stream",
     "text": [
      "Processing query 147\n",
      "VERBOSE: False\n",
      "ABV []\n",
      "FLTR ['episodic', 'hematospermia']\n"
     ]
    },
    {
     "name": "stderr",
     "output_type": "stream",
     "text": [
      "\r",
      "148it [00:36,  4.29it/s]"
     ]
    },
    {
     "name": "stdout",
     "output_type": "stream",
     "text": [
      "Processing query 148\n",
      "VERBOSE: False\n",
      "ABV []\n",
      "FLTR ['hematuria', 'associated', 'menstruation']\n"
     ]
    },
    {
     "name": "stderr",
     "output_type": "stream",
     "text": [
      "\r",
      "149it [00:36,  4.12it/s]"
     ]
    },
    {
     "name": "stdout",
     "output_type": "stream",
     "text": [
      "Processing query 149\n",
      "VERBOSE: False\n",
      "ABV []\n",
      "FLTR ['incidental', 'adrenal', 'mass', 'finding']\n"
     ]
    },
    {
     "name": "stderr",
     "output_type": "stream",
     "text": [
      "\r",
      "150it [00:36,  4.03it/s]"
     ]
    },
    {
     "name": "stdout",
     "output_type": "stream",
     "text": [
      "Processing query 150\n",
      "VERBOSE: False\n",
      "ABV []\n",
      "FLTR ['renal', 'mass']\n"
     ]
    },
    {
     "name": "stderr",
     "output_type": "stream",
     "text": [
      "\r",
      "151it [00:37,  3.87it/s]"
     ]
    },
    {
     "name": "stdout",
     "output_type": "stream",
     "text": [
      "Processing query 151\n",
      "VERBOSE: False\n",
      "ABV []\n",
      "FLTR ['frequent', 'urination', 'weak', 'urinary', 'stream', 'benign', 'prostatic', 'hyperplasia']\n"
     ]
    },
    {
     "name": "stderr",
     "output_type": "stream",
     "text": [
      "\r",
      "152it [00:37,  3.67it/s]"
     ]
    },
    {
     "name": "stdout",
     "output_type": "stream",
     "text": [
      "Processing query 152\n",
      "VERBOSE: False\n",
      "ABV []\n",
      "FLTR ['inability', 'urinate', 'penetrating', 'trauma', 'lower', 'abdomen']\n"
     ]
    },
    {
     "name": "stderr",
     "output_type": "stream",
     "text": [
      "\r",
      "153it [00:37,  3.61it/s]"
     ]
    },
    {
     "name": "stdout",
     "output_type": "stream",
     "text": [
      "Processing query 153\n",
      "VERBOSE: False\n",
      "ABV []\n",
      "FLTR ['renal', 'cell', 'cancer', 'followup', 'ablation']\n"
     ]
    },
    {
     "name": "stderr",
     "output_type": "stream",
     "text": [
      "\r",
      "154it [00:37,  3.52it/s]"
     ]
    },
    {
     "name": "stdout",
     "output_type": "stream",
     "text": [
      "Processing query 154\n",
      "VERBOSE: False\n",
      "ABV []\n",
      "FLTR ['followup', 'malignant', 'prostate', 'cancer']\n"
     ]
    },
    {
     "name": "stderr",
     "output_type": "stream",
     "text": [
      "\r",
      "155it [00:38,  3.45it/s]"
     ]
    },
    {
     "name": "stdout",
     "output_type": "stream",
     "text": [
      "Processing query 155\n",
      "VERBOSE: False\n",
      "ABV []\n",
      "FLTR ['surveillance', 'treatment', 'nonmuscle', 'invasive', 'bladder', 'cancer']\n"
     ]
    },
    {
     "name": "stderr",
     "output_type": "stream",
     "text": [
      "\r",
      "156it [00:38,  3.48it/s]"
     ]
    },
    {
     "name": "stdout",
     "output_type": "stream",
     "text": [
      "Processing query 156\n",
      "VERBOSE: False\n",
      "ABV []\n",
      "FLTR ['diagnosis', 'bladder', 'cancer', 'staging']\n"
     ]
    },
    {
     "name": "stderr",
     "output_type": "stream",
     "text": [
      "\r",
      "157it [00:38,  3.57it/s]"
     ]
    },
    {
     "name": "stdout",
     "output_type": "stream",
     "text": [
      "Processing query 157\n",
      "VERBOSE: False\n",
      "ABV []\n",
      "FLTR ['dysuria', 'hematuria', 'prostate', 'cancer']\n"
     ]
    },
    {
     "name": "stderr",
     "output_type": "stream",
     "text": [
      "\r",
      "158it [00:39,  3.51it/s]"
     ]
    },
    {
     "name": "stdout",
     "output_type": "stream",
     "text": [
      "Processing query 158\n",
      "VERBOSE: False\n",
      "ABV [['urinary', 'tract', 'infection']]\n",
      "FLTR ['female', 'recurring', 'uti']\n",
      "embedding:  ['urinary', 'tract', 'infection'] 0.5\n"
     ]
    },
    {
     "name": "stderr",
     "output_type": "stream",
     "text": [
      "\r",
      "159it [00:39,  3.27it/s]"
     ]
    },
    {
     "name": "stdout",
     "output_type": "stream",
     "text": [
      "Processing query 159\n",
      "VERBOSE: False\n",
      "ABV []\n",
      "FLTR ['staging', 'renal', 'cell', 'carcinoma']\n"
     ]
    },
    {
     "name": "stderr",
     "output_type": "stream",
     "text": [
      "\r",
      "160it [00:39,  3.31it/s]"
     ]
    },
    {
     "name": "stdout",
     "output_type": "stream",
     "text": [
      "Processing query 160\n",
      "VERBOSE: False\n",
      "ABV []\n",
      "FLTR ['oliguria', 'large', 'blood', 'loss', 'acute', 'renal', 'failure']\n"
     ]
    },
    {
     "name": "stderr",
     "output_type": "stream",
     "text": [
      "\r",
      "161it [00:39,  3.42it/s]"
     ]
    },
    {
     "name": "stdout",
     "output_type": "stream",
     "text": [
      "Processing query 161\n",
      "VERBOSE: False\n",
      "ABV []\n",
      "FLTR ['renal', 'transplant', 'week', 'ago', 'presenting', 'increasing', 'creatinine']\n"
     ]
    },
    {
     "name": "stderr",
     "output_type": "stream",
     "text": [
      "\r",
      "162it [00:40,  3.59it/s]"
     ]
    },
    {
     "name": "stdout",
     "output_type": "stream",
     "text": [
      "Processing query 162\n",
      "VERBOSE: False\n",
      "ABV [['estimated', 'glomerular', 'filtration', 'rate']]\n",
      "FLTR ['low', 'egfr', 'hypertension', 'renovascular', 'hypertension']\n",
      "embedding:  ['estimated', 'glomerular', 'filtration', 'rate'] 0.4444444444444444\n"
     ]
    },
    {
     "name": "stderr",
     "output_type": "stream",
     "text": [
      "\r",
      "163it [00:40,  3.77it/s]"
     ]
    },
    {
     "name": "stdout",
     "output_type": "stream",
     "text": [
      "Processing query 163\n",
      "VERBOSE: False\n",
      "ABV []\n",
      "FLTR ['testicular', 'cancer', 'staging']\n"
     ]
    },
    {
     "name": "stderr",
     "output_type": "stream",
     "text": [
      "\r",
      "164it [00:40,  3.94it/s]"
     ]
    },
    {
     "name": "stdout",
     "output_type": "stream",
     "text": [
      "Processing query 164\n",
      "VERBOSE: False\n",
      "ABV [['abdominal', 'aortic', 'aneurysm']]\n",
      "FLTR ['followup', 'asymptomatic', 'aaa']\n",
      "embedding:  ['abdominal', 'aortic', 'aneurysm'] 0.5\n"
     ]
    },
    {
     "name": "stderr",
     "output_type": "stream",
     "text": [
      "\r",
      "165it [00:40,  4.09it/s]"
     ]
    },
    {
     "name": "stdout",
     "output_type": "stream",
     "text": [
      "Processing query 165\n",
      "VERBOSE: False\n",
      "ABV [['abdominal', 'aortic', 'aneurysm']]\n",
      "FLTR ['planning', 'open', 'repair', 'aaa']\n",
      "embedding:  ['abdominal', 'aortic', 'aneurysm'] 0.42857142857142855\n"
     ]
    },
    {
     "name": "stderr",
     "output_type": "stream",
     "text": [
      "\r",
      "166it [00:41,  4.24it/s]"
     ]
    },
    {
     "name": "stdout",
     "output_type": "stream",
     "text": [
      "Processing query 166\n",
      "VERBOSE: False\n",
      "ABV []\n",
      "FLTR ['planning', 'chylothorax', 'trauma']\n"
     ]
    },
    {
     "name": "stderr",
     "output_type": "stream",
     "text": [
      "\r",
      "167it [00:41,  4.37it/s]"
     ]
    },
    {
     "name": "stdout",
     "output_type": "stream",
     "text": [
      "Processing query 167\n",
      "VERBOSE: False\n",
      "ABV [['arteriovenous', 'malformation']]\n",
      "FLTR ['dyspnea', 'cyanosis', 'pulmonary', 'avm']\n",
      "embedding:  ['arteriovenous', 'malformation'] 0.3333333333333333\n"
     ]
    },
    {
     "name": "stderr",
     "output_type": "stream",
     "text": [
      "\r",
      "168it [00:41,  4.46it/s]"
     ]
    },
    {
     "name": "stdout",
     "output_type": "stream",
     "text": [
      "Processing query 168\n",
      "VERBOSE: False\n",
      "ABV []\n",
      "FLTR ['chronic', 'focal', 'right', 'upper', 'extremity', 'pain', 'vascular', 'malformation']\n"
     ]
    },
    {
     "name": "stderr",
     "output_type": "stream",
     "text": [
      "\r",
      "169it [00:41,  4.51it/s]"
     ]
    },
    {
     "name": "stdout",
     "output_type": "stream",
     "text": [
      "Processing query 169\n",
      "VERBOSE: False\n",
      "ABV [['transcatheter', 'aortic', 'valve', 'replacement']]\n",
      "FLTR ['tavr', 'planning']\n",
      "embedding:  ['transcatheter', 'aortic', 'valve', 'replacement'] 0.6666666666666666\n"
     ]
    },
    {
     "name": "stderr",
     "output_type": "stream",
     "text": [
      "\r",
      "170it [00:41,  4.60it/s]"
     ]
    },
    {
     "name": "stdout",
     "output_type": "stream",
     "text": [
      "Processing query 170\n",
      "VERBOSE: False\n",
      "ABV []\n",
      "FLTR ['surgical', 'planning', 'breast', 'reconstruction', 'surgery']\n"
     ]
    },
    {
     "name": "stderr",
     "output_type": "stream",
     "text": [
      "\r",
      "171it [00:42,  4.66it/s]"
     ]
    },
    {
     "name": "stdout",
     "output_type": "stream",
     "text": [
      "Processing query 171\n",
      "VERBOSE: False\n",
      "ABV []\n",
      "FLTR ['severe', 'abdominal', 'pain', 'mesenteric', 'ischemia']\n"
     ]
    },
    {
     "name": "stderr",
     "output_type": "stream",
     "text": [
      "\r",
      "172it [00:42,  4.68it/s]"
     ]
    },
    {
     "name": "stdout",
     "output_type": "stream",
     "text": [
      "Processing query 172\n",
      "VERBOSE: False\n",
      "ABV []\n",
      "FLTR ['surveillance', 'endovascular', 'lower', 'extremity', 'arterial', 'revascularization', 'surgery']\n"
     ]
    },
    {
     "name": "stderr",
     "output_type": "stream",
     "text": [
      "\r",
      "173it [00:42,  4.67it/s]"
     ]
    },
    {
     "name": "stdout",
     "output_type": "stream",
     "text": [
      "Processing query 173\n",
      "VERBOSE: False\n",
      "ABV []\n",
      "FLTR ['painful', 'lower', 'extremity', 'peripheral', 'arterial', 'disease']\n"
     ]
    },
    {
     "name": "stderr",
     "output_type": "stream",
     "text": [
      "\r",
      "174it [00:42,  4.66it/s]"
     ]
    },
    {
     "name": "stdout",
     "output_type": "stream",
     "text": [
      "Processing query 174\n",
      "VERBOSE: False\n",
      "ABV []\n",
      "FLTR ['atherosclerotic', 'aortic', 'disease']\n"
     ]
    },
    {
     "name": "stderr",
     "output_type": "stream",
     "text": [
      "\r",
      "175it [00:43,  4.68it/s]"
     ]
    },
    {
     "name": "stdout",
     "output_type": "stream",
     "text": [
      "Processing query 175\n",
      "VERBOSE: False\n",
      "ABV []\n",
      "FLTR ['esophageal', 'bleeding', 'esophageal', 'ulcer']\n"
     ]
    },
    {
     "name": "stderr",
     "output_type": "stream",
     "text": [
      "\r",
      "176it [00:43,  4.74it/s]"
     ]
    },
    {
     "name": "stdout",
     "output_type": "stream",
     "text": [
      "Processing query 176\n",
      "VERBOSE: False\n",
      "ABV []\n",
      "FLTR ['penetrating', 'neck', 'injury', 'right', 'carotid', 'bruit']\n"
     ]
    },
    {
     "name": "stderr",
     "output_type": "stream",
     "text": [
      "\r",
      "177it [00:43,  4.73it/s]"
     ]
    },
    {
     "name": "stdout",
     "output_type": "stream",
     "text": [
      "Processing query 177\n",
      "VERBOSE: False\n",
      "ABV [['abdominal', 'aortic', 'aneurysm']]\n",
      "FLTR ['pulsatile', 'mass', 'abdomen', 'possible', 'aaa']\n",
      "embedding:  ['abdominal', 'aortic', 'aneurysm'] 0.375\n"
     ]
    },
    {
     "name": "stderr",
     "output_type": "stream",
     "text": [
      "\r",
      "178it [00:43,  4.67it/s]"
     ]
    },
    {
     "name": "stdout",
     "output_type": "stream",
     "text": [
      "Processing query 178\n",
      "VERBOSE: False\n",
      "ABV []\n",
      "FLTR ['cosmetic', 'management', 'lower', 'extremity', 'varicose', 'vein', 'venous', 'insufficiency']\n"
     ]
    },
    {
     "name": "stderr",
     "output_type": "stream",
     "text": [
      "\r",
      "179it [00:43,  4.60it/s]"
     ]
    },
    {
     "name": "stdout",
     "output_type": "stream",
     "text": [
      "Processing query 179\n",
      "VERBOSE: False\n",
      "ABV [['estimated', 'glomerular', 'filtration', 'rate']]\n",
      "FLTR ['low', 'egfr', 'hypertension', 'renovascular', 'hypertension']\n",
      "embedding:  ['estimated', 'glomerular', 'filtration', 'rate'] 0.4444444444444444\n"
     ]
    },
    {
     "name": "stderr",
     "output_type": "stream",
     "text": [
      "\r",
      "180it [00:44,  4.62it/s]"
     ]
    },
    {
     "name": "stdout",
     "output_type": "stream",
     "text": [
      "Processing query 180\n",
      "VERBOSE: False\n",
      "ABV []\n",
      "FLTR ['hyperacute', 'leg', 'pain', 'coldness']\n"
     ]
    },
    {
     "name": "stderr",
     "output_type": "stream",
     "text": [
      "\r",
      "181it [00:44,  4.63it/s]"
     ]
    },
    {
     "name": "stdout",
     "output_type": "stream",
     "text": [
      "Processing query 181\n",
      "VERBOSE: False\n",
      "ABV []\n",
      "FLTR ['left', 'leg', 'swelling', 'pain', 'deep', 'vein', 'thrombosis']\n"
     ]
    },
    {
     "name": "stderr",
     "output_type": "stream",
     "text": [
      "\r",
      "182it [00:44,  4.61it/s]"
     ]
    },
    {
     "name": "stdout",
     "output_type": "stream",
     "text": [
      "Processing query 182\n",
      "VERBOSE: False\n",
      "ABV []\n",
      "FLTR ['thoracic', 'aortic', 'aneurysm', 'chest', 'radiograph']\n"
     ]
    },
    {
     "name": "stderr",
     "output_type": "stream",
     "text": [
      "\r",
      "183it [00:44,  4.62it/s]"
     ]
    },
    {
     "name": "stdout",
     "output_type": "stream",
     "text": [
      "Processing query 183\n",
      "VERBOSE: False\n",
      "ABV []\n",
      "FLTR ['forearm', 'swelling', 'pain', 'susepcted', 'deep', 'vein', 'thrombosis']\n"
     ]
    },
    {
     "name": "stderr",
     "output_type": "stream",
     "text": [
      "\r",
      "184it [00:44,  4.65it/s]"
     ]
    },
    {
     "name": "stdout",
     "output_type": "stream",
     "text": [
      "Processing query 184\n",
      "VERBOSE: False\n",
      "ABV []\n",
      "FLTR ['surgical', 'planning', 'thoracic', 'aorta', 'repair', 'surgery']\n"
     ]
    },
    {
     "name": "stderr",
     "output_type": "stream",
     "text": [
      "\r",
      "185it [00:45,  4.64it/s]"
     ]
    },
    {
     "name": "stdout",
     "output_type": "stream",
     "text": [
      "Processing query 185\n",
      "VERBOSE: False\n",
      "ABV [['Cowden-Lhermitte-Duclos', 'syndrome']]\n",
      "FLTR ['sudden', 'onset', 'numbness', 'cold', 'finger', 'arterial', 'thoracic', 'outlet', 'syndrome']\n",
      "embedding:  ['Cowden-Lhermitte-Duclos', 'syndrome'] 0.18181818181818182\n"
     ]
    },
    {
     "name": "stderr",
     "output_type": "stream",
     "text": [
      "\r",
      "186it [00:45,  4.49it/s]"
     ]
    },
    {
     "name": "stdout",
     "output_type": "stream",
     "text": [
      "Processing query 186\n",
      "VERBOSE: False\n",
      "ABV []\n",
      "FLTR ['lower', 'leg', 'claudication', 'revascularization']\n"
     ]
    },
    {
     "name": "stderr",
     "output_type": "stream",
     "text": [
      "\r",
      "187it [00:45,  4.39it/s]"
     ]
    },
    {
     "name": "stdout",
     "output_type": "stream",
     "text": [
      "Processing query 187\n",
      "VERBOSE: False\n",
      "ABV [['abdominal', 'aortic', 'aneurysm']]\n",
      "FLTR ['planning', 'open', 'repair', 'aaa']\n",
      "embedding:  ['abdominal', 'aortic', 'aneurysm'] 0.42857142857142855\n"
     ]
    },
    {
     "name": "stderr",
     "output_type": "stream",
     "text": [
      "\r",
      "188it [00:45,  4.33it/s]"
     ]
    },
    {
     "name": "stdout",
     "output_type": "stream",
     "text": [
      "Processing query 188\n",
      "VERBOSE: False\n",
      "ABV []\n",
      "FLTR ['planning', 'chylothorax', 'trauma']\n"
     ]
    },
    {
     "name": "stderr",
     "output_type": "stream",
     "text": [
      "\r",
      "189it [00:46,  4.38it/s]"
     ]
    },
    {
     "name": "stdout",
     "output_type": "stream",
     "text": [
      "Processing query 189\n",
      "VERBOSE: False\n",
      "ABV []\n",
      "FLTR ['incidental', 'finding', 'lumbar', 'compression', 'fracture', 'back', 'pain']\n"
     ]
    },
    {
     "name": "stderr",
     "output_type": "stream",
     "text": [
      "\r",
      "190it [00:46,  4.42it/s]"
     ]
    },
    {
     "name": "stdout",
     "output_type": "stream",
     "text": [
      "Processing query 190\n",
      "VERBOSE: False\n",
      "ABV []\n",
      "FLTR ['biliary', 'obstruction', 'intervention']\n"
     ]
    },
    {
     "name": "stderr",
     "output_type": "stream",
     "text": [
      "\r",
      "191it [00:46,  4.50it/s]"
     ]
    },
    {
     "name": "stdout",
     "output_type": "stream",
     "text": [
      "Processing query 191\n",
      "VERBOSE: False\n",
      "ABV [['antibiotics']]\n",
      "FLTR ['central', 'venous', 'line', 'abx', 'infusion']\n",
      "embedding:  ['antibiotics'] 0.16666666666666666\n"
     ]
    },
    {
     "name": "stderr",
     "output_type": "stream",
     "text": [
      "\r",
      "192it [00:46,  4.52it/s]"
     ]
    },
    {
     "name": "stdout",
     "output_type": "stream",
     "text": [
      "Processing query 192\n",
      "VERBOSE: False\n",
      "ABV []\n",
      "FLTR ['acute', 'gastric', 'variceal', 'bleed']\n"
     ]
    },
    {
     "name": "stderr",
     "output_type": "stream",
     "text": [
      "\r",
      "193it [00:47,  4.57it/s]"
     ]
    },
    {
     "name": "stdout",
     "output_type": "stream",
     "text": [
      "Processing query 193\n",
      "VERBOSE: False\n",
      "ABV [['hepatocellular', 'carcinoma']]\n",
      "FLTR ['hcc', 'found', 'ct', 'angio']\n",
      "embedding:  ['hepatocellular', 'carcinoma'] 0.3333333333333333\n"
     ]
    },
    {
     "name": "stderr",
     "output_type": "stream",
     "text": [
      "\r",
      "194it [00:47,  4.58it/s]"
     ]
    },
    {
     "name": "stdout",
     "output_type": "stream",
     "text": [
      "Processing query 194\n",
      "VERBOSE: False\n",
      "ABV []\n",
      "FLTR ['filling', 'defect', 'bilateral', 'iliac', 'artery']\n"
     ]
    },
    {
     "name": "stderr",
     "output_type": "stream",
     "text": [
      "\r",
      "195it [00:47,  4.56it/s]"
     ]
    },
    {
     "name": "stdout",
     "output_type": "stream",
     "text": [
      "Processing query 195\n",
      "VERBOSE: False\n",
      "ABV [['deep', 'vein', 'thrombosis']]\n",
      "FLTR ['iliofemoral', 'dvt', 'ct']\n",
      "embedding:  ['deep', 'vein', 'thrombosis'] 0.5\n"
     ]
    },
    {
     "name": "stderr",
     "output_type": "stream",
     "text": [
      "\r",
      "196it [00:47,  4.46it/s]"
     ]
    },
    {
     "name": "stdout",
     "output_type": "stream",
     "text": [
      "Processing query 196\n",
      "VERBOSE: False\n",
      "ABV []\n",
      "FLTR ['potentially', 'infected', 'liver', 'abscess', 'ct']\n"
     ]
    },
    {
     "name": "stderr",
     "output_type": "stream",
     "text": [
      "\r",
      "197it [00:47,  4.48it/s]"
     ]
    },
    {
     "name": "stdout",
     "output_type": "stream",
     "text": [
      "Processing query 197\n",
      "VERBOSE: False\n",
      "ABV [['gastrointestinal']]\n",
      "FLTR ['recurrent', 'gi', 'bleeding']\n",
      "embedding:  ['gastrointestinal'] 0.25\n"
     ]
    },
    {
     "name": "stderr",
     "output_type": "stream",
     "text": [
      "\r",
      "198it [00:48,  4.50it/s]"
     ]
    },
    {
     "name": "stdout",
     "output_type": "stream",
     "text": [
      "Processing query 198\n",
      "VERBOSE: False\n",
      "ABV []\n",
      "FLTR ['cosmetic', 'management', 'lower', 'extremity', 'varicose', 'vein', 'venous', 'insufficiency']\n"
     ]
    },
    {
     "name": "stderr",
     "output_type": "stream",
     "text": [
      "\r",
      "199it [00:48,  4.00it/s]"
     ]
    },
    {
     "name": "stdout",
     "output_type": "stream",
     "text": [
      "Processing query 199\n",
      "VERBOSE: False\n",
      "ABV []\n",
      "FLTR ['hyperacute', 'abdominal', 'pain', 'mesenteric', 'ischemia', 'ct']\n"
     ]
    },
    {
     "name": "stderr",
     "output_type": "stream",
     "text": [
      "\r",
      "200it [00:48,  4.20it/s]"
     ]
    },
    {
     "name": "stdout",
     "output_type": "stream",
     "text": [
      "Processing query 200\n",
      "VERBOSE: False\n",
      "ABV []\n",
      "FLTR ['incidental', 'lung', 'nodule', 'finding', 'management', 'step']\n"
     ]
    },
    {
     "name": "stderr",
     "output_type": "stream",
     "text": [
      "\r",
      "201it [00:48,  4.25it/s]"
     ]
    },
    {
     "name": "stdout",
     "output_type": "stream",
     "text": [
      "Processing query 201\n",
      "VERBOSE: False\n",
      "ABV []\n",
      "FLTR ['right', 'flank', 'pain', 'oliguria', 'urinary', 'tract', 'obstruction']\n"
     ]
    },
    {
     "name": "stderr",
     "output_type": "stream",
     "text": [
      "\r",
      "202it [00:49,  4.30it/s]"
     ]
    },
    {
     "name": "stdout",
     "output_type": "stream",
     "text": [
      "Processing query 202\n",
      "VERBOSE: False\n",
      "ABV [['magnetic', 'resonance', 'imaging']]\n",
      "FLTR ['constipation', 'uterine', 'leiomyoma', 'mri']\n",
      "embedding:  ['magnetic', 'resonance', 'imaging'] 0.42857142857142855\n"
     ]
    },
    {
     "name": "stderr",
     "output_type": "stream",
     "text": [
      "\r",
      "203it [00:49,  4.34it/s]"
     ]
    },
    {
     "name": "stdout",
     "output_type": "stream",
     "text": [
      "Processing query 203\n",
      "VERBOSE: False\n",
      "ABV [['deep', 'vein', 'thrombosis']]\n",
      "FLTR ['dvt', 'inferior', 'vena', 'cava', 'filter', 'placement']\n",
      "embedding:  ['deep', 'vein', 'thrombosis'] 0.3333333333333333\n"
     ]
    },
    {
     "name": "stderr",
     "output_type": "stream",
     "text": [
      "\r",
      "204it [00:49,  4.42it/s]"
     ]
    },
    {
     "name": "stdout",
     "output_type": "stream",
     "text": [
      "Processing query 204\n",
      "VERBOSE: False\n",
      "ABV []\n",
      "FLTR ['surgical', 'planning', 'thoracic', 'aorta', 'repair', 'surgery']\n"
     ]
    },
    {
     "name": "stderr",
     "output_type": "stream",
     "text": [
      "205it [00:49,  4.12it/s]\n",
      "0it [00:00, ?it/s]"
     ]
    },
    {
     "name": "stdout",
     "output_type": "stream",
     "text": [
      "docs and headers successfully embedded\n",
      "Processing query 0\n",
      "VERBOSE: False\n",
      "ABV [['breast', 'cancer', '1']]\n",
      "FLTR ['genetic', 'screening', 'show', 'mutation', 'high', 'risk', 'screening']\n",
      "embedding:  ['breast', 'cancer', '1'] 0.3\n"
     ]
    },
    {
     "name": "stderr",
     "output_type": "stream",
     "text": [
      "\r",
      "1it [00:00,  4.56it/s]"
     ]
    },
    {
     "name": "stdout",
     "output_type": "stream",
     "text": [
      "Processing query 1\n",
      "VERBOSE: False\n",
      "ABV []\n",
      "FLTR ['firm', 'mass', 'left', 'breast', 'hip', 'surgery', 'diabetes', 'hypertension', 'recent', 'pregnancy', 'normal', 'lactation']\n"
     ]
    },
    {
     "name": "stderr",
     "output_type": "stream",
     "text": [
      "\r",
      "2it [00:00,  4.54it/s]"
     ]
    },
    {
     "name": "stdout",
     "output_type": "stream",
     "text": [
      "Processing query 2\n",
      "VERBOSE: False\n",
      "ABV [['status', 'post']]\n",
      "FLTR ['right', 'mastectomy', 'bilateral', 'breast', 'implant', 'reconstruction', 'check', 'potential', 'rupture']\n",
      "embedding:  ['status', 'post'] 0.18181818181818182\n"
     ]
    },
    {
     "name": "stderr",
     "output_type": "stream",
     "text": [
      "4it [00:00,  4.54it/s]"
     ]
    },
    {
     "name": "stdout",
     "output_type": "stream",
     "text": [
      "Processing query 3\n",
      "VERBOSE: False\n",
      "ABV []\n",
      "FLTR ['strong', 'family', 'breast', 'cancer', 'planning', 'bilateral', 'mastectomy', 'intermittent', 'mild', 'right', 'breast', 'pain', 'site', 'surgery']\n"
     ]
    },
    {
     "name": "stderr",
     "output_type": "stream",
     "text": [
      "\r",
      "5it [00:01,  4.58it/s]"
     ]
    },
    {
     "name": "stdout",
     "output_type": "stream",
     "text": [
      "Processing query 4\n",
      "VERBOSE: False\n",
      "ABV []\n",
      "FLTR ['right', 'breast', 'white', 'nipple', 'discharge', 'recent', 'maternity', 'family', 'heart', 'disease', 'diabetes']\n",
      "Processing query 5\n",
      "VERBOSE: False\n",
      "ABV [['hepatitis', 'C', 'virus']]\n",
      "FLTR ['man', 'palpable', 'mass', 'left', 'breast', 'nipple', 'retraction', 'breast', 'cancer', 'hcv', 'infection']\n",
      "embedding:  ['hepatitis', 'C', 'virus'] 0.21428571428571427\n"
     ]
    },
    {
     "name": "stderr",
     "output_type": "stream",
     "text": [
      "\r",
      "6it [00:01,  4.58it/s]"
     ]
    },
    {
     "name": "stdout",
     "output_type": "stream",
     "text": [
      "Processing query 6\n",
      "VERBOSE: False\n",
      "ABV []\n",
      "FLTR ['breast', 'cancer', 'diagnosed', 'month', 'ago', 'monitoring', 'chemotherapy', 'surgery', 'scheduled', 'month']\n"
     ]
    },
    {
     "name": "stderr",
     "output_type": "stream",
     "text": [
      "\r",
      "7it [00:01,  4.60it/s]"
     ]
    },
    {
     "name": "stdout",
     "output_type": "stream",
     "text": [
      "Processing query 7\n",
      "VERBOSE: False\n",
      "ABV []\n",
      "FLTR ['woman', 'palpable', 'mass', 'left', 'breast', 'initial', 'evaluation', 'hyperlipidemia']\n"
     ]
    },
    {
     "name": "stderr",
     "output_type": "stream",
     "text": [
      "\r",
      "8it [00:01,  4.49it/s]"
     ]
    },
    {
     "name": "stdout",
     "output_type": "stream",
     "text": [
      "Processing query 8\n",
      "VERBOSE: False\n",
      "ABV []\n",
      "FLTR ['newly', 'diagnosed', 'stage', 'breast', 'cancer', 'metastasis', 'stroke']\n"
     ]
    },
    {
     "name": "stderr",
     "output_type": "stream",
     "text": [
      "\r",
      "9it [00:02,  4.37it/s]"
     ]
    },
    {
     "name": "stdout",
     "output_type": "stream",
     "text": [
      "Processing query 9\n",
      "VERBOSE: False\n",
      "ABV []\n",
      "FLTR ['acute', 'upper', 'back', 'chest', 'pain', 'radiates', 'neck', 'aortic', 'dissection', 'hypertension', 'hyperlipidemia']\n"
     ]
    },
    {
     "name": "stderr",
     "output_type": "stream",
     "text": [
      "\r",
      "10it [00:02,  4.06it/s]"
     ]
    },
    {
     "name": "stdout",
     "output_type": "stream",
     "text": [
      "Processing query 10\n",
      "VERBOSE: False\n",
      "ABV [['year', 'old']]\n",
      "FLTR ['yo', 'man', 'acute', 'chest', 'pain', 'ruled', 'mi', 'hypertension']\n",
      "embedding:  ['year', 'old'] 0.2\n"
     ]
    },
    {
     "name": "stderr",
     "output_type": "stream",
     "text": [
      "\r",
      "11it [00:02,  3.87it/s]"
     ]
    },
    {
     "name": "stdout",
     "output_type": "stream",
     "text": [
      "Processing query 11\n",
      "VERBOSE: False\n",
      "ABV []\n",
      "FLTR ['asymptomatic', 'patient', 'benign', 'tumor', 'screen', 'coronary', 'artery', 'disease', 'prior', 'elective', 'tumor', 'resection']\n"
     ]
    },
    {
     "name": "stderr",
     "output_type": "stream",
     "text": [
      "\r",
      "12it [00:02,  3.73it/s]"
     ]
    },
    {
     "name": "stdout",
     "output_type": "stream",
     "text": [
      "Processing query 12\n",
      "VERBOSE: False\n",
      "ABV []\n",
      "FLTR ['male', 'coming', 'high', 'speed', 'motorvehicle', 'accident', 'potential', 'chest', 'trauma', 'no', 'significiant', 'medical']\n"
     ]
    },
    {
     "name": "stderr",
     "output_type": "stream",
     "text": [
      "\r",
      "13it [00:03,  3.66it/s]"
     ]
    },
    {
     "name": "stdout",
     "output_type": "stream",
     "text": [
      "Processing query 13\n",
      "VERBOSE: False\n",
      "ABV [['year', 'old']]\n",
      "FLTR ['yo', 'mi', 'hypertension', 'hyperlipidemia', 'substernal', 'chest', 'pressure', 'high', 'likelihood', 'acute', 'mi']\n",
      "embedding:  ['year', 'old'] 0.15384615384615385\n"
     ]
    },
    {
     "name": "stderr",
     "output_type": "stream",
     "text": [
      "\r",
      "14it [00:03,  3.66it/s]"
     ]
    },
    {
     "name": "stdout",
     "output_type": "stream",
     "text": [
      "Processing query 14\n",
      "VERBOSE: False\n",
      "ABV []\n",
      "FLTR ['chest', 'pain', 'upon', 'exertion', 'hypertension', 'hyperlipidemia', 'family', 'stroke', 'mi', 'coronary', 'artery', 'disease']\n"
     ]
    },
    {
     "name": "stderr",
     "output_type": "stream",
     "text": [
      "\r",
      "15it [00:03,  3.68it/s]"
     ]
    },
    {
     "name": "stdout",
     "output_type": "stream",
     "text": [
      "Processing query 15\n",
      "VERBOSE: False\n",
      "ABV []\n",
      "FLTR ['chronic', 'chest', 'pain', 'hyperlipidemia', 'family', 'coronary', 'artery', 'disease', 'heart', 'failure']\n"
     ]
    },
    {
     "name": "stderr",
     "output_type": "stream",
     "text": [
      "\r",
      "16it [00:03,  3.75it/s]"
     ]
    },
    {
     "name": "stdout",
     "output_type": "stream",
     "text": [
      "Processing query 16\n",
      "VERBOSE: False\n",
      "ABV [['year', 'old']]\n",
      "FLTR ['yo', 'male', 'dsypnea', 'myocardial', 'infarction', 'coronary', 'artery', 'disease']\n",
      "embedding:  ['year', 'old'] 0.2\n"
     ]
    },
    {
     "name": "stderr",
     "output_type": "stream",
     "text": [
      "\r",
      "17it [00:04,  3.79it/s]"
     ]
    },
    {
     "name": "stdout",
     "output_type": "stream",
     "text": [
      "Processing query 17\n",
      "VERBOSE: False\n",
      "ABV []\n",
      "FLTR ['patient', 'aortic', 'valve', 'calcification', 'needing', 'replacement', 'uncontrolled', 'hypertension']\n"
     ]
    },
    {
     "name": "stderr",
     "output_type": "stream",
     "text": [
      "\r",
      "18it [00:04,  3.71it/s]"
     ]
    },
    {
     "name": "stdout",
     "output_type": "stream",
     "text": [
      "Processing query 18\n",
      "VERBOSE: False\n",
      "ABV []\n",
      "FLTR ['systolic', 'murmur', 'mustard', 'procedure', 'flow', 'issue']\n"
     ]
    },
    {
     "name": "stderr",
     "output_type": "stream",
     "text": [
      "\r",
      "19it [00:04,  3.79it/s]"
     ]
    },
    {
     "name": "stdout",
     "output_type": "stream",
     "text": [
      "Processing query 19\n",
      "VERBOSE: False\n",
      "ABV [['electrokardiogram']]\n",
      "FLTR ['no', 'ekg', 'finding', 'family', 'hypertrophic', 'myocardiopathy']\n",
      "embedding:  ['electrokardiogram'] 0.14285714285714285\n"
     ]
    },
    {
     "name": "stderr",
     "output_type": "stream",
     "text": [
      "\r",
      "20it [00:05,  3.79it/s]"
     ]
    },
    {
     "name": "stdout",
     "output_type": "stream",
     "text": [
      "Processing query 20\n",
      "VERBOSE: False\n",
      "ABV []\n",
      "FLTR ['aortic', 'systolic', 'heart', 'murmur', 'iv', 'injection', 'heroin']\n"
     ]
    },
    {
     "name": "stderr",
     "output_type": "stream",
     "text": [
      "\r",
      "21it [00:05,  3.71it/s]"
     ]
    },
    {
     "name": "stdout",
     "output_type": "stream",
     "text": [
      "Processing query 21\n",
      "VERBOSE: False\n",
      "ABV []\n",
      "FLTR ['chronic', 'dsypnea', 'stable', 'angina', 'peripheral', 'edema', 'hypertension', 'hyperlipidemia', 'heart', 'failure']\n"
     ]
    },
    {
     "name": "stderr",
     "output_type": "stream",
     "text": [
      "\r",
      "22it [00:05,  3.76it/s]"
     ]
    },
    {
     "name": "stdout",
     "output_type": "stream",
     "text": [
      "Processing query 22\n",
      "VERBOSE: False\n",
      "ABV []\n",
      "FLTR ['acute', 'right', 'lower', 'chest', 'pain', 'tachypnea', 'deep', 'vein', 'thrombosis', 'recent', 'surgery']\n"
     ]
    },
    {
     "name": "stderr",
     "output_type": "stream",
     "text": [
      "\r",
      "23it [00:05,  3.84it/s]"
     ]
    },
    {
     "name": "stdout",
     "output_type": "stream",
     "text": [
      "Processing query 23\n",
      "VERBOSE: False\n",
      "ABV []\n",
      "FLTR ['general', 'abdominal', 'pain', 'recent', 'bowel', 'resection', 'surgery']\n"
     ]
    },
    {
     "name": "stderr",
     "output_type": "stream",
     "text": [
      "\r",
      "24it [00:06,  3.90it/s]"
     ]
    },
    {
     "name": "stdout",
     "output_type": "stream",
     "text": [
      "Processing query 24\n",
      "VERBOSE: False\n",
      "ABV []\n",
      "FLTR ['acute', 'epigastric', 'pain', 'elevated', 'amylase', 'leukocytosis', 'fever', 'pancreatitis', 'biliary', 'cholangitis']\n"
     ]
    },
    {
     "name": "stderr",
     "output_type": "stream",
     "text": [
      "\r",
      "25it [00:06,  3.89it/s]"
     ]
    },
    {
     "name": "stdout",
     "output_type": "stream",
     "text": [
      "Processing query 25\n",
      "VERBOSE: False\n",
      "ABV []\n",
      "FLTR ['male', 'year', 'alcohol', 'use', 'disorder', 'alcoholic', 'liver', 'disease', 'screen', 'hepatocellular', 'carcinoma']\n"
     ]
    },
    {
     "name": "stderr",
     "output_type": "stream",
     "text": [
      "\r",
      "26it [00:06,  3.93it/s]"
     ]
    },
    {
     "name": "stdout",
     "output_type": "stream",
     "text": [
      "Processing query 26\n",
      "VERBOSE: False\n",
      "ABV [['colorectal', 'cancer']]\n",
      "FLTR ['father', 'crc', 'age', 'colorectal', 'cancer', 'screening']\n",
      "embedding:  ['colorectal', 'cancer'] 0.25\n"
     ]
    },
    {
     "name": "stderr",
     "output_type": "stream",
     "text": [
      "\r",
      "27it [00:06,  4.00it/s]"
     ]
    },
    {
     "name": "stdout",
     "output_type": "stream",
     "text": [
      "Processing query 27\n",
      "VERBOSE: False\n",
      "ABV []\n",
      "FLTR ['episodic', 'abdominal', 'pain', 'diarrhea', 'fatigue', 'family', 'crohn', 'disease']\n"
     ]
    },
    {
     "name": "stderr",
     "output_type": "stream",
     "text": [
      "\r",
      "28it [00:07,  4.12it/s]"
     ]
    },
    {
     "name": "stdout",
     "output_type": "stream",
     "text": [
      "Processing query 28\n",
      "VERBOSE: False\n",
      "ABV [['constant', 'level', 'appearance']]\n",
      "FLTR ['inability', 'swallow', 'without', 'clear', 'cause', 'achlasia']\n",
      "embedding:  ['constant', 'level', 'appearance'] 0.3333333333333333\n"
     ]
    },
    {
     "name": "stderr",
     "output_type": "stream",
     "text": [
      "\r",
      "29it [00:07,  4.08it/s]"
     ]
    },
    {
     "name": "stdout",
     "output_type": "stream",
     "text": [
      "Processing query 29\n",
      "VERBOSE: False\n",
      "ABV []\n",
      "FLTR ['female', 'hyperlipidemia', 'present', 'hyperacute', 'servere', 'diffuse', 'abdominal', 'pain', 'acute', 'mesenteric', 'ischemia']\n"
     ]
    },
    {
     "name": "stderr",
     "output_type": "stream",
     "text": [
      "\r",
      "30it [00:07,  4.11it/s]"
     ]
    },
    {
     "name": "stdout",
     "output_type": "stream",
     "text": [
      "Processing query 30\n",
      "VERBOSE: False\n",
      "ABV []\n",
      "FLTR ['hyperlipidemia', 'hypertension', 'diabetes', 'mellitus', 'present', 'icteric', 'sclera', 'nonalcoholic', 'fatty', 'liver', 'disease']\n"
     ]
    },
    {
     "name": "stderr",
     "output_type": "stream",
     "text": [
      "\r",
      "31it [00:07,  4.03it/s]"
     ]
    },
    {
     "name": "stdout",
     "output_type": "stream",
     "text": [
      "Processing query 31\n",
      "VERBOSE: False\n",
      "ABV [['left', 'lower', 'quadrant']]\n",
      "FLTR ['chronic', 'llq', 'abdominal', 'pain', 'bloating', 'acute', 'fever', 'diverticulitis']\n",
      "embedding:  ['left', 'lower', 'quadrant'] 0.2727272727272727\n"
     ]
    },
    {
     "name": "stderr",
     "output_type": "stream",
     "text": [
      "\r",
      "32it [00:08,  4.07it/s]"
     ]
    },
    {
     "name": "stdout",
     "output_type": "stream",
     "text": [
      "Processing query 32\n",
      "VERBOSE: False\n",
      "ABV [['centimeter']]\n",
      "FLTR ['incidental', 'finding', 'cm', 'liver', 'mass', 'abdominal', 'ultrasound', 'no', 'liver', 'disease']\n",
      "embedding:  ['centimeter'] 0.09090909090909091\n"
     ]
    },
    {
     "name": "stderr",
     "output_type": "stream",
     "text": [
      "\r",
      "33it [00:08,  4.13it/s]"
     ]
    },
    {
     "name": "stdout",
     "output_type": "stream",
     "text": [
      "Processing query 33\n",
      "VERBOSE: False\n",
      "ABV [['gastroesophageal', 'reflux', 'disease']]\n",
      "FLTR ['endoscopy', 'revealed', 'esophageal', 'bleeding', 'likely', 'ulcer', 'gerd', 'hypertension']\n",
      "embedding:  ['gastroesophageal', 'reflux', 'disease'] 0.2727272727272727\n"
     ]
    },
    {
     "name": "stderr",
     "output_type": "stream",
     "text": [
      "\r",
      "34it [00:08,  4.15it/s]"
     ]
    },
    {
     "name": "stdout",
     "output_type": "stream",
     "text": [
      "Processing query 34\n",
      "VERBOSE: False\n",
      "ABV [['right', 'upper', 'quadrant']]\n",
      "FLTR ['asymptomatic', 'ruq', 'abdominal', 'mass', 'family', 'breast', 'cancer', 'colon', 'cancer']\n",
      "embedding:  ['right', 'upper', 'quadrant'] 0.25\n"
     ]
    },
    {
     "name": "stderr",
     "output_type": "stream",
     "text": [
      "\r",
      "35it [00:08,  4.18it/s]"
     ]
    },
    {
     "name": "stdout",
     "output_type": "stream",
     "text": [
      "Processing query 35\n",
      "VERBOSE: False\n",
      "ABV [['centimeter']]\n",
      "FLTR ['ct', 'abdomen', 'incidentally', 'finding', 'cm', 'pancreatic', 'cyst', 'hypertension']\n",
      "embedding:  ['centimeter'] 0.1111111111111111\n"
     ]
    },
    {
     "name": "stderr",
     "output_type": "stream",
     "text": [
      "\r",
      "36it [00:08,  4.18it/s]"
     ]
    },
    {
     "name": "stdout",
     "output_type": "stream",
     "text": [
      "Processing query 36\n",
      "VERBOSE: False\n",
      "ABV []\n",
      "FLTR ['recent', 'diagnosis', 'colorectal', 'cancer', 'screen', 'potential', 'metastasis', 'no', 'significant', 'medical']\n"
     ]
    },
    {
     "name": "stderr",
     "output_type": "stream",
     "text": [
      "\r",
      "37it [00:09,  4.20it/s]"
     ]
    },
    {
     "name": "stdout",
     "output_type": "stream",
     "text": [
      "Processing query 37\n",
      "VERBOSE: False\n",
      "ABV [['right', 'lower', 'quadrant']]\n",
      "FLTR ['patient', 'hyperacute', 'onset', 'rlq', 'pain', 'fever', 'appendicitis', 'no', 'significant', 'medical']\n",
      "embedding:  ['right', 'lower', 'quadrant'] 0.23076923076923078\n"
     ]
    },
    {
     "name": "stderr",
     "output_type": "stream",
     "text": [
      "\r",
      "38it [00:09,  4.20it/s]"
     ]
    },
    {
     "name": "stdout",
     "output_type": "stream",
     "text": [
      "Processing query 38\n",
      "VERBOSE: False\n",
      "ABV [['right', 'upper', 'quadrant']]\n",
      "FLTR ['male', 'acute', 'onset', 'ruq', 'abdominal', 'pain', 'fever', 'biliary', 'cholangitis', 'cholelithiasis']\n",
      "embedding:  ['right', 'upper', 'quadrant'] 0.23076923076923078\n"
     ]
    },
    {
     "name": "stderr",
     "output_type": "stream",
     "text": [
      "\r",
      "39it [00:09,  4.02it/s]"
     ]
    },
    {
     "name": "stdout",
     "output_type": "stream",
     "text": [
      "Processing query 39\n",
      "VERBOSE: False\n",
      "ABV []\n",
      "FLTR ['pancreatic', 'adenocarcinoma', 'receiving', 'neoadjuvant', 'therapy', 'pancreatic', 'resection']\n"
     ]
    },
    {
     "name": "stderr",
     "output_type": "stream",
     "text": [
      "\r",
      "40it [00:09,  4.00it/s]"
     ]
    },
    {
     "name": "stdout",
     "output_type": "stream",
     "text": [
      "Processing query 40\n",
      "VERBOSE: False\n",
      "ABV []\n",
      "FLTR ['acute', 'onset', 'abdominal', 'pain', 'nausea', 'constipation', 'small', 'bowel', 'obstruction', 'hypertension']\n"
     ]
    },
    {
     "name": "stderr",
     "output_type": "stream",
     "text": [
      "\r",
      "41it [00:10,  4.02it/s]"
     ]
    },
    {
     "name": "stdout",
     "output_type": "stream",
     "text": [
      "Processing query 41\n",
      "VERBOSE: False\n",
      "ABV [['centimeter']]\n",
      "FLTR ['vaginal', 'bleeding', 'postmenopausal', 'endometrial', 'cm', 'ultrasound']\n",
      "embedding:  ['centimeter'] 0.14285714285714285\n"
     ]
    },
    {
     "name": "stderr",
     "output_type": "stream",
     "text": [
      "\r",
      "42it [00:10,  3.97it/s]"
     ]
    },
    {
     "name": "stdout",
     "output_type": "stream",
     "text": [
      "Processing query 42\n",
      "VERBOSE: False\n",
      "ABV []\n",
      "FLTR ['pelvic', 'pain', 'nausea', 'vomiting', 'day', 'pregnant']\n"
     ]
    },
    {
     "name": "stderr",
     "output_type": "stream",
     "text": [
      "\r",
      "43it [00:10,  3.99it/s]"
     ]
    },
    {
     "name": "stdout",
     "output_type": "stream",
     "text": [
      "Processing query 43\n",
      "VERBOSE: False\n",
      "ABV []\n",
      "FLTR ['week', 'gestational', 'age', 'complaining', 'lack', 'fetal', 'movement', 'last', 'hour']\n"
     ]
    },
    {
     "name": "stderr",
     "output_type": "stream",
     "text": [
      "\r",
      "44it [00:10,  3.99it/s]"
     ]
    },
    {
     "name": "stdout",
     "output_type": "stream",
     "text": [
      "Processing query 44\n",
      "VERBOSE: False\n",
      "ABV []\n",
      "FLTR ['two', 'preterm', 'delivery', 'presenting', 'routine', 'ultrasound', 'routine', 'anatomy', 'scan']\n"
     ]
    },
    {
     "name": "stderr",
     "output_type": "stream",
     "text": [
      "\r",
      "45it [00:11,  4.02it/s]"
     ]
    },
    {
     "name": "stdout",
     "output_type": "stream",
     "text": [
      "Processing query 45\n",
      "VERBOSE: False\n",
      "ABV []\n",
      "FLTR ['woman', 'family', 'breast', 'cancer', 'presenting', 'pound', 'weight', 'loss', 'month', 'bloating', 'pelvic', 'malignancy']\n"
     ]
    },
    {
     "name": "stderr",
     "output_type": "stream",
     "text": [
      "\r",
      "46it [00:11,  4.03it/s]"
     ]
    },
    {
     "name": "stdout",
     "output_type": "stream",
     "text": [
      "Processing query 46\n",
      "VERBOSE: False\n",
      "ABV []\n",
      "FLTR ['irregular', 'period', 'type', 'diabetes', 'presenting', 'failure', 'conceive', 'month']\n"
     ]
    },
    {
     "name": "stderr",
     "output_type": "stream",
     "text": [
      "\r",
      "47it [00:11,  3.95it/s]"
     ]
    },
    {
     "name": "stdout",
     "output_type": "stream",
     "text": [
      "Processing query 47\n",
      "VERBOSE: False\n",
      "ABV []\n",
      "FLTR ['presenting', 'spotting', 'week', 'gestational', 'age']\n"
     ]
    },
    {
     "name": "stderr",
     "output_type": "stream",
     "text": [
      "\r",
      "48it [00:11,  4.05it/s]"
     ]
    },
    {
     "name": "stdout",
     "output_type": "stream",
     "text": [
      "Processing query 48\n",
      "VERBOSE: False\n",
      "ABV []\n",
      "FLTR ['recent', 'termination', 'procedure', 'presenting', 'vaginal', 'bleeding', 'vomiting', 'week']\n"
     ]
    },
    {
     "name": "stderr",
     "output_type": "stream",
     "text": [
      "\r",
      "49it [00:12,  4.01it/s]"
     ]
    },
    {
     "name": "stdout",
     "output_type": "stream",
     "text": [
      "Processing query 49\n",
      "VERBOSE: False\n",
      "ABV []\n",
      "FLTR ['gestational', 'hypertension', 'high', 'glucose', 'presenting', 'growth', 'ultrasound', 'week', 'gestational', 'age']\n"
     ]
    },
    {
     "name": "stderr",
     "output_type": "stream",
     "text": [
      "\r",
      "50it [00:12,  4.06it/s]"
     ]
    },
    {
     "name": "stdout",
     "output_type": "stream",
     "text": [
      "Processing query 50\n",
      "VERBOSE: False\n",
      "ABV []\n",
      "FLTR ['twin', 'pregnancy', 'presenting', 'routine', 'anatomy', 'scan']\n"
     ]
    },
    {
     "name": "stderr",
     "output_type": "stream",
     "text": [
      "\r",
      "51it [00:12,  4.19it/s]"
     ]
    },
    {
     "name": "stdout",
     "output_type": "stream",
     "text": [
      "Processing query 51\n",
      "VERBOSE: False\n",
      "ABV []\n",
      "FLTR ['genetic', 'predisposition', 'ovarian', 'malignancy', 'screening']\n"
     ]
    },
    {
     "name": "stderr",
     "output_type": "stream",
     "text": [
      "\r",
      "52it [00:12,  4.17it/s]"
     ]
    },
    {
     "name": "stdout",
     "output_type": "stream",
     "text": [
      "Processing query 52\n",
      "VERBOSE: False\n",
      "ABV []\n",
      "FLTR ['presenting', 'incontinence', 'encopresis', 'month']\n"
     ]
    },
    {
     "name": "stderr",
     "output_type": "stream",
     "text": [
      "\r",
      "53it [00:13,  4.18it/s]"
     ]
    },
    {
     "name": "stdout",
     "output_type": "stream",
     "text": [
      "Processing query 53\n",
      "VERBOSE: False\n",
      "ABV []\n",
      "FLTR ['presenting', 'vaginal', 'bleeding', 'pain', 'itching']\n"
     ]
    },
    {
     "name": "stderr",
     "output_type": "stream",
     "text": [
      "\r",
      "54it [00:13,  4.19it/s]"
     ]
    },
    {
     "name": "stdout",
     "output_type": "stream",
     "text": [
      "Processing query 54\n",
      "VERBOSE: False\n",
      "ABV []\n",
      "FLTR ['recent', 'endometrial', 'biopsy', 'showing', 'grade', 'endometrial', 'cancer', 'presenting', 'surgical', 'evaluation']\n"
     ]
    },
    {
     "name": "stderr",
     "output_type": "stream",
     "text": [
      "\r",
      "55it [00:13,  4.23it/s]"
     ]
    },
    {
     "name": "stdout",
     "output_type": "stream",
     "text": [
      "Processing query 55\n",
      "VERBOSE: False\n",
      "ABV [['magnetic', 'resonance', 'imaging']]\n",
      "FLTR ['recent', 'diagnosis', 'stage', 'cervical', 'cancer', 'presenting', 'surgical', 'evalutation', 'requesting', 'mri', 'scan']\n",
      "embedding:  ['magnetic', 'resonance', 'imaging'] 0.21428571428571427\n"
     ]
    },
    {
     "name": "stderr",
     "output_type": "stream",
     "text": [
      "\r",
      "56it [00:13,  4.10it/s]"
     ]
    },
    {
     "name": "stdout",
     "output_type": "stream",
     "text": [
      "Processing query 56\n",
      "VERBOSE: False\n",
      "ABV []\n",
      "FLTR ['cesarean', 'section', 'presenting', 'third', 'trimester', 'vaginal', 'bleeding']\n"
     ]
    },
    {
     "name": "stderr",
     "output_type": "stream",
     "text": [
      "\r",
      "57it [00:14,  4.05it/s]"
     ]
    },
    {
     "name": "stdout",
     "output_type": "stream",
     "text": [
      "Processing query 57\n",
      "VERBOSE: False\n",
      "ABV []\n",
      "FLTR ['high', 'grade', 'ovarian', 'cancer', 'status', 'surgical', 'resection', 'chemotherapy', 'remission', 'month', 'presenting', 'abdominal', 'pressure', 'fatigue', 'recurrence', 'malignancy']\n"
     ]
    },
    {
     "name": "stderr",
     "output_type": "stream",
     "text": [
      "\r",
      "58it [00:14,  3.99it/s]"
     ]
    },
    {
     "name": "stdout",
     "output_type": "stream",
     "text": [
      "Processing query 58\n",
      "VERBOSE: False\n",
      "ABV []\n",
      "FLTR ['myomectomy', 'one', 'cesarean', 'section', 'presenting', 'hematuria', 'placental', 'abnormality']\n"
     ]
    },
    {
     "name": "stderr",
     "output_type": "stream",
     "text": [
      "\r",
      "59it [00:14,  4.09it/s]"
     ]
    },
    {
     "name": "stdout",
     "output_type": "stream",
     "text": [
      "Processing query 59\n",
      "VERBOSE: False\n",
      "ABV []\n",
      "FLTR ['patient', 'motorvehicle', 'collision', 'hemodynamically', 'stable', 'abdominal', 'facial', 'bruising']\n"
     ]
    },
    {
     "name": "stderr",
     "output_type": "stream",
     "text": [
      "\r",
      "60it [00:14,  4.06it/s]"
     ]
    },
    {
     "name": "stdout",
     "output_type": "stream",
     "text": [
      "Processing query 60\n",
      "VERBOSE: False\n",
      "ABV []\n",
      "FLTR ['wrist', 'pain', 'swelling', 'falling', 'playing', 'soccer', 'no', 'external', 'bleeding']\n"
     ]
    },
    {
     "name": "stderr",
     "output_type": "stream",
     "text": [
      "\r",
      "61it [00:15,  4.07it/s]"
     ]
    },
    {
     "name": "stdout",
     "output_type": "stream",
     "text": [
      "Processing query 61\n",
      "VERBOSE: False\n",
      "ABV []\n",
      "FLTR ['woman', 'hypertension', 'presenting', 'left', 'hip', 'pain', 'fall']\n"
     ]
    },
    {
     "name": "stderr",
     "output_type": "stream",
     "text": [
      "\r",
      "62it [00:15,  3.96it/s]"
     ]
    },
    {
     "name": "stdout",
     "output_type": "stream",
     "text": [
      "Processing query 62\n",
      "VERBOSE: False\n",
      "ABV []\n",
      "FLTR ['male', 'ankle', 'swelling', 'pain', 'playing', 'basketball', 'able', 'walk', 'independently', 'pain', 'ankle', 'tender']\n"
     ]
    },
    {
     "name": "stderr",
     "output_type": "stream",
     "text": [
      "\r",
      "63it [00:15,  3.78it/s]"
     ]
    },
    {
     "name": "stdout",
     "output_type": "stream",
     "text": [
      "Processing query 63\n",
      "VERBOSE: False\n",
      "ABV []\n",
      "FLTR ['dorsal', 'left', 'foot', 'pain', 'dropping', 'tool', 'foot', 'able', 'put', 'weight', 'left', 'foot', 'fracture']\n"
     ]
    },
    {
     "name": "stderr",
     "output_type": "stream",
     "text": [
      "\r",
      "64it [00:15,  3.56it/s]"
     ]
    },
    {
     "name": "stdout",
     "output_type": "stream",
     "text": [
      "Processing query 64\n",
      "VERBOSE: False\n",
      "ABV []\n",
      "FLTR ['patient', 'knee', 'pain', 'twisting', 'injury', 'playing', 'football', 'able', 'walk', 'independently', 'negative', 'varus', 'valgus', 'test', 'positive', 'lachman', 'test']\n"
     ]
    },
    {
     "name": "stderr",
     "output_type": "stream",
     "text": [
      "\r",
      "65it [00:16,  3.35it/s]"
     ]
    },
    {
     "name": "stdout",
     "output_type": "stream",
     "text": [
      "Processing query 65\n",
      "VERBOSE: False\n",
      "ABV []\n",
      "FLTR ['lung', 'adenocarcinoma', 'remission', 'present', 'new', 'progressive', 'ankle', 'pain', 'past', 'month']\n"
     ]
    },
    {
     "name": "stderr",
     "output_type": "stream",
     "text": [
      "\r",
      "66it [00:16,  3.28it/s]"
     ]
    },
    {
     "name": "stdout",
     "output_type": "stream",
     "text": [
      "Processing query 66\n",
      "VERBOSE: False\n",
      "ABV []\n",
      "FLTR ['female', 'family', 'arthritis', 'presenting', 'gradual', 'onset', 'lower', 'back', 'stiffness', 'associated', 'fatigue', 'month', 'ankylosing', 'spondylitis']\n"
     ]
    },
    {
     "name": "stderr",
     "output_type": "stream",
     "text": [
      "\r",
      "67it [00:16,  3.21it/s]"
     ]
    },
    {
     "name": "stdout",
     "output_type": "stream",
     "text": [
      "Processing query 67\n",
      "VERBOSE: False\n",
      "ABV []\n",
      "FLTR ['tennis', 'player', 'presenting', 'progressive', 'right', 'elbow', 'pain', 'past', 'month', 'lateral', 'epicondylitis']\n"
     ]
    },
    {
     "name": "stderr",
     "output_type": "stream",
     "text": [
      "\r",
      "68it [00:17,  3.10it/s]"
     ]
    },
    {
     "name": "stdout",
     "output_type": "stream",
     "text": [
      "Processing query 68\n",
      "VERBOSE: False\n",
      "ABV [['transesophageal', 'echocardiography']]\n",
      "FLTR ['woman', 'obesity', 'alcohol', 'use', 'disorder', 'present', 'chronic', 'onset', 'progressive', 'big', 'toe', 'pain', 'swelling']\n",
      "embedding:  ['transesophageal', 'echocardiography'] 0.13333333333333333\n"
     ]
    },
    {
     "name": "stderr",
     "output_type": "stream",
     "text": [
      "\r",
      "69it [00:17,  3.06it/s]"
     ]
    },
    {
     "name": "stdout",
     "output_type": "stream",
     "text": [
      "Processing query 69\n",
      "VERBOSE: False\n",
      "ABV []\n",
      "FLTR ['diabetes', 'present', 'chronic', 'bilateral', 'foot', 'pain', 'planar', 'surface', 'heel']\n"
     ]
    },
    {
     "name": "stderr",
     "output_type": "stream",
     "text": [
      "\r",
      "70it [00:18,  3.00it/s]"
     ]
    },
    {
     "name": "stdout",
     "output_type": "stream",
     "text": [
      "Processing query 70\n",
      "VERBOSE: False\n",
      "ABV [['coronary', 'artery', 'bypass', 'graft']]\n",
      "FLTR ['male', 'hypertension', 'cabg', 'surgery', 'present', 'progressive', 'right', 'hip', 'pain', 'initial', 'study']\n",
      "embedding:  ['coronary', 'artery', 'bypass', 'graft'] 0.26666666666666666\n"
     ]
    },
    {
     "name": "stderr",
     "output_type": "stream",
     "text": [
      "\r",
      "71it [00:18,  3.02it/s]"
     ]
    },
    {
     "name": "stdout",
     "output_type": "stream",
     "text": [
      "Processing query 71\n",
      "VERBOSE: False\n",
      "ABV []\n",
      "FLTR ['female', 'diabetes', 'present', 'progressive', 'bilateral', 'knee', 'pain', 'past', 'month', 'initial', 'study']\n"
     ]
    },
    {
     "name": "stderr",
     "output_type": "stream",
     "text": [
      "\r",
      "72it [00:18,  2.99it/s]"
     ]
    },
    {
     "name": "stdout",
     "output_type": "stream",
     "text": [
      "Processing query 72\n",
      "VERBOSE: False\n",
      "ABV []\n",
      "FLTR ['family', 'arthritis', 'present', 'worsening', 'right', 'wrist', 'pain', 'past', 'year', 'previous', 'radiograph', 'negative', 'month', 'ago']\n"
     ]
    },
    {
     "name": "stderr",
     "output_type": "stream",
     "text": [
      "\r",
      "73it [00:19,  2.81it/s]"
     ]
    },
    {
     "name": "stdout",
     "output_type": "stream",
     "text": [
      "Processing query 73\n",
      "VERBOSE: False\n",
      "ABV []\n",
      "FLTR ['previous', 'diagnosis', 'multiple', 'myeloma', 'presenting', 'worsening', 'fatigue', 'weight', 'loss', 'metastasis']\n"
     ]
    },
    {
     "name": "stderr",
     "output_type": "stream",
     "text": [
      "\r",
      "74it [00:19,  2.88it/s]"
     ]
    },
    {
     "name": "stdout",
     "output_type": "stream",
     "text": [
      "Processing query 74\n",
      "VERBOSE: False\n",
      "ABV [['human', 'immunodeficiency', 'virus']]\n",
      "FLTR ['patient', 'medically', 'managed', 'hiv', 'right', 'total', 'shoulder', 'arthoplasty', 'presenting', 'fever', 'shoulder', 'pain', 'swelling']\n",
      "embedding:  ['human', 'immunodeficiency', 'virus'] 0.1875\n"
     ]
    },
    {
     "name": "stderr",
     "output_type": "stream",
     "text": [
      "\r",
      "75it [00:19,  3.00it/s]"
     ]
    },
    {
     "name": "stdout",
     "output_type": "stream",
     "text": [
      "Processing query 75\n",
      "VERBOSE: False\n",
      "ABV []\n",
      "FLTR ['woman', 'right', 'total', 'hip', 'replacement', 'fall', 'no', 'swelling', 'impaired', 'mobility', 'evaluation']\n"
     ]
    },
    {
     "name": "stderr",
     "output_type": "stream",
     "text": [
      "\r",
      "76it [00:19,  3.23it/s]"
     ]
    },
    {
     "name": "stdout",
     "output_type": "stream",
     "text": [
      "Processing query 76\n",
      "VERBOSE: False\n",
      "ABV []\n",
      "FLTR ['coronary', 'artery', 'disease', 'total', 'bilateral', 'knee', 'replacement', 'month', 'ago', 'presenting', 'persistent', 'bilateral', 'knee', 'pain']\n"
     ]
    },
    {
     "name": "stderr",
     "output_type": "stream",
     "text": [
      "\r",
      "77it [00:20,  3.46it/s]"
     ]
    },
    {
     "name": "stdout",
     "output_type": "stream",
     "text": [
      "Processing query 77\n",
      "VERBOSE: False\n",
      "ABV []\n",
      "FLTR ['multiple', 'myeloma', 'presenting', 'new', 'back', 'pain', 'radiologically', 'confirmed', 'compression', 'fracture']\n"
     ]
    },
    {
     "name": "stderr",
     "output_type": "stream",
     "text": [
      "\r",
      "78it [00:20,  3.64it/s]"
     ]
    },
    {
     "name": "stdout",
     "output_type": "stream",
     "text": [
      "Processing query 78\n",
      "VERBOSE: False\n",
      "ABV []\n",
      "FLTR ['steroid', 'use', 'alcohol', 'use', 'disorder', 'presenting', 'progressive', 'hip', 'pain', 'worse', 'bearing', 'weight', 'avascular', 'necrosis']\n"
     ]
    },
    {
     "name": "stderr",
     "output_type": "stream",
     "text": [
      "\r",
      "79it [00:20,  3.79it/s]"
     ]
    },
    {
     "name": "stdout",
     "output_type": "stream",
     "text": [
      "Processing query 79\n",
      "VERBOSE: False\n",
      "ABV []\n",
      "FLTR ['man', 'smoking', 'presenting', 'loss', 'height', 'past', 'year', 'back', 'pain', 'low', 'bone', 'mineral', 'density']\n"
     ]
    },
    {
     "name": "stderr",
     "output_type": "stream",
     "text": [
      "81it [00:21,  4.04it/s]"
     ]
    },
    {
     "name": "stdout",
     "output_type": "stream",
     "text": [
      "Processing query 80\n",
      "VERBOSE: False\n",
      "ABV []\n",
      "FLTR ['lung', 'cancer', 'remission', 'presenting', 'fatigue', 'unintended', 'weight', 'loss', 'dull', 'right', 'thigh', 'pain', 'last', 'month', 'femoral', 'bone', 'tumor']\n",
      "Processing query 81\n",
      "VERBOSE: False\n",
      "ABV []\n",
      "FLTR ['man', 'type', 'diabetes', 'mellitus', 'obesity', 'presenting', 'worsening', 'left', 'shoulder', 'pain', 'stiffness', 'pain', 'last', 'month']\n"
     ]
    },
    {
     "name": "stderr",
     "output_type": "stream",
     "text": [
      "\r",
      "82it [00:21,  4.13it/s]"
     ]
    },
    {
     "name": "stdout",
     "output_type": "stream",
     "text": [
      "Processing query 82\n",
      "VERBOSE: False\n",
      "ABV []\n",
      "FLTR ['female', 'persistent', 'shoulder', 'pain', 'reduction', 'dislocated', 'shoulder', 'fall', 'day', 'ago']\n"
     ]
    },
    {
     "name": "stderr",
     "output_type": "stream",
     "text": [
      "\r",
      "83it [00:21,  4.22it/s]"
     ]
    },
    {
     "name": "stdout",
     "output_type": "stream",
     "text": [
      "Processing query 83\n",
      "VERBOSE: False\n",
      "ABV []\n",
      "FLTR ['female', 'hypertension', 'present', 'right', 'groin', 'pain', 'fatigue', 'weight', 'loss', 'past', 'month', 'sarcoma']\n"
     ]
    },
    {
     "name": "stderr",
     "output_type": "stream",
     "text": [
      "\r",
      "84it [00:21,  4.22it/s]"
     ]
    },
    {
     "name": "stdout",
     "output_type": "stream",
     "text": [
      "Processing query 84\n",
      "VERBOSE: False\n",
      "ABV [['body', 'mass', 'index']]\n",
      "FLTR ['woman', 'low', 'bmi', 'marathon', 'runner', 'present', 'hip', 'pain', 'running', 'stress', 'fracture']\n",
      "embedding:  ['body', 'mass', 'index'] 0.21428571428571427\n"
     ]
    },
    {
     "name": "stderr",
     "output_type": "stream",
     "text": [
      "\r",
      "85it [00:22,  4.06it/s]"
     ]
    },
    {
     "name": "stdout",
     "output_type": "stream",
     "text": [
      "Processing query 85\n",
      "VERBOSE: False\n",
      "ABV []\n",
      "FLTR ['woman', 'type', 'diabetes', 'mellitus', 'year', 'present', 'bilateral', 'foot', 'ulcer', 'right', 'foot', 'swelling', 'pain']\n"
     ]
    },
    {
     "name": "stderr",
     "output_type": "stream",
     "text": [
      "\r",
      "86it [00:22,  3.90it/s]"
     ]
    },
    {
     "name": "stdout",
     "output_type": "stream",
     "text": [
      "Processing query 86\n",
      "VERBOSE: False\n",
      "ABV []\n",
      "FLTR ['presenting', 'fever', 'right', 'arm', 'pain', 'workplace', 'penetrating', 'injury', 'initial', 'radiograph', 'negative', 'foreign', 'body', 'followup', 'study']\n"
     ]
    },
    {
     "name": "stderr",
     "output_type": "stream",
     "text": [
      "\r",
      "87it [00:22,  3.72it/s]"
     ]
    },
    {
     "name": "stdout",
     "output_type": "stream",
     "text": [
      "Processing query 87\n",
      "VERBOSE: False\n",
      "ABV []\n",
      "FLTR ['presenting', 'bilateral', 'leg', 'weakness', 'impaired', 'walking', 'motorcycle', 'accident', 'lumbar', 'spine', 'injury']\n"
     ]
    },
    {
     "name": "stderr",
     "output_type": "stream",
     "text": [
      "\r",
      "88it [00:22,  3.77it/s]"
     ]
    },
    {
     "name": "stdout",
     "output_type": "stream",
     "text": [
      "Processing query 88\n",
      "VERBOSE: False\n",
      "ABV [['coronary', 'artery', 'bypass', 'graft']]\n",
      "FLTR ['cabg', 'surgery', 'day', 'ago', 'hypertension', 'type', 'diabetes', 'mellitus', 'present', 'new', 'onset', 'progressive', 'delirium']\n",
      "embedding:  ['coronary', 'artery', 'bypass', 'graft'] 0.23529411764705882\n"
     ]
    },
    {
     "name": "stderr",
     "output_type": "stream",
     "text": [
      "\r",
      "89it [00:23,  3.75it/s]"
     ]
    },
    {
     "name": "stdout",
     "output_type": "stream",
     "text": [
      "Processing query 89\n",
      "VERBOSE: False\n",
      "ABV []\n",
      "FLTR ['motorvehicle', 'crash', 'presenting', 'ataxia', 'head', 'trauma', 'no', 'external', 'bleeding']\n"
     ]
    },
    {
     "name": "stderr",
     "output_type": "stream",
     "text": [
      "\r",
      "90it [00:23,  3.82it/s]"
     ]
    },
    {
     "name": "stdout",
     "output_type": "stream",
     "text": [
      "Processing query 90\n",
      "VERBOSE: False\n",
      "ABV []\n",
      "FLTR ['hyperlipidemia', 'present', 'new', 'onset', 'right', 'hemiparesis', 'extermities', 'right', 'facial', 'droop', 'aphasia', 'stroke']\n"
     ]
    },
    {
     "name": "stderr",
     "output_type": "stream",
     "text": [
      "\r",
      "91it [00:23,  3.80it/s]"
     ]
    },
    {
     "name": "stdout",
     "output_type": "stream",
     "text": [
      "Processing query 91\n",
      "VERBOSE: False\n",
      "ABV []\n",
      "FLTR ['cervical', 'spine', 'fusion', 'herniated', 'disc', 'present', 'new', 'progressive', 'neck', 'pain', 'past', 'month']\n"
     ]
    },
    {
     "name": "stderr",
     "output_type": "stream",
     "text": [
      "\r",
      "92it [00:23,  3.92it/s]"
     ]
    },
    {
     "name": "stdout",
     "output_type": "stream",
     "text": [
      "Processing query 92\n",
      "VERBOSE: False\n",
      "ABV [['transient', 'ischemic', 'attack']]\n",
      "FLTR ['tia', 'present', 'new', 'onset', 'left', 'facial', 'hemiparesis', 'bell', 'palsy']\n",
      "embedding:  ['transient', 'ischemic', 'attack'] 0.25\n"
     ]
    },
    {
     "name": "stderr",
     "output_type": "stream",
     "text": [
      "\r",
      "93it [00:24,  3.91it/s]"
     ]
    },
    {
     "name": "stdout",
     "output_type": "stream",
     "text": [
      "Processing query 93\n",
      "VERBOSE: False\n",
      "ABV []\n",
      "FLTR ['family', 'lewy', 'body', 'dementia', 'present', 'worsesning', 'memory', 'confusion', 'past', 'month']\n"
     ]
    },
    {
     "name": "stderr",
     "output_type": "stream",
     "text": [
      "\r",
      "94it [00:24,  3.50it/s]"
     ]
    },
    {
     "name": "stdout",
     "output_type": "stream",
     "text": [
      "Processing query 94\n",
      "VERBOSE: False\n",
      "ABV []\n",
      "FLTR ['motorvehicle', 'crash', 'head', 'trauma', 'blurry', 'vision', 'week', 'ago', 'presenting', 'scan', 'no', 'new', 'symptom']\n"
     ]
    },
    {
     "name": "stderr",
     "output_type": "stream",
     "text": [
      "\r",
      "95it [00:24,  3.49it/s]"
     ]
    },
    {
     "name": "stdout",
     "output_type": "stream",
     "text": [
      "Processing query 95\n",
      "VERBOSE: False\n",
      "ABV []\n",
      "FLTR ['cocaine', 'use', 'presenting', 'headache', 'increasing', 'frequency', 'past', 'month']\n"
     ]
    },
    {
     "name": "stderr",
     "output_type": "stream",
     "text": [
      "\r",
      "96it [00:25,  3.57it/s]"
     ]
    },
    {
     "name": "stdout",
     "output_type": "stream",
     "text": [
      "Processing query 96\n",
      "VERBOSE: False\n",
      "ABV []\n",
      "FLTR ['episode', 'dizziness', 'vomiting', 'difficulty', 'balancing', 'partial', 'hearing', 'deficit', 'peripheral', 'vertigo']\n"
     ]
    },
    {
     "name": "stderr",
     "output_type": "stream",
     "text": [
      "\r",
      "97it [00:25,  3.62it/s]"
     ]
    },
    {
     "name": "stdout",
     "output_type": "stream",
     "text": [
      "Processing query 97\n",
      "VERBOSE: False\n",
      "ABV []\n",
      "FLTR ['lower', 'back', 'pain', 'radiates', 'leg', 'loss', 'bladder', 'control', 'cauda', 'equina', 'syndrome']\n"
     ]
    },
    {
     "name": "stderr",
     "output_type": "stream",
     "text": [
      "\r",
      "98it [00:25,  3.80it/s]"
     ]
    },
    {
     "name": "stdout",
     "output_type": "stream",
     "text": [
      "Processing query 98\n",
      "VERBOSE: False\n",
      "ABV []\n",
      "FLTR ['multiple', 'myeloma', 'presenting', 'new', 'back', 'pain', 'radiologically', 'confirmed', 'compression', 'fracture']\n"
     ]
    },
    {
     "name": "stderr",
     "output_type": "stream",
     "text": [
      "\r",
      "99it [00:25,  3.93it/s]"
     ]
    },
    {
     "name": "stdout",
     "output_type": "stream",
     "text": [
      "Processing query 99\n",
      "VERBOSE: False\n",
      "ABV []\n",
      "FLTR ['family', 'huntington', 'disease', 'presenting', 'worsening', 'memory', 'chorea', 'anxiety']\n"
     ]
    },
    {
     "name": "stderr",
     "output_type": "stream",
     "text": [
      "\r",
      "100it [00:26,  3.88it/s]"
     ]
    },
    {
     "name": "stdout",
     "output_type": "stream",
     "text": [
      "Processing query 100\n",
      "VERBOSE: False\n",
      "ABV []\n",
      "FLTR ['smoking', 'hypertension', 'present', 'sudden', 'onset', 'bilateral', 'leg', 'pain', 'difficulty', 'walking', 'day', 'ago', 'lumbar', 'myelopathy']\n"
     ]
    },
    {
     "name": "stderr",
     "output_type": "stream",
     "text": [
      "\r",
      "101it [00:26,  3.77it/s]"
     ]
    },
    {
     "name": "stdout",
     "output_type": "stream",
     "text": [
      "Processing query 101\n",
      "VERBOSE: False\n",
      "ABV []\n",
      "FLTR ['smoking', 'hypertension', 'present', 'painless', 'pulsatile', 'mass', 'anterior', 'triangle', 'neck', 'bruit', 'heard']\n"
     ]
    },
    {
     "name": "stderr",
     "output_type": "stream",
     "text": [
      "\r",
      "102it [00:26,  3.69it/s]"
     ]
    },
    {
     "name": "stdout",
     "output_type": "stream",
     "text": [
      "Processing query 102\n",
      "VERBOSE: False\n",
      "ABV []\n",
      "FLTR ['female', 'presenting', 'rounding', 'face', 'abdominal', 'stria', 'headache', 'recent', 'weight', 'gain', 'cushing', 'syndrome']\n"
     ]
    },
    {
     "name": "stderr",
     "output_type": "stream",
     "text": [
      "\r",
      "103it [00:26,  3.63it/s]"
     ]
    },
    {
     "name": "stdout",
     "output_type": "stream",
     "text": [
      "Processing query 103\n",
      "VERBOSE: False\n",
      "ABV []\n",
      "FLTR ['male', 'smoking', 'present', 'chronic', 'right', 'eye', 'pain', 'vision', 'change', 'progressive', 'bulging', 'forward', 'right', 'eyeball', 'orbital', 'mass']\n"
     ]
    },
    {
     "name": "stderr",
     "output_type": "stream",
     "text": [
      "\r",
      "104it [00:27,  3.63it/s]"
     ]
    },
    {
     "name": "stdout",
     "output_type": "stream",
     "text": [
      "Processing query 104\n",
      "VERBOSE: False\n",
      "ABV []\n",
      "FLTR ['female', 'presenting', 'hemoptsis', 'dysphonia', 'neck', 'stabbing', 'injury']\n"
     ]
    },
    {
     "name": "stderr",
     "output_type": "stream",
     "text": [
      "\r",
      "105it [00:27,  3.76it/s]"
     ]
    },
    {
     "name": "stdout",
     "output_type": "stream",
     "text": [
      "Processing query 105\n",
      "VERBOSE: False\n",
      "ABV []\n",
      "FLTR ['patient', 'metastatic', 'small', 'cell', 'cancer', 'present', 'progressive', 'shoulder', 'tingling', 'weakness', 'past', 'two', 'week', 'brachial', 'plexus', 'injury']\n"
     ]
    },
    {
     "name": "stderr",
     "output_type": "stream",
     "text": [
      "\r",
      "106it [00:27,  3.67it/s]"
     ]
    },
    {
     "name": "stdout",
     "output_type": "stream",
     "text": [
      "Processing query 106\n",
      "VERBOSE: False\n",
      "ABV []\n",
      "FLTR ['patient', 'epilepsy', 'alcohol', 'misuse', 'disorder', 'present', 'episode', 'status', 'epilepticus']\n"
     ]
    },
    {
     "name": "stderr",
     "output_type": "stream",
     "text": [
      "\r",
      "107it [00:28,  3.71it/s]"
     ]
    },
    {
     "name": "stdout",
     "output_type": "stream",
     "text": [
      "Processing query 107\n",
      "VERBOSE: False\n",
      "ABV []\n",
      "FLTR ['present', 'recurrent', 'rhinosinusitis', 'associated', 'nasal', 'discharge', 'hyposmia']\n"
     ]
    },
    {
     "name": "stderr",
     "output_type": "stream",
     "text": [
      "\r",
      "108it [00:28,  3.82it/s]"
     ]
    },
    {
     "name": "stdout",
     "output_type": "stream",
     "text": [
      "Processing query 108\n",
      "VERBOSE: False\n",
      "ABV []\n",
      "FLTR ['presenting', 'bilateral', 'leg', 'weakness', 'impaired', 'walking', 'motorcycle', 'accident', 'lumbar', 'spine', 'injury']\n"
     ]
    },
    {
     "name": "stderr",
     "output_type": "stream",
     "text": [
      "\r",
      "109it [00:28,  3.99it/s]"
     ]
    },
    {
     "name": "stdout",
     "output_type": "stream",
     "text": [
      "Processing query 109\n",
      "VERBOSE: False\n",
      "ABV []\n",
      "FLTR ['patient', 'presenting', 'hand', 'muscle', 'wasting', 'hand', 'ache', 'numbness', 'weakening', 'grip', 'neurogenic', 'outlet', 'syndrome']\n"
     ]
    },
    {
     "name": "stderr",
     "output_type": "stream",
     "text": [
      "\r",
      "110it [00:28,  4.01it/s]"
     ]
    },
    {
     "name": "stdout",
     "output_type": "stream",
     "text": [
      "Processing query 110\n",
      "VERBOSE: False\n",
      "ABV []\n",
      "FLTR ['papillary', 'thyroid', 'carcinoma', 'remission', 'radioactive', 'iodine', 'therapy', 'present', 'new', 'onset', 'palpable', 'mass', 'thyroid', 'recurrence']\n"
     ]
    },
    {
     "name": "stderr",
     "output_type": "stream",
     "text": [
      "\r",
      "111it [00:29,  3.84it/s]"
     ]
    },
    {
     "name": "stdout",
     "output_type": "stream",
     "text": [
      "Processing query 111\n",
      "VERBOSE: False\n",
      "ABV []\n",
      "FLTR ['smoking', 'obesity', 'present', 'bilateral', 'nonpulsatile', 'tinnitus', 'associated', 'hearing', 'loss', 'trauma', 'initial', 'study']\n"
     ]
    },
    {
     "name": "stderr",
     "output_type": "stream",
     "text": [
      "\r",
      "112it [00:29,  3.89it/s]"
     ]
    },
    {
     "name": "stdout",
     "output_type": "stream",
     "text": [
      "Processing query 112\n",
      "VERBOSE: False\n",
      "ABV []\n",
      "FLTR ['recent', 'inlfluenza', 'illness', 'present', 'new', 'onset', 'fever', 'limping', 'left', 'upper', 'thigh', 'pain', 'infection']\n"
     ]
    },
    {
     "name": "stderr",
     "output_type": "stream",
     "text": [
      "\r",
      "113it [00:29,  3.83it/s]"
     ]
    },
    {
     "name": "stdout",
     "output_type": "stream",
     "text": [
      "Processing query 113\n",
      "VERBOSE: False\n",
      "ABV []\n",
      "FLTR ['present', 'back', 'pain', 'last', 'month', 'associated', 'weight', 'loss', 'weakness', 'night', 'pain', 'malignancy']\n"
     ]
    },
    {
     "name": "stderr",
     "output_type": "stream",
     "text": [
      "\r",
      "114it [00:29,  3.90it/s]"
     ]
    },
    {
     "name": "stdout",
     "output_type": "stream",
     "text": [
      "Processing query 114\n",
      "VERBOSE: False\n",
      "ABV []\n",
      "FLTR ['month', 'old', 'female', 'right', 'hip', 'pain', 'swaying', 'congential', 'hip', 'dislocation']\n"
     ]
    },
    {
     "name": "stderr",
     "output_type": "stream",
     "text": [
      "\r",
      "115it [00:30,  3.94it/s]"
     ]
    },
    {
     "name": "stdout",
     "output_type": "stream",
     "text": [
      "Processing query 115\n",
      "VERBOSE: False\n",
      "ABV []\n",
      "FLTR ['month', 'old', 'child', 'presenting', 'fever', 'past', 'day', 'leukocytosis', 'no', 'respiratory', 'symptom']\n"
     ]
    },
    {
     "name": "stderr",
     "output_type": "stream",
     "text": [
      "\r",
      "116it [00:30,  4.01it/s]"
     ]
    },
    {
     "name": "stdout",
     "output_type": "stream",
     "text": [
      "Processing query 116\n",
      "VERBOSE: False\n",
      "ABV []\n",
      "FLTR ['month', 'old', 'child', 'presenting', 'somnolescence', 'foot', 'fall', 'loss', 'consciousness', 'second', 'head', 'injury']\n"
     ]
    },
    {
     "name": "stderr",
     "output_type": "stream",
     "text": [
      "\r",
      "117it [00:30,  4.05it/s]"
     ]
    },
    {
     "name": "stdout",
     "output_type": "stream",
     "text": [
      "Processing query 117\n",
      "VERBOSE: False\n",
      "ABV []\n",
      "FLTR ['acute', 'onset', 'progressive', 'headache', 'week', 'influenza', 'illness', 'fever', 'chill', 'congestion']\n"
     ]
    },
    {
     "name": "stderr",
     "output_type": "stream",
     "text": [
      "\r",
      "118it [00:30,  3.88it/s]"
     ]
    },
    {
     "name": "stdout",
     "output_type": "stream",
     "text": [
      "Processing query 118\n",
      "VERBOSE: False\n",
      "ABV []\n",
      "FLTR ['family', 'anemia', 'present', 'progressive', 'subacute', 'fatigue', 'associated', 'microhematuria', 'no', 'proteinuria']\n"
     ]
    },
    {
     "name": "stderr",
     "output_type": "stream",
     "text": [
      "\r",
      "119it [00:31,  3.90it/s]"
     ]
    },
    {
     "name": "stdout",
     "output_type": "stream",
     "text": [
      "Processing query 119\n",
      "VERBOSE: False\n",
      "ABV []\n",
      "FLTR ['month', 'old', 'child', 'pneumonia', 'past', 'three', 'week', 'radiographic', 'finding', 'right', 'lung', 'abscess']\n"
     ]
    },
    {
     "name": "stderr",
     "output_type": "stream",
     "text": [
      "\r",
      "120it [00:31,  3.98it/s]"
     ]
    },
    {
     "name": "stdout",
     "output_type": "stream",
     "text": [
      "Processing query 120\n",
      "VERBOSE: False\n",
      "ABV []\n",
      "FLTR ['surgically', 'corrected', 'spina', 'bifida', 'present', 'progressive', 'scoliosis']\n"
     ]
    },
    {
     "name": "stderr",
     "output_type": "stream",
     "text": [
      "\r",
      "121it [00:31,  4.09it/s]"
     ]
    },
    {
     "name": "stdout",
     "output_type": "stream",
     "text": [
      "Processing query 121\n",
      "VERBOSE: False\n",
      "ABV []\n",
      "FLTR ['presenting', 'recurrent', 'focal', 'seizure', 'vision', 'change', 'right', 'extermity', 'contraction']\n"
     ]
    },
    {
     "name": "stderr",
     "output_type": "stream",
     "text": [
      "\r",
      "122it [00:31,  4.19it/s]"
     ]
    },
    {
     "name": "stdout",
     "output_type": "stream",
     "text": [
      "Processing query 122\n",
      "VERBOSE: False\n",
      "ABV []\n",
      "FLTR ['child', 'persistent', 'nasal', 'congestion', 'responding', 'antibiotic', 'decongestant', 'initial', 'study']\n"
     ]
    },
    {
     "name": "stderr",
     "output_type": "stream",
     "text": [
      "\r",
      "123it [00:32,  4.24it/s]"
     ]
    },
    {
     "name": "stdout",
     "output_type": "stream",
     "text": [
      "Processing query 123\n",
      "VERBOSE: False\n",
      "ABV []\n",
      "FLTR ['right', 'lower', 'quadrant', 'pain', 'fever', 'nausea', 'initial', 'ultrasound', 'nondiagnostic']\n"
     ]
    },
    {
     "name": "stderr",
     "output_type": "stream",
     "text": [
      "\r",
      "124it [00:32,  4.31it/s]"
     ]
    },
    {
     "name": "stdout",
     "output_type": "stream",
     "text": [
      "Processing query 124\n",
      "VERBOSE: False\n",
      "ABV []\n",
      "FLTR ['presenting', 'altered', 'mental', 'status', 'complex', 'skull', 'fracture', 'skin', 'bruise']\n"
     ]
    },
    {
     "name": "stderr",
     "output_type": "stream",
     "text": [
      "\r",
      "125it [00:32,  4.31it/s]"
     ]
    },
    {
     "name": "stdout",
     "output_type": "stream",
     "text": [
      "Processing query 125\n",
      "VERBOSE: False\n",
      "ABV []\n",
      "FLTR ['spinal', 'tenderness', 'altered', 'level', 'consciousness', 'foot', 'fall', 'cervical', 'spine', 'injury']\n"
     ]
    },
    {
     "name": "stderr",
     "output_type": "stream",
     "text": [
      "\r",
      "126it [00:32,  4.36it/s]"
     ]
    },
    {
     "name": "stdout",
     "output_type": "stream",
     "text": [
      "Processing query 126\n",
      "VERBOSE: False\n",
      "ABV []\n",
      "FLTR ['child', 'diagnosed', 'urinary', 'tract', 'infection', 'day', 'ago', 'present', 'persisting', 'symptom', 'despite', 'antibiotic', 'treatment', 'elevated', 'creatinine']\n"
     ]
    },
    {
     "name": "stderr",
     "output_type": "stream",
     "text": [
      "\r",
      "127it [00:32,  4.15it/s]"
     ]
    },
    {
     "name": "stdout",
     "output_type": "stream",
     "text": [
      "Processing query 127\n",
      "VERBOSE: False\n",
      "ABV []\n",
      "FLTR ['week', 'old', 'nonbilious', 'vomiting', 'every', 'day', 'since', 'birth', 'associated', 'abdominal', 'tenderness']\n"
     ]
    },
    {
     "name": "stderr",
     "output_type": "stream",
     "text": [
      "\r",
      "128it [00:33,  4.21it/s]"
     ]
    },
    {
     "name": "stdout",
     "output_type": "stream",
     "text": [
      "Processing query 128\n",
      "VERBOSE: False\n",
      "ABV [['chronic', 'obstructive', 'pulmonary', 'disease']]\n",
      "FLTR ['smoking', 'present', 'copd', 'exacerbation', 'chest', 'pain']\n",
      "embedding:  ['chronic', 'obstructive', 'pulmonary', 'disease'] 0.4\n"
     ]
    },
    {
     "name": "stderr",
     "output_type": "stream",
     "text": [
      "\r",
      "129it [00:33,  4.30it/s]"
     ]
    },
    {
     "name": "stdout",
     "output_type": "stream",
     "text": [
      "Processing query 129\n",
      "VERBOSE: False\n",
      "ABV [['human', 'immunodeficiency', 'virus']]\n",
      "FLTR ['medically', 'managed', 'hiv', 'present', 'acute', 'onset', 'fever', 'dsypnea', 'productive', 'cough']\n",
      "embedding:  ['human', 'immunodeficiency', 'virus'] 0.23076923076923078\n"
     ]
    },
    {
     "name": "stderr",
     "output_type": "stream",
     "text": [
      "\r",
      "130it [00:33,  4.30it/s]"
     ]
    },
    {
     "name": "stdout",
     "output_type": "stream",
     "text": [
      "Processing query 130\n",
      "VERBOSE: False\n",
      "ABV []\n",
      "FLTR ['male', 'coming', 'high', 'speed', 'motorvehicle', 'accident', 'potential', 'chest', 'trauma', 'no', 'significiant', 'medical']\n"
     ]
    },
    {
     "name": "stderr",
     "output_type": "stream",
     "text": [
      "\r",
      "131it [00:33,  4.40it/s]"
     ]
    },
    {
     "name": "stdout",
     "output_type": "stream",
     "text": [
      "Processing query 131\n",
      "VERBOSE: False\n",
      "ABV []\n",
      "FLTR ['coal', 'miner', 'present', 'chronic', 'dry', 'cough', 'dsypnea', 'interstitial', 'lung', 'disease']\n"
     ]
    },
    {
     "name": "stderr",
     "output_type": "stream",
     "text": [
      "\r",
      "132it [00:34,  4.32it/s]"
     ]
    },
    {
     "name": "stdout",
     "output_type": "stream",
     "text": [
      "Processing query 132\n",
      "VERBOSE: False\n",
      "ABV []\n",
      "FLTR ['patient', 'cystic', 'fibrosis', 'presenting', 'recent', 'hemoptysis', 'episode']\n"
     ]
    },
    {
     "name": "stderr",
     "output_type": "stream",
     "text": [
      "\r",
      "133it [00:34,  4.26it/s]"
     ]
    },
    {
     "name": "stdout",
     "output_type": "stream",
     "text": [
      "Processing query 133\n",
      "VERBOSE: False\n",
      "ABV []\n",
      "FLTR ['recent', 'travel', 'asia', 'present', 'worsening', 'cough', 'week', 'fever', 'weight', 'loss', 'ppd', 'available']\n"
     ]
    },
    {
     "name": "stderr",
     "output_type": "stream",
     "text": [
      "\r",
      "134it [00:34,  4.27it/s]"
     ]
    },
    {
     "name": "stdout",
     "output_type": "stream",
     "text": [
      "Processing query 134\n",
      "VERBOSE: False\n",
      "ABV [['intensive', 'care', 'unit']]\n",
      "FLTR ['icu', 'patient', 'recovery', 'ortho', 'surgery', 'presenting', 'worsening', 'sat', 'tachycardia', 'delirium']\n",
      "embedding:  ['intensive', 'care', 'unit'] 0.23076923076923078\n"
     ]
    },
    {
     "name": "stderr",
     "output_type": "stream",
     "text": [
      "\r",
      "135it [00:34,  4.21it/s]"
     ]
    },
    {
     "name": "stdout",
     "output_type": "stream",
     "text": [
      "Processing query 135\n",
      "VERBOSE: False\n",
      "ABV []\n",
      "FLTR ['family', 'lung', 'cancer', 'smoking', 'screen', 'lung', 'cancer']\n"
     ]
    },
    {
     "name": "stderr",
     "output_type": "stream",
     "text": [
      "\r",
      "136it [00:35,  4.22it/s]"
     ]
    },
    {
     "name": "stdout",
     "output_type": "stream",
     "text": [
      "Processing query 136\n",
      "VERBOSE: False\n",
      "ABV []\n",
      "FLTR ['patient', 'smoking', 'recent', 'diagnosis', 'adenocarcinoma', 'stage']\n"
     ]
    },
    {
     "name": "stderr",
     "output_type": "stream",
     "text": [
      "\r",
      "137it [00:35,  4.27it/s]"
     ]
    },
    {
     "name": "stdout",
     "output_type": "stream",
     "text": [
      "Processing query 137\n",
      "VERBOSE: False\n",
      "ABV []\n",
      "FLTR ['male', 'work', 'rubber', 'production', 'factory', 'present', 'dry', 'cough', 'tachypnea', 'lung', 'crackle', 'interstitial', 'lung', 'disease']\n"
     ]
    },
    {
     "name": "stderr",
     "output_type": "stream",
     "text": [
      "\r",
      "138it [00:35,  4.31it/s]"
     ]
    },
    {
     "name": "stdout",
     "output_type": "stream",
     "text": [
      "Processing query 138\n",
      "VERBOSE: False\n",
      "ABV []\n",
      "FLTR ['patient', 'no', 'symptom', 'incidental', 'finding', 'right', 'lung', 'mass', 'chest', 'radiograph']\n"
     ]
    },
    {
     "name": "stderr",
     "output_type": "stream",
     "text": [
      "\r",
      "139it [00:35,  4.34it/s]"
     ]
    },
    {
     "name": "stdout",
     "output_type": "stream",
     "text": [
      "Processing query 139\n",
      "VERBOSE: False\n",
      "ABV []\n",
      "FLTR ['bicycle', 'crash', 'pain', 'swelling', 'right', 'rib', 'fracture']\n"
     ]
    },
    {
     "name": "stderr",
     "output_type": "stream",
     "text": [
      "\r",
      "140it [00:35,  4.34it/s]"
     ]
    },
    {
     "name": "stdout",
     "output_type": "stream",
     "text": [
      "Processing query 140\n",
      "VERBOSE: False\n",
      "ABV []\n",
      "FLTR ['lung', 'nodule', 'excision', 'surgery', 'track', 'recovery', 'complication', 'via', 'chest', 'radiograph']\n"
     ]
    },
    {
     "name": "stderr",
     "output_type": "stream",
     "text": [
      "\r",
      "141it [00:36,  4.36it/s]"
     ]
    },
    {
     "name": "stdout",
     "output_type": "stream",
     "text": [
      "Processing query 141\n",
      "VERBOSE: False\n",
      "ABV []\n",
      "FLTR ['acute', 'right', 'lower', 'chest', 'pain', 'tachypnea', 'deep', 'vein', 'thrombosis', 'surgery', 'week', 'ago']\n"
     ]
    },
    {
     "name": "stderr",
     "output_type": "stream",
     "text": [
      "\r",
      "142it [00:36,  4.41it/s]"
     ]
    },
    {
     "name": "stdout",
     "output_type": "stream",
     "text": [
      "Processing query 142\n",
      "VERBOSE: False\n",
      "ABV []\n",
      "FLTR ['patient', 'interstitial', 'lung', 'disease', 'present', 'new', 'onset', 'dyspnea', 'chest', 'pain', 'extermity', 'swelling']\n"
     ]
    },
    {
     "name": "stderr",
     "output_type": "stream",
     "text": [
      "\r",
      "143it [00:36,  4.44it/s]"
     ]
    },
    {
     "name": "stdout",
     "output_type": "stream",
     "text": [
      "Processing query 143\n",
      "VERBOSE: False\n",
      "ABV []\n",
      "FLTR ['patient', 'presenting', 'hand', 'muscle', 'wasting', 'hand', 'ache', 'numbness', 'weakening', 'grip', 'neurogenic', 'outlet', 'syndrome']\n"
     ]
    },
    {
     "name": "stderr",
     "output_type": "stream",
     "text": [
      "\r",
      "144it [00:36,  4.48it/s]"
     ]
    },
    {
     "name": "stdout",
     "output_type": "stream",
     "text": [
      "Processing query 144\n",
      "VERBOSE: False\n",
      "ABV []\n",
      "FLTR ['obese', 'female', 'renal', 'tubular', 'acidosis', 'present', 'flank', 'pain', 'dysuria', 'lower', 'abdominal', 'pain', 'kidney', 'stone']\n"
     ]
    },
    {
     "name": "stderr",
     "output_type": "stream",
     "text": [
      "\r",
      "145it [00:37,  4.47it/s]"
     ]
    },
    {
     "name": "stdout",
     "output_type": "stream",
     "text": [
      "Processing query 145\n",
      "VERBOSE: False\n",
      "ABV []\n",
      "FLTR ['male', 'acute', 'pain', 'scrotum', 'associated', 'trauma', 'initial', 'study']\n"
     ]
    },
    {
     "name": "stderr",
     "output_type": "stream",
     "text": [
      "\r",
      "146it [00:37,  4.49it/s]"
     ]
    },
    {
     "name": "stdout",
     "output_type": "stream",
     "text": [
      "Processing query 146\n",
      "VERBOSE: False\n",
      "ABV []\n",
      "FLTR ['patient', 'type', 'diabetes', 'mellitus', 'present', 'acute', 'onset', 'fever', 'nausea', 'flank', 'pain', 'kidney', 'infection']\n"
     ]
    },
    {
     "name": "stderr",
     "output_type": "stream",
     "text": [
      "\r",
      "147it [00:37,  4.48it/s]"
     ]
    },
    {
     "name": "stdout",
     "output_type": "stream",
     "text": [
      "Processing query 147\n",
      "VERBOSE: False\n",
      "ABV []\n",
      "FLTR ['male', 'presenting', 'persistent', 'hematospermia', 'painful', 'ejaculation', 'week']\n"
     ]
    },
    {
     "name": "stderr",
     "output_type": "stream",
     "text": [
      "\r",
      "148it [00:37,  4.50it/s]"
     ]
    },
    {
     "name": "stdout",
     "output_type": "stream",
     "text": [
      "Processing query 148\n",
      "VERBOSE: False\n",
      "ABV []\n",
      "FLTR ['patient', 'presenting', 'new', 'hematuria', 'associated', 'ongoing', 'mild', 'upper', 'respiratory', 'infection', 'past', 'week']\n"
     ]
    },
    {
     "name": "stderr",
     "output_type": "stream",
     "text": [
      "\r",
      "149it [00:37,  4.53it/s]"
     ]
    },
    {
     "name": "stdout",
     "output_type": "stream",
     "text": [
      "Processing query 149\n",
      "VERBOSE: False\n",
      "ABV []\n",
      "FLTR ['male', 'lymphoma', 'remission', 'present', 'incidental', 'finding', 'adrenal', 'nodule']\n"
     ]
    },
    {
     "name": "stderr",
     "output_type": "stream",
     "text": [
      "\r",
      "150it [00:38,  4.49it/s]"
     ]
    },
    {
     "name": "stdout",
     "output_type": "stream",
     "text": [
      "Processing query 150\n",
      "VERBOSE: False\n",
      "ABV [['glomerular', 'filtration', 'rate']]\n",
      "FLTR ['patient', 'hypertension', 'recent', 'finding', 'renal', 'lesion', 'baseline', 'creatinine', 'gfr']\n",
      "embedding:  ['glomerular', 'filtration', 'rate'] 0.25\n"
     ]
    },
    {
     "name": "stderr",
     "output_type": "stream",
     "text": [
      "\r",
      "151it [00:38,  4.48it/s]"
     ]
    },
    {
     "name": "stdout",
     "output_type": "stream",
     "text": [
      "Processing query 151\n",
      "VERBOSE: False\n",
      "ABV []\n",
      "FLTR ['male', 'worsening', 'frequent', 'urination', 'weak', 'urinary', 'stream', 'nocturia', 'past', 'month', 'prostate', 'enlargement']\n"
     ]
    },
    {
     "name": "stderr",
     "output_type": "stream",
     "text": [
      "\r",
      "152it [00:38,  4.51it/s]"
     ]
    },
    {
     "name": "stdout",
     "output_type": "stream",
     "text": [
      "Processing query 152\n",
      "VERBOSE: False\n",
      "ABV []\n",
      "FLTR ['presenting', 'stab', 'wound', 'lower', 'abdomen', 'inability', 'urinate', 'suprapubic', 'tenderness']\n"
     ]
    },
    {
     "name": "stderr",
     "output_type": "stream",
     "text": [
      "154it [00:39,  4.51it/s]"
     ]
    },
    {
     "name": "stdout",
     "output_type": "stream",
     "text": [
      "Processing query 153\n",
      "VERBOSE: False\n",
      "ABV []\n",
      "FLTR ['patient', 'partial', 'nephrectomy', 'renal', 'carcinoma', 'presenting', 'followup']\n",
      "Processing query 154\n",
      "VERBOSE: False\n",
      "ABV []\n",
      "FLTR ['male', 'prostatectomy', 'presenting', 'new', 'onset', 'hematuria', 'elevated', 'psa', 'recurrence']\n"
     ]
    },
    {
     "name": "stderr",
     "output_type": "stream",
     "text": [
      "156it [00:39,  4.57it/s]"
     ]
    },
    {
     "name": "stdout",
     "output_type": "stream",
     "text": [
      "Processing query 155\n",
      "VERBOSE: False\n",
      "ABV []\n",
      "FLTR ['partial', 'cystectomy', 'muscle', 'invasive', 'bladder', 'cancer', 'recurrence']\n",
      "Processing query 156\n",
      "VERBOSE: False\n",
      "ABV []\n",
      "FLTR ['male', 'chronic', 'bladder', 'inflammation', 'diagnosis', 'bladder', 'cancer', 'stage']\n"
     ]
    },
    {
     "name": "stderr",
     "output_type": "stream",
     "text": [
      "\r",
      "157it [00:39,  4.59it/s]"
     ]
    },
    {
     "name": "stdout",
     "output_type": "stream",
     "text": [
      "Processing query 157\n",
      "VERBOSE: False\n",
      "ABV []\n",
      "FLTR ['obese', 'man', 'present', 'chronic', 'dysuria', 'hematuria', 'prostate', 'carcinoma']\n"
     ]
    },
    {
     "name": "stderr",
     "output_type": "stream",
     "text": [
      "\r",
      "158it [00:39,  4.61it/s]"
     ]
    },
    {
     "name": "stdout",
     "output_type": "stream",
     "text": [
      "Processing query 158\n",
      "VERBOSE: False\n",
      "ABV [['urinary', 'tract', 'infection']]\n",
      "FLTR ['woman', 'diabetes', 'mellitus', 'type', 'present', 'frequently', 'recurring', 'uti']\n",
      "embedding:  ['urinary', 'tract', 'infection'] 0.2727272727272727\n"
     ]
    },
    {
     "name": "stderr",
     "output_type": "stream",
     "text": [
      "\r",
      "159it [00:40,  4.37it/s]"
     ]
    },
    {
     "name": "stdout",
     "output_type": "stream",
     "text": [
      "Processing query 159\n",
      "VERBOSE: False\n",
      "ABV []\n",
      "FLTR ['patient', 'hypertension', 'obesity', 'present', 'recent', 'diagnosis', 'kidney', 'cancer', 'staging']\n"
     ]
    },
    {
     "name": "stderr",
     "output_type": "stream",
     "text": [
      "\r",
      "160it [00:40,  4.33it/s]"
     ]
    },
    {
     "name": "stdout",
     "output_type": "stream",
     "text": [
      "Processing query 160\n",
      "VERBOSE: False\n",
      "ABV []\n",
      "FLTR ['patient', 'diabetes', 'mellitus', 'hypertension', 'presenting', 'chronic', 'fatigue', 'oliguria', 'pedal', 'edema', 'elevated', 'creatinine', 'diabetic', 'nephropathy']\n"
     ]
    },
    {
     "name": "stderr",
     "output_type": "stream",
     "text": [
      "\r",
      "161it [00:40,  4.28it/s]"
     ]
    },
    {
     "name": "stdout",
     "output_type": "stream",
     "text": [
      "Processing query 161\n",
      "VERBOSE: False\n",
      "ABV []\n",
      "FLTR ['patient', 'kidney', 'transplant', 'week', 'ago', 'presenting', 'oliguria', 'edema', 'muddy', 'brown', 'cast', 'urine', 'acute', 'tubular', 'necrosis']\n"
     ]
    },
    {
     "name": "stderr",
     "output_type": "stream",
     "text": [
      "\r",
      "162it [00:40,  4.24it/s]"
     ]
    },
    {
     "name": "stdout",
     "output_type": "stream",
     "text": [
      "Processing query 162\n",
      "VERBOSE: False\n",
      "ABV []\n",
      "FLTR ['poorly', 'managed', 'hypertension', 'year', 'new', 'pulmonary', 'edema', 'renal', 'artery', 'stenosis']\n"
     ]
    },
    {
     "name": "stderr",
     "output_type": "stream",
     "text": [
      "\r",
      "163it [00:41,  4.26it/s]"
     ]
    },
    {
     "name": "stdout",
     "output_type": "stream",
     "text": [
      "Processing query 163\n",
      "VERBOSE: False\n",
      "ABV []\n",
      "FLTR ['cryptorchidism', 'recent', 'diagnosis', 'testis', 'tumor', 'stage']\n"
     ]
    },
    {
     "name": "stderr",
     "output_type": "stream",
     "text": [
      "\r",
      "164it [00:41,  4.34it/s]"
     ]
    },
    {
     "name": "stdout",
     "output_type": "stream",
     "text": [
      "Processing query 164\n",
      "VERBOSE: False\n",
      "ABV [['abdominal', 'aortic', 'aneurysm']]\n",
      "FLTR ['male', 'patient', 'slowly', 'growing', 'aaa', 'presenting', 'surveillance']\n",
      "embedding:  ['abdominal', 'aortic', 'aneurysm'] 0.3\n"
     ]
    },
    {
     "name": "stderr",
     "output_type": "stream",
     "text": [
      "166it [00:41,  4.43it/s]"
     ]
    },
    {
     "name": "stdout",
     "output_type": "stream",
     "text": [
      "Processing query 165\n",
      "VERBOSE: False\n",
      "ABV [['abdominal', 'aortic', 'aneurysm']]\n",
      "FLTR ['patient', 'endovascular', 'repair', 'aaa', 'presenting', 'acute', 'onset', 'fatigue', 'hypotension']\n",
      "embedding:  ['abdominal', 'aortic', 'aneurysm'] 0.25\n",
      "Processing query 166\n",
      "VERBOSE: False\n",
      "ABV []\n",
      "FLTR ['present', 'acute', 'chylothorax', 'associated', 'chest', 'pain', 'dsypnea', 'imaging', 'identify', 'source', 'lymphatic', 'leak']\n"
     ]
    },
    {
     "name": "stderr",
     "output_type": "stream",
     "text": [
      "\r",
      "167it [00:42,  4.37it/s]"
     ]
    },
    {
     "name": "stdout",
     "output_type": "stream",
     "text": [
      "Processing query 167\n",
      "VERBOSE: False\n",
      "ABV [['arteriovenous', 'malformation']]\n",
      "FLTR ['patient', 'family', 'hereditary', 'hemorrhagic', 'telangiectasia', 'presenting', 'chronic', 'dyspnea', 'cyanosis', 'orthodeoxia', 'avm', 'lung']\n",
      "embedding:  ['arteriovenous', 'malformation'] 0.14285714285714285\n"
     ]
    },
    {
     "name": "stderr",
     "output_type": "stream",
     "text": [
      "\r",
      "168it [00:42,  4.16it/s]"
     ]
    },
    {
     "name": "stdout",
     "output_type": "stream",
     "text": [
      "Processing query 168\n",
      "VERBOSE: False\n",
      "ABV []\n",
      "FLTR ['penetrating', 'injury', 'left', 'leg', 'month', 'ago', 'present', 'focal', 'left', 'leg', 'pain', 'swelling', 'bulging', 'vasculature', 'arteriovenous', 'fistula']\n"
     ]
    },
    {
     "name": "stderr",
     "output_type": "stream",
     "text": [
      "\r",
      "169it [00:42,  4.12it/s]"
     ]
    },
    {
     "name": "stdout",
     "output_type": "stream",
     "text": [
      "Processing query 169\n",
      "VERBOSE: False\n",
      "ABV []\n",
      "FLTR ['patient', 'aortic', 'valve', 'calcification', 'needing', 'replacement', 'uncontrolled', 'hypertension']\n"
     ]
    },
    {
     "name": "stderr",
     "output_type": "stream",
     "text": [
      "\r",
      "170it [00:42,  4.22it/s]"
     ]
    },
    {
     "name": "stdout",
     "output_type": "stream",
     "text": [
      "Processing query 170\n",
      "VERBOSE: False\n",
      "ABV [['deep', 'inferior', 'epigastric', 'perforators']]\n",
      "FLTR ['woman', 'right', 'mastectomy', 'breast', 'cancer', 'evalute', 'diep', 'autologous', 'breast', 'reconstruction', 'surgery']\n",
      "embedding:  ['deep', 'inferior', 'epigastric', 'perforators'] 0.26666666666666666\n"
     ]
    },
    {
     "name": "stderr",
     "output_type": "stream",
     "text": [
      "\r",
      "171it [00:43,  4.15it/s]"
     ]
    },
    {
     "name": "stdout",
     "output_type": "stream",
     "text": [
      "Processing query 171\n",
      "VERBOSE: False\n",
      "ABV []\n",
      "FLTR ['female', 'hyperlipidemia', 'present', 'hyperacute', 'servere', 'diffuse', 'abdominal', 'pain', 'acute', 'mesenteric', 'ischemia']\n"
     ]
    },
    {
     "name": "stderr",
     "output_type": "stream",
     "text": [
      "\r",
      "172it [00:43,  4.04it/s]"
     ]
    },
    {
     "name": "stdout",
     "output_type": "stream",
     "text": [
      "Processing query 172\n",
      "VERBOSE: False\n",
      "ABV []\n",
      "FLTR ['patient', 'right', 'femoropopliteal', 'bypass', 'revascularization', 'present', 'new', 'onset', 'right', 'critical', 'limb', 'ischemia']\n"
     ]
    },
    {
     "name": "stderr",
     "output_type": "stream",
     "text": [
      "\r",
      "173it [00:43,  4.02it/s]"
     ]
    },
    {
     "name": "stdout",
     "output_type": "stream",
     "text": [
      "Processing query 173\n",
      "VERBOSE: False\n",
      "ABV []\n",
      "FLTR ['athlete', 'progressive', 'bilateral', 'lower', 'leg', 'cramp', 'pain', 'exercise', 'popliteal', 'entrapment', 'syndrome']\n"
     ]
    },
    {
     "name": "stderr",
     "output_type": "stream",
     "text": [
      "\r",
      "174it [00:43,  3.93it/s]"
     ]
    },
    {
     "name": "stdout",
     "output_type": "stream",
     "text": [
      "Processing query 174\n",
      "VERBOSE: False\n",
      "ABV []\n",
      "FLTR ['atherosclerosis', 'present', 'servere', 'acute', 'upper', 'back', 'pain', 'associated', 'hypertension', 'aortic', 'syndrome']\n"
     ]
    },
    {
     "name": "stderr",
     "output_type": "stream",
     "text": [
      "\r",
      "175it [00:44,  3.99it/s]"
     ]
    },
    {
     "name": "stdout",
     "output_type": "stream",
     "text": [
      "Processing query 175\n",
      "VERBOSE: False\n",
      "ABV [['gastroesophageal', 'reflux', 'disease']]\n",
      "FLTR ['endoscopy', 'revealed', 'esophageal', 'bleeding', 'likely', 'ulcer', 'gerd', 'hypertension']\n",
      "embedding:  ['gastroesophageal', 'reflux', 'disease'] 0.2727272727272727\n"
     ]
    },
    {
     "name": "stderr",
     "output_type": "stream",
     "text": [
      "\r",
      "176it [00:44,  4.03it/s]"
     ]
    },
    {
     "name": "stdout",
     "output_type": "stream",
     "text": [
      "Processing query 176\n",
      "VERBOSE: False\n",
      "ABV []\n",
      "FLTR ['female', 'presenting', 'hemoptsis', 'dysphonia', 'neck', 'stabbing', 'injury']\n"
     ]
    },
    {
     "name": "stderr",
     "output_type": "stream",
     "text": [
      "\r",
      "177it [00:44,  4.15it/s]"
     ]
    },
    {
     "name": "stdout",
     "output_type": "stream",
     "text": [
      "Processing query 177\n",
      "VERBOSE: False\n",
      "ABV [['abdominal', 'aortic', 'aneurysm']]\n",
      "FLTR ['patient', 'hypertension', 'smoking', 'present', 'new', 'onset', 'pulsating', 'mass', 'abdomen', 'aaa']\n",
      "embedding:  ['abdominal', 'aortic', 'aneurysm'] 0.23076923076923078\n"
     ]
    },
    {
     "name": "stderr",
     "output_type": "stream",
     "text": [
      "\r",
      "178it [00:44,  4.17it/s]"
     ]
    },
    {
     "name": "stdout",
     "output_type": "stream",
     "text": [
      "Processing query 178\n",
      "VERBOSE: False\n",
      "ABV []\n",
      "FLTR ['pregnant', 'woman', 'present', 'bilateral', 'leg', 'varicose', 'vein', 'great', 'saphenous', 'venous', 'insufficiency']\n"
     ]
    },
    {
     "name": "stderr",
     "output_type": "stream",
     "text": [
      "\r",
      "179it [00:44,  4.27it/s]"
     ]
    },
    {
     "name": "stdout",
     "output_type": "stream",
     "text": [
      "Processing query 179\n",
      "VERBOSE: False\n",
      "ABV []\n",
      "FLTR ['poorly', 'managed', 'hypertension', 'year', 'new', 'pulmonary', 'edema', 'renal', 'artery', 'stenosis']\n"
     ]
    },
    {
     "name": "stderr",
     "output_type": "stream",
     "text": [
      "\r",
      "180it [00:45,  4.31it/s]"
     ]
    },
    {
     "name": "stdout",
     "output_type": "stream",
     "text": [
      "Processing query 180\n",
      "VERBOSE: False\n",
      "ABV []\n",
      "FLTR ['patient', 'artherosclerosis', 'present', 'acute', 'limb', 'ischemia', 'associated', 'gangrene']\n"
     ]
    },
    {
     "name": "stderr",
     "output_type": "stream",
     "text": [
      "\r",
      "181it [00:45,  4.27it/s]"
     ]
    },
    {
     "name": "stdout",
     "output_type": "stream",
     "text": [
      "Processing query 181\n",
      "VERBOSE: False\n",
      "ABV [['deep', 'vein', 'thrombosis']]\n",
      "FLTR ['patient', 'recent', 'prolonged', 'bed', 'rest', 'present', 'elevated', 'left', 'leg', 'pain', 'swelling', 'dvt']\n",
      "embedding:  ['deep', 'vein', 'thrombosis'] 0.2\n"
     ]
    },
    {
     "name": "stderr",
     "output_type": "stream",
     "text": [
      "\r",
      "182it [00:45,  4.32it/s]"
     ]
    },
    {
     "name": "stdout",
     "output_type": "stream",
     "text": [
      "Processing query 182\n",
      "VERBOSE: False\n",
      "ABV [['thoracic', 'aortic', 'aneurysm']]\n",
      "FLTR ['present', 'dysphagia', 'slight', 'dull', 'upper', 'back', 'pain', 'taa']\n",
      "embedding:  ['thoracic', 'aortic', 'aneurysm'] 0.2727272727272727\n"
     ]
    },
    {
     "name": "stderr",
     "output_type": "stream",
     "text": [
      "\r",
      "183it [00:45,  4.24it/s]"
     ]
    },
    {
     "name": "stdout",
     "output_type": "stream",
     "text": [
      "Processing query 183\n",
      "VERBOSE: False\n",
      "ABV [['deep', 'vein', 'thrombosis']]\n",
      "FLTR ['cancer', 'present', 'right', 'upper', 'extremity', 'pain', 'edema', 'location', 'venous', 'catheter', 'dvt']\n",
      "embedding:  ['deep', 'vein', 'thrombosis'] 0.21428571428571427\n"
     ]
    },
    {
     "name": "stderr",
     "output_type": "stream",
     "text": [
      "\r",
      "184it [00:46,  4.19it/s]"
     ]
    },
    {
     "name": "stdout",
     "output_type": "stream",
     "text": [
      "Processing query 184\n",
      "VERBOSE: False\n",
      "ABV []\n",
      "FLTR ['patient', 'thoracic', 'endovascular', 'repair', 'aortic', 'root', 'aneurysm', 'year', 'ago', 'presenting', 'trend', 'mild', 'aneurysm', 'size', 'increase']\n"
     ]
    },
    {
     "name": "stderr",
     "output_type": "stream",
     "text": [
      "\r",
      "185it [00:46,  4.15it/s]"
     ]
    },
    {
     "name": "stdout",
     "output_type": "stream",
     "text": [
      "Processing query 185\n",
      "VERBOSE: False\n",
      "ABV []\n",
      "FLTR ['patient', 'presenting', 'hand', 'muscle', 'wasting', 'hand', 'ache', 'numbness', 'weakening', 'grip', 'neurogenic', 'outlet', 'syndrome']\n"
     ]
    },
    {
     "name": "stderr",
     "output_type": "stream",
     "text": [
      "\r",
      "186it [00:46,  4.03it/s]"
     ]
    },
    {
     "name": "stdout",
     "output_type": "stream",
     "text": [
      "Processing query 186\n",
      "VERBOSE: False\n",
      "ABV []\n",
      "FLTR ['peripheral', 'artery', 'disease', 'present', 'lower', 'leg', 'pain', 'exertion']\n"
     ]
    },
    {
     "name": "stderr",
     "output_type": "stream",
     "text": [
      "\r",
      "187it [00:46,  4.09it/s]"
     ]
    },
    {
     "name": "stdout",
     "output_type": "stream",
     "text": [
      "Processing query 187\n",
      "VERBOSE: False\n",
      "ABV [['abdominal', 'aortic', 'aneurysm']]\n",
      "FLTR ['patient', 'endovascular', 'repair', 'aaa', 'presenting', 'acute', 'onset', 'fatigue', 'hypotension']\n",
      "embedding:  ['abdominal', 'aortic', 'aneurysm'] 0.25\n"
     ]
    },
    {
     "name": "stderr",
     "output_type": "stream",
     "text": [
      "\r",
      "188it [00:47,  4.17it/s]"
     ]
    },
    {
     "name": "stdout",
     "output_type": "stream",
     "text": [
      "Processing query 188\n",
      "VERBOSE: False\n",
      "ABV []\n",
      "FLTR ['present', 'acute', 'chylothorax', 'associated', 'chest', 'pain', 'dsypnea', 'imaging', 'identify', 'source', 'lymphatic', 'leak']\n"
     ]
    },
    {
     "name": "stderr",
     "output_type": "stream",
     "text": [
      "\r",
      "189it [00:47,  4.02it/s]"
     ]
    },
    {
     "name": "stdout",
     "output_type": "stream",
     "text": [
      "Processing query 189\n",
      "VERBOSE: False\n",
      "ABV []\n",
      "FLTR ['multiple', 'myeloma', 'presenting', 'new', 'back', 'pain', 'radiologically', 'confirmed', 'compression', 'fracture']\n"
     ]
    },
    {
     "name": "stderr",
     "output_type": "stream",
     "text": [
      "\r",
      "190it [00:47,  4.07it/s]"
     ]
    },
    {
     "name": "stdout",
     "output_type": "stream",
     "text": [
      "Processing query 190\n",
      "VERBOSE: False\n",
      "ABV [['inflammatory', 'bowel', 'disease'], ['right', 'upper', 'quadrant']]\n",
      "FLTR ['hypertension', 'ibd', 'present', 'fever', 'ruq', 'pain', 'high', 'suspicion', 'sclerosing', 'cholangitis']\n",
      "embedding:  ['inflammatory', 'bowel', 'disease'] 0.23076923076923078\n",
      "embedding:  ['right', 'upper', 'quadrant'] 0.23076923076923078\n"
     ]
    },
    {
     "name": "stderr",
     "output_type": "stream",
     "text": [
      "\r",
      "191it [00:47,  4.10it/s]"
     ]
    },
    {
     "name": "stdout",
     "output_type": "stream",
     "text": [
      "Processing query 191\n",
      "VERBOSE: False\n",
      "ABV [['chronic', 'kidney', 'disease']]\n",
      "FLTR ['stage', 'iv', 'ckd', 'poor', 'flow', 'hemodialysis', 'right', 'internal', 'jugular', 'vein', 'catheter']\n",
      "embedding:  ['chronic', 'kidney', 'disease'] 0.21428571428571427\n"
     ]
    },
    {
     "name": "stderr",
     "output_type": "stream",
     "text": [
      "\r",
      "192it [00:48,  4.03it/s]"
     ]
    },
    {
     "name": "stdout",
     "output_type": "stream",
     "text": [
      "Processing query 192\n",
      "VERBOSE: False\n",
      "ABV [['magnetic', 'resonance', 'imaging']]\n",
      "FLTR ['hypertension', 'alcohol', 'use', 'disorder', 'present', 'acute', 'episode', 'melena', 'colonoscopy', 'positive', 'variceal', 'bleeding', 'past', 'mri', 'shown', 'thrombus', 'spleen']\n",
      "embedding:  ['magnetic', 'resonance', 'imaging'] 0.15\n"
     ]
    },
    {
     "name": "stderr",
     "output_type": "stream",
     "text": [
      "\r",
      "193it [00:48,  4.01it/s]"
     ]
    },
    {
     "name": "stdout",
     "output_type": "stream",
     "text": [
      "Processing query 193\n",
      "VERBOSE: False\n",
      "ABV []\n",
      "FLTR ['year', 'smoking', 'metastatic', 'colorectal', 'cancer', 'show', 'new', 'solitary', 'liver', 'metastasis']\n"
     ]
    },
    {
     "name": "stderr",
     "output_type": "stream",
     "text": [
      "\r",
      "194it [00:48,  4.07it/s]"
     ]
    },
    {
     "name": "stdout",
     "output_type": "stream",
     "text": [
      "Processing query 194\n",
      "VERBOSE: False\n",
      "ABV [['diabetes', 'mellitus']]\n",
      "FLTR ['patient', 'year', 'smoking', 'type', 'dm', 'severe', 'claudication', 'left', 'leg', 'angiogram', 'show', 'left', 'iliac', 'stenosis']\n",
      "embedding:  ['diabetes', 'mellitus'] 0.125\n"
     ]
    },
    {
     "name": "stderr",
     "output_type": "stream",
     "text": [
      "\r",
      "195it [00:48,  4.01it/s]"
     ]
    },
    {
     "name": "stdout",
     "output_type": "stream",
     "text": [
      "Processing query 195\n",
      "VERBOSE: False\n",
      "ABV []\n",
      "FLTR ['patient', 'peripheral', 'artery', 'disease', 'present', 'acute', 'right', 'lower', 'extremity', 'pain', 'edema', 'pulse', 'deficit', 'suspect', 'phlegmasia', 'cerulea', 'dolens']\n"
     ]
    },
    {
     "name": "stderr",
     "output_type": "stream",
     "text": [
      "\r",
      "196it [00:49,  3.67it/s]"
     ]
    },
    {
     "name": "stdout",
     "output_type": "stream",
     "text": [
      "Processing query 196\n",
      "VERBOSE: False\n",
      "ABV [['human', 'immunodeficiency', 'virus']]\n",
      "FLTR ['hiv', 'present', 'fever', 'right', 'ankle', 'pain', 'past', 'day', 'ultrasound', 'show', 'subperiosteal', 'abscess']\n",
      "embedding:  ['human', 'immunodeficiency', 'virus'] 0.2\n"
     ]
    },
    {
     "name": "stderr",
     "output_type": "stream",
     "text": [
      "\r",
      "197it [00:49,  3.58it/s]"
     ]
    },
    {
     "name": "stdout",
     "output_type": "stream",
     "text": [
      "Processing query 197\n",
      "VERBOSE: False\n",
      "ABV [['irritable', 'bowel', 'syndrome'], ['gastrointestinal']]\n",
      "FLTR ['young', 'patient', 'ibs', 'present', 'ongoing', 'bleed', 'gi', 'cause', 'unknown', 'hemodynamically', 'stable', 'unit', 'blood', 'next', 'procedure']\n",
      "embedding:  ['irritable', 'bowel', 'syndrome'] 0.16666666666666666\n",
      "embedding:  ['gastrointestinal'] 0.0625\n"
     ]
    },
    {
     "name": "stderr",
     "output_type": "stream",
     "text": [
      "\r",
      "198it [00:49,  3.58it/s]"
     ]
    },
    {
     "name": "stdout",
     "output_type": "stream",
     "text": [
      "Processing query 198\n",
      "VERBOSE: False\n",
      "ABV []\n",
      "FLTR ['pregnant', 'woman', 'present', 'bilateral', 'leg', 'varicose', 'vein', 'great', 'saphenous', 'venous', 'insufficiency']\n"
     ]
    },
    {
     "name": "stderr",
     "output_type": "stream",
     "text": [
      "\r",
      "199it [00:50,  3.65it/s]"
     ]
    },
    {
     "name": "stdout",
     "output_type": "stream",
     "text": [
      "Processing query 199\n",
      "VERBOSE: False\n",
      "ABV [['computed', 'tomography', 'angiography'], ['superior', 'mesenteric', 'artery']]\n",
      "FLTR ['smoker', 'present', 'chronic', 'postprandial', 'abdominal', 'pain', 'cta', 'show', 'sma', 'ima', 'narrowing']\n",
      "embedding:  ['computed', 'tomography', 'angiography'] 0.21428571428571427\n",
      "embedding:  ['superior', 'mesenteric', 'artery'] 0.21428571428571427\n"
     ]
    },
    {
     "name": "stderr",
     "output_type": "stream",
     "text": [
      "\r",
      "200it [00:50,  3.55it/s]"
     ]
    },
    {
     "name": "stdout",
     "output_type": "stream",
     "text": [
      "Processing query 200\n",
      "VERBOSE: False\n",
      "ABV [['year', 'old'], ['diabetes', 'mellitus']]\n",
      "FLTR ['yo', 'dm', 'type', 'present', 'enlarging', 'bilateral', 'hilar', 'adenopathy', 'next', 'step', 'potential', 'intervention']\n",
      "embedding:  ['year', 'old'] 0.14285714285714285\n",
      "embedding:  ['diabetes', 'mellitus'] 0.14285714285714285\n"
     ]
    },
    {
     "name": "stderr",
     "output_type": "stream",
     "text": [
      "\r",
      "201it [00:50,  3.57it/s]"
     ]
    },
    {
     "name": "stdout",
     "output_type": "stream",
     "text": [
      "Processing query 201\n",
      "VERBOSE: False\n",
      "ABV []\n",
      "FLTR ['pregnant', 'patient', 'presenting', 'left', 'flank', 'pain', 'fever', 'past', 'day', 'ultrasound', 'positive', 'hydronephrosis']\n"
     ]
    },
    {
     "name": "stderr",
     "output_type": "stream",
     "text": [
      "\r",
      "202it [00:50,  3.72it/s]"
     ]
    },
    {
     "name": "stdout",
     "output_type": "stream",
     "text": [
      "Processing query 202\n",
      "VERBOSE: False\n",
      "ABV [['magnetic', 'resonance', 'imaging']]\n",
      "FLTR ['woman', 'recent', 'abnormal', 'period', 'present', 'menometrorrhagia', 'mri', 'show', 'uterine', 'fibroid', 'prefers', 'bear', 'child', 'future', 'next', 'step']\n",
      "embedding:  ['magnetic', 'resonance', 'imaging'] 0.15789473684210525\n"
     ]
    },
    {
     "name": "stderr",
     "output_type": "stream",
     "text": [
      "\r",
      "203it [00:51,  3.66it/s]"
     ]
    },
    {
     "name": "stdout",
     "output_type": "stream",
     "text": [
      "Processing query 203\n",
      "VERBOSE: False\n",
      "ABV [['coronary', 'artery', 'bypass', 'graft'], ['deep', 'vein', 'thrombosis']]\n",
      "FLTR ['patient', 'lung', 'cancer', 'remission', 'recent', 'cabg', 'surgery', 'treated', 'pe', 'recovery', 'dvt', 'shown', 'bilateral', 'lower', 'extremity', 'plan', 'place', 'permanent', 'inferior', 'vena', 'cava', 'filter']\n",
      "embedding:  ['coronary', 'artery', 'bypass', 'graft'] 0.15384615384615385\n",
      "embedding:  ['deep', 'vein', 'thrombosis'] 0.12\n"
     ]
    },
    {
     "name": "stderr",
     "output_type": "stream",
     "text": [
      "\r",
      "204it [00:51,  3.74it/s]"
     ]
    },
    {
     "name": "stdout",
     "output_type": "stream",
     "text": [
      "Processing query 204\n",
      "VERBOSE: False\n",
      "ABV []\n",
      "FLTR ['patient', 'thoracic', 'endovascular', 'repair', 'aortic', 'root', 'aneurysm', 'year', 'ago', 'presenting', 'trend', 'mild', 'aneurysm', 'size', 'increase']\n"
     ]
    },
    {
     "name": "stderr",
     "output_type": "stream",
     "text": [
      "205it [00:51,  3.97it/s]\n"
     ]
    }
   ],
   "source": [
    "easy_results_doc, easy_results_head, easy_results_tf, easy_results = biosentvec_embeds_tfidf_fxn.run_me(model, easy_queries)\n",
    "hard_results_doc, hard_results_head, hard_results_tf, hard_results = biosentvec_embeds_tfidf_fxn.run_me(model, hard_queries)\n",
    "\n"
   ]
  },
  {
   "cell_type": "code",
   "execution_count": 6,
   "metadata": {},
   "outputs": [],
   "source": [
    "names = np.load('../resources/names.npy')\n"
   ]
  },
  {
   "cell_type": "code",
   "execution_count": null,
   "metadata": {
    "scrolled": true
   },
   "outputs": [],
   "source": [
    "tf_weights = [0,0.25,0.5,0.75,1,1.5,2,3,5,7,10,15,20]\n",
    "tf_files = [20,75,100]\n",
    "tuning_res_2 = []\n",
    "for tf_file in tf_files:\n",
    "    for each_weight in tf_weights:\n",
    "        easy_results_doc, easy_results_head, easy_results_tf, easy_results = biosentvec_embeds_tfidf_fxn.run_me(model, easy_queries, each_weight, tf_file = '../resources/tfidf_embs_%d.npy' % tf_file)\n",
    "        top_3, not_top_3, accu = calc_performance(easy_results)\n",
    "        tuning_res_2.append([0,each_weight,tf_file,top_3,not_top_3,accu])\n",
    "\n",
    "        hard_results_doc, hard_results_head, hard_results_tf, hard_results = biosentvec_embeds_tfidf_fxn.run_me(model, hard_queries, each_weight)\n",
    "        top_3, not_top_3, accu = calc_performance(hard_results)\n",
    "        tuning_res_2.append([1,each_weight,tf_file,top_3,not_top_3,accu])\n",
    "\n"
   ]
  },
  {
   "cell_type": "code",
   "execution_count": null,
   "metadata": {},
   "outputs": [],
   "source": [
    "tuning_res"
   ]
  },
  {
   "cell_type": "code",
   "execution_count": null,
   "metadata": {},
   "outputs": [],
   "source": [
    "def calc_performance(results):\n",
    "    top_3 = []\n",
    "    not_top_3 = []\n",
    "    for i,result in enumerate(results):\n",
    "    #     print(i)\n",
    "        res_files = [result[0][0]]\n",
    "        pos = 1\n",
    "    #     print(res_files)\n",
    "        while pos < len(result):\n",
    "            if result[pos][0] != result[pos-1][0]:\n",
    "                res_files.append(result[pos][0])\n",
    "            pos = pos+1\n",
    "\n",
    "        this_narr_name = get_narr_name(names[i])\n",
    "\n",
    "        if this_narr_name in res_files[0:3]:\n",
    "    #         print('YES', this_narr_name, res_files.index(this_narr_name))\n",
    "            top_3.append([this_narr_name, res_files.index(this_narr_name),i])\n",
    "        else:\n",
    "    #         print('NO', this_narr_name, res_files.index(this_narr_name))\n",
    "            not_top_3.append([this_narr_name, res_files.index(this_narr_name),i])\n",
    "\n",
    "    print()\n",
    "    return (len(top_3)), (len(not_top_3)), (len(top_3)/(len(top_3)+len(not_top_3)))"
   ]
  },
  {
   "cell_type": "code",
   "execution_count": 8,
   "metadata": {},
   "outputs": [],
   "source": [
    "np.save('../resources/artificial_inds_easy_key_v6.npy',easy_results)\n",
    "np.save('../resources/artificial_inds_hard_key_v6.npy',hard_results)\n",
    "# easy_results = np.load('../resources/artificial_inds_easy_key.npy')\n",
    "# hard_results = np.load('../resources/artificial_inds_hard_key.npy')"
   ]
  },
  {
   "cell_type": "code",
   "execution_count": 7,
   "metadata": {},
   "outputs": [],
   "source": [
    "def get_narr_name(fName):\n",
    "\tnarr_path = '../resources/criteria_links.txt'\n",
    "\tnarr_f = open(narr_path, 'r', encoding ='utf8')\n",
    "\n",
    "\tf_name = fName.split('.')\n",
    "\tf_name = f_name[0].split('_')\n",
    "\t\n",
    "\tmtch = re.search(r'Category '+f_name[0]+r':.+\\n(\\t.+\\n)*?\\tDisease '+f_name[1]+r': (.+)',narr_f.read())\n",
    "\tif mtch:\n",
    "\t\treturn(mtch.group(2))\n",
    "\telse:\n",
    "\t\tprint(fName, 'You messed up in the narrative name!')\n",
    "\t\treturn(None)"
   ]
  },
  {
   "cell_type": "code",
   "execution_count": null,
   "metadata": {
    "scrolled": false
   },
   "outputs": [],
   "source": [
    "# top_cos = []\n",
    "# not_top_cos = []\n",
    "# for each in hard_top_3:\n",
    "#     top_cos.append(hard_results[each[2]][0][4])\n",
    "# for i,each in enumerate(hard_not_top_3):\n",
    "#     not_top_cos.append(hard_results[each[2]][0][4])\n",
    "\n",
    "# print(top_cos)\n",
    "# print(not_top_cos)\n",
    "# print(np.mean(top_cos))\n",
    "# print(np.mean(not_top_cos))"
   ]
  },
  {
   "cell_type": "code",
   "execution_count": null,
   "metadata": {
    "scrolled": true
   },
   "outputs": [],
   "source": [
    "easy_doc_top_3 = []\n",
    "easy_doc_not_top_3 = []\n",
    "for i,result in enumerate(easy_results_doc):\n",
    "#     print(i)\n",
    "    res_files = [result[0][0]]\n",
    "    pos = 1\n",
    "#     print(res_files)\n",
    "    while pos < len(result):\n",
    "        if result[pos][0] != result[pos-1][0]:\n",
    "            res_files.append(result[pos][0])\n",
    "        pos = pos+1\n",
    "    \n",
    "    this_narr_name = get_narr_name(names[i])\n",
    "    \n",
    "\n",
    "    if this_narr_name in res_files[0:3]:\n",
    "#         print('YES', this_narr_name, res_files.index(this_narr_name))\n",
    "        easy_doc_top_3.append([this_narr_name, res_files.index(this_narr_name)])\n",
    "    else:\n",
    "#         print('NO', this_narr_name, res_files.index(this_narr_name))\n",
    "        easy_doc_not_top_3.append([this_narr_name, res_files.index(this_narr_name)])\n",
    "    \n",
    "print()\n",
    "print(len(easy_doc_top_3))\n",
    "print(len(easy_doc_not_top_3))"
   ]
  },
  {
   "cell_type": "code",
   "execution_count": null,
   "metadata": {
    "scrolled": true
   },
   "outputs": [],
   "source": [
    "easy_head_top_3 = []\n",
    "easy_head_not_top_3 = []\n",
    "for i,result in enumerate(easy_results_head):\n",
    "#     print(i)\n",
    "    res_files = [result[0][0]]\n",
    "    pos = 1\n",
    "#     print(res_files)\n",
    "    while pos < len(result):\n",
    "        if result[pos][0] != result[pos-1][0]:\n",
    "            res_files.append(result[pos][0])\n",
    "        pos = pos+1\n",
    "    \n",
    "    this_narr_name = get_narr_name(names[i])\n",
    "    \n",
    "\n",
    "    if this_narr_name in res_files[0:3]:\n",
    "#         print('YES', this_narr_name, res_files.index(this_narr_name))\n",
    "        easy_head_top_3.append([this_narr_name, res_files.index(this_narr_name)])\n",
    "    else:\n",
    "#         print('NO', this_narr_name, res_files.index(this_narr_name))\n",
    "        easy_head_not_top_3.append([this_narr_name, res_files.index(this_narr_name)])\n",
    "    \n",
    "print()\n",
    "print(len(easy_head_top_3))\n",
    "print(len(easy_head_not_top_3))"
   ]
  },
  {
   "cell_type": "code",
   "execution_count": null,
   "metadata": {},
   "outputs": [],
   "source": [
    "easy_tf_top_3 = []\n",
    "easy_tf_not_top_3 = []\n",
    "for i,result in enumerate(easy_results_tf):\n",
    "#     print(i)\n",
    "    res_files = [result[0][0]]\n",
    "    pos = 1\n",
    "#     print(res_files)\n",
    "    while pos < len(result):\n",
    "        if result[pos][0] != result[pos-1][0]:\n",
    "            res_files.append(result[pos][0])\n",
    "        pos = pos+1\n",
    "    \n",
    "    this_narr_name = get_narr_name(names[i])\n",
    "    \n",
    "\n",
    "    if this_narr_name in res_files[0:3]:\n",
    "#         print('YES', this_narr_name, res_files.index(this_narr_name))\n",
    "        easy_tf_top_3.append([this_narr_name, res_files.index(this_narr_name)])\n",
    "    else:\n",
    "#         print('NO', this_narr_name, res_files.index(this_narr_name))\n",
    "        easy_tf_not_top_3.append([this_narr_name, res_files.index(this_narr_name)])\n",
    "    \n",
    "print()\n",
    "print(len(easy_tf_top_3))\n",
    "print(len(easy_tf_not_top_3))"
   ]
  },
  {
   "cell_type": "code",
   "execution_count": 28,
   "metadata": {
    "scrolled": false
   },
   "outputs": [
    {
     "name": "stdout",
     "output_type": "stream",
     "text": [
      "\n",
      "201\n",
      "4\n",
      "0.9804878048780488\n"
     ]
    }
   ],
   "source": [
    "easy_top_3 = []\n",
    "easy_not_top_3 = []\n",
    "for i,result in enumerate(easy_results):\n",
    "#     print(i)\n",
    "    res_files = [result[0][0]]\n",
    "    pos = 1\n",
    "#     print(res_files)\n",
    "    while pos < len(result):\n",
    "        if result[pos][0] != result[pos-1][0]:\n",
    "            res_files.append(result[pos][0])\n",
    "        pos = pos+1\n",
    "    \n",
    "    this_narr_name = get_narr_name(names[i])\n",
    "    \n",
    "\n",
    "    if this_narr_name in res_files[0:3]:\n",
    "#         print('YES', this_narr_name, res_files.index(this_narr_name))\n",
    "        easy_top_3.append([this_narr_name, res_files.index(this_narr_name),i, names[i]])\n",
    "    else:\n",
    "#         print('NO', this_narr_name, res_files.index(this_narr_name))\n",
    "        easy_not_top_3.append([this_narr_name, res_files.index(this_narr_name),i, names[i]])\n",
    "    \n",
    "print()\n",
    "print(len(easy_top_3))\n",
    "print(len(easy_not_top_3))\n",
    "print(len(easy_top_3)/(len(easy_top_3)+len(easy_not_top_3)))"
   ]
  },
  {
   "cell_type": "code",
   "execution_count": null,
   "metadata": {},
   "outputs": [],
   "source": [
    "easy_not_top_3"
   ]
  },
  {
   "cell_type": "code",
   "execution_count": 14,
   "metadata": {
    "scrolled": true
   },
   "outputs": [
    {
     "name": "stdout",
     "output_type": "stream",
     "text": [
      "0.8048780487804879\n",
      "0.9365853658536586\n",
      "0.9804878048780488\n",
      "0.9902439024390244\n",
      "0.9902439024390244\n",
      "0.9951219512195122\n",
      "0.9951219512195122\n",
      "0.9951219512195122\n",
      "0.9951219512195122\n",
      "0.9951219512195122\n",
      "0.9951219512195122\n",
      "0.9951219512195122\n",
      "0.9951219512195122\n",
      "0.9951219512195122\n",
      "0.9951219512195122\n",
      "0.9951219512195122\n",
      "0.9951219512195122\n",
      "1.0\n",
      "1.0\n",
      "1.0\n",
      "1.0\n",
      "1.0\n",
      "1.0\n",
      "1.0\n",
      "1.0\n",
      "1.0\n",
      "1.0\n",
      "1.0\n",
      "1.0\n",
      "1.0\n",
      "1.0\n",
      "1.0\n",
      "1.0\n",
      "1.0\n",
      "1.0\n",
      "1.0\n",
      "1.0\n",
      "1.0\n",
      "1.0\n",
      "1.0\n",
      "1.0\n",
      "1.0\n",
      "1.0\n",
      "1.0\n",
      "1.0\n",
      "1.0\n",
      "1.0\n",
      "1.0\n",
      "1.0\n",
      "1.0\n",
      "1.0\n",
      "1.0\n",
      "1.0\n",
      "1.0\n",
      "1.0\n",
      "1.0\n",
      "1.0\n",
      "1.0\n",
      "1.0\n",
      "1.0\n",
      "1.0\n",
      "1.0\n",
      "1.0\n",
      "1.0\n",
      "1.0\n",
      "1.0\n",
      "1.0\n",
      "1.0\n",
      "1.0\n",
      "1.0\n",
      "1.0\n",
      "1.0\n",
      "1.0\n",
      "1.0\n",
      "1.0\n",
      "1.0\n",
      "1.0\n",
      "1.0\n",
      "1.0\n",
      "1.0\n",
      "1.0\n",
      "1.0\n",
      "1.0\n",
      "1.0\n",
      "1.0\n",
      "1.0\n",
      "1.0\n",
      "1.0\n",
      "1.0\n",
      "1.0\n",
      "1.0\n",
      "1.0\n",
      "1.0\n",
      "1.0\n",
      "1.0\n",
      "1.0\n",
      "1.0\n",
      "1.0\n",
      "1.0\n",
      "1.0\n",
      "1.0\n",
      "1.0\n",
      "1.0\n",
      "1.0\n",
      "1.0\n",
      "1.0\n",
      "1.0\n",
      "1.0\n",
      "1.0\n",
      "1.0\n",
      "1.0\n",
      "1.0\n",
      "1.0\n",
      "1.0\n",
      "1.0\n",
      "1.0\n",
      "1.0\n",
      "1.0\n",
      "1.0\n",
      "1.0\n",
      "1.0\n",
      "1.0\n",
      "1.0\n",
      "1.0\n",
      "1.0\n",
      "1.0\n",
      "1.0\n",
      "1.0\n",
      "1.0\n",
      "1.0\n",
      "1.0\n",
      "1.0\n",
      "1.0\n",
      "1.0\n",
      "1.0\n",
      "1.0\n",
      "1.0\n",
      "1.0\n",
      "1.0\n",
      "1.0\n",
      "1.0\n",
      "1.0\n",
      "1.0\n",
      "1.0\n",
      "1.0\n",
      "1.0\n",
      "1.0\n",
      "1.0\n",
      "1.0\n",
      "1.0\n",
      "1.0\n",
      "1.0\n",
      "1.0\n",
      "1.0\n",
      "1.0\n",
      "1.0\n",
      "1.0\n",
      "1.0\n",
      "1.0\n",
      "1.0\n",
      "1.0\n",
      "1.0\n",
      "1.0\n",
      "1.0\n",
      "1.0\n",
      "1.0\n",
      "1.0\n",
      "1.0\n",
      "1.0\n",
      "1.0\n",
      "1.0\n",
      "1.0\n",
      "1.0\n",
      "1.0\n",
      "1.0\n",
      "1.0\n",
      "1.0\n",
      "1.0\n",
      "1.0\n",
      "1.0\n",
      "1.0\n",
      "1.0\n",
      "1.0\n",
      "1.0\n",
      "1.0\n",
      "1.0\n",
      "1.0\n",
      "1.0\n"
     ]
    }
   ],
   "source": [
    "# For plotting the graph!!\n",
    "\n",
    "for x in range(1,189):\n",
    "    easy_top_3 = []\n",
    "    easy_not_top_3 = []\n",
    "    for i,result in enumerate(easy_results):\n",
    "    #     print(i)\n",
    "        res_files = [result[0][0]]\n",
    "        pos = 1\n",
    "    #     print(res_files)\n",
    "        while pos < len(result):\n",
    "            if result[pos][0] != result[pos-1][0]:\n",
    "                res_files.append(result[pos][0])\n",
    "            pos = pos+1\n",
    "\n",
    "        this_narr_name = get_narr_name(names[i])\n",
    "\n",
    "\n",
    "        if this_narr_name in res_files[0:x]:\n",
    "    #         print('YES', this_narr_name, res_files.index(this_narr_name))\n",
    "            easy_top_3.append([this_narr_name, res_files.index(this_narr_name),i, names[i]])\n",
    "        else:\n",
    "    #         print('NO', this_narr_name, res_files.index(this_narr_name))\n",
    "            easy_not_top_3.append([this_narr_name, res_files.index(this_narr_name),i, names[i]])\n",
    "    \n",
    "    print(len(easy_top_3)/(len(easy_top_3)+len(easy_not_top_3)))"
   ]
  },
  {
   "cell_type": "code",
   "execution_count": 13,
   "metadata": {
    "scrolled": true
   },
   "outputs": [
    {
     "name": "stdout",
     "output_type": "stream",
     "text": [
      "0.624390243902439\n",
      "0.7853658536585366\n",
      "0.848780487804878\n",
      "0.8731707317073171\n",
      "0.8878048780487805\n",
      "0.9219512195121952\n",
      "0.926829268292683\n",
      "0.9365853658536586\n",
      "0.9463414634146341\n",
      "0.9512195121951219\n",
      "0.9609756097560975\n",
      "0.9658536585365853\n",
      "0.9707317073170731\n",
      "0.975609756097561\n",
      "0.9804878048780488\n",
      "0.9804878048780488\n",
      "0.9853658536585366\n",
      "0.9951219512195122\n",
      "0.9951219512195122\n",
      "0.9951219512195122\n",
      "0.9951219512195122\n",
      "0.9951219512195122\n",
      "0.9951219512195122\n",
      "0.9951219512195122\n",
      "0.9951219512195122\n",
      "0.9951219512195122\n",
      "0.9951219512195122\n",
      "0.9951219512195122\n",
      "0.9951219512195122\n",
      "0.9951219512195122\n",
      "0.9951219512195122\n",
      "0.9951219512195122\n",
      "0.9951219512195122\n",
      "0.9951219512195122\n",
      "0.9951219512195122\n",
      "0.9951219512195122\n",
      "0.9951219512195122\n",
      "0.9951219512195122\n",
      "0.9951219512195122\n",
      "0.9951219512195122\n",
      "0.9951219512195122\n",
      "0.9951219512195122\n",
      "0.9951219512195122\n",
      "0.9951219512195122\n",
      "0.9951219512195122\n",
      "0.9951219512195122\n",
      "0.9951219512195122\n",
      "0.9951219512195122\n",
      "0.9951219512195122\n",
      "0.9951219512195122\n",
      "0.9951219512195122\n",
      "0.9951219512195122\n",
      "0.9951219512195122\n",
      "0.9951219512195122\n",
      "1.0\n",
      "1.0\n",
      "1.0\n",
      "1.0\n",
      "1.0\n",
      "1.0\n",
      "1.0\n",
      "1.0\n",
      "1.0\n",
      "1.0\n",
      "1.0\n",
      "1.0\n",
      "1.0\n",
      "1.0\n",
      "1.0\n",
      "1.0\n",
      "1.0\n",
      "1.0\n",
      "1.0\n",
      "1.0\n",
      "1.0\n",
      "1.0\n",
      "1.0\n",
      "1.0\n",
      "1.0\n",
      "1.0\n",
      "1.0\n",
      "1.0\n",
      "1.0\n",
      "1.0\n",
      "1.0\n",
      "1.0\n",
      "1.0\n",
      "1.0\n",
      "1.0\n",
      "1.0\n",
      "1.0\n",
      "1.0\n",
      "1.0\n",
      "1.0\n",
      "1.0\n",
      "1.0\n",
      "1.0\n",
      "1.0\n",
      "1.0\n",
      "1.0\n",
      "1.0\n",
      "1.0\n",
      "1.0\n",
      "1.0\n",
      "1.0\n",
      "1.0\n",
      "1.0\n",
      "1.0\n",
      "1.0\n",
      "1.0\n",
      "1.0\n",
      "1.0\n",
      "1.0\n",
      "1.0\n",
      "1.0\n",
      "1.0\n",
      "1.0\n",
      "1.0\n",
      "1.0\n",
      "1.0\n",
      "1.0\n",
      "1.0\n",
      "1.0\n",
      "1.0\n",
      "1.0\n",
      "1.0\n",
      "1.0\n",
      "1.0\n",
      "1.0\n",
      "1.0\n",
      "1.0\n",
      "1.0\n",
      "1.0\n",
      "1.0\n",
      "1.0\n",
      "1.0\n",
      "1.0\n",
      "1.0\n",
      "1.0\n",
      "1.0\n",
      "1.0\n",
      "1.0\n",
      "1.0\n",
      "1.0\n",
      "1.0\n",
      "1.0\n",
      "1.0\n",
      "1.0\n",
      "1.0\n",
      "1.0\n",
      "1.0\n",
      "1.0\n",
      "1.0\n",
      "1.0\n",
      "1.0\n",
      "1.0\n",
      "1.0\n",
      "1.0\n",
      "1.0\n",
      "1.0\n",
      "1.0\n",
      "1.0\n",
      "1.0\n",
      "1.0\n",
      "1.0\n",
      "1.0\n",
      "1.0\n",
      "1.0\n",
      "1.0\n",
      "1.0\n",
      "1.0\n",
      "1.0\n",
      "1.0\n",
      "1.0\n",
      "1.0\n",
      "1.0\n",
      "1.0\n",
      "1.0\n",
      "1.0\n",
      "1.0\n",
      "1.0\n",
      "1.0\n",
      "1.0\n",
      "1.0\n",
      "1.0\n",
      "1.0\n",
      "1.0\n",
      "1.0\n"
     ]
    }
   ],
   "source": [
    "# For plotting the graph!!\n",
    "for x in range(1,189):\n",
    "    hard_top_3 = []\n",
    "    hard_not_top_3 = []\n",
    "    for i,result in enumerate(hard_results):\n",
    "    #     print(i)\n",
    "        res_files = [result[0][0]]\n",
    "        pos = 1\n",
    "    #     print(res_files)\n",
    "        while pos < len(result):\n",
    "            if result[pos][0] != result[pos-1][0]:\n",
    "                res_files.append(result[pos][0])\n",
    "            pos = pos+1\n",
    "\n",
    "        this_narr_name = get_narr_name(names[i])\n",
    "\n",
    "\n",
    "        if this_narr_name in res_files[0:x]:\n",
    "    #         print('YES', this_narr_name, res_files.index(this_narr_name))\n",
    "            hard_top_3.append([this_narr_name, res_files.index(this_narr_name),i])\n",
    "        else:\n",
    "    #         print('NO', this_narr_name, res_files.index(this_narr_name))\n",
    "            hard_not_top_3.append([this_narr_name, res_files.index(this_narr_name),i])\n",
    "    \n",
    "    print(len(hard_top_3)/(len(hard_top_3)+len(hard_not_top_3)))"
   ]
  },
  {
   "cell_type": "code",
   "execution_count": null,
   "metadata": {
    "scrolled": true
   },
   "outputs": [],
   "source": [
    "hard_doc_top_3 = []\n",
    "hard_doc_not_top_3 = []\n",
    "for i,result in enumerate(hard_results_doc):\n",
    "#     print(i)\n",
    "    res_files = [result[0][0]]\n",
    "    pos = 1\n",
    "#     print(res_files)\n",
    "    while pos < len(result):\n",
    "        if result[pos][0] != result[pos-1][0]:\n",
    "            res_files.append(result[pos][0])\n",
    "        pos = pos+1\n",
    "    \n",
    "    this_narr_name = get_narr_name(names[i])\n",
    "    \n",
    "\n",
    "    if this_narr_name in res_files[0:3]:\n",
    "#         print('YES', this_narr_name, res_files.index(this_narr_name))\n",
    "        hard_doc_top_3.append([this_narr_name, res_files.index(this_narr_name)])\n",
    "    else:\n",
    "#         print('NO', this_narr_name, res_files.index(this_narr_name))\n",
    "        hard_doc_not_top_3.append([this_narr_name, res_files.index(this_narr_name)])\n",
    "    \n",
    "print()\n",
    "print(len(hard_doc_top_3))\n",
    "print(len(hard_doc_not_top_3))"
   ]
  },
  {
   "cell_type": "code",
   "execution_count": null,
   "metadata": {
    "scrolled": true
   },
   "outputs": [],
   "source": [
    "hard_head_top_3 = []\n",
    "hard_head_not_top_3 = []\n",
    "for i,result in enumerate(hard_results_head):\n",
    "#     print(i)\n",
    "    res_files = [result[0][0]]\n",
    "    pos = 1\n",
    "#     print(res_files)\n",
    "    while pos < len(result):\n",
    "        if result[pos][0] != result[pos-1][0]:\n",
    "            res_files.append(result[pos][0])\n",
    "        pos = pos+1\n",
    "    \n",
    "    this_narr_name = get_narr_name(names[i])\n",
    "    \n",
    "\n",
    "    if this_narr_name in res_files[0:3]:\n",
    "#         print('YES', this_narr_name, res_files.index(this_narr_name))\n",
    "        hard_head_top_3.append([this_narr_name, res_files.index(this_narr_name)])\n",
    "    else:\n",
    "#         print('NO', this_narr_name, res_files.index(this_narr_name))\n",
    "        hard_head_not_top_3.append([this_narr_name, res_files.index(this_narr_name)])\n",
    "    \n",
    "print()\n",
    "print(len(hard_head_top_3))\n",
    "print(len(hard_head_not_top_3))"
   ]
  },
  {
   "cell_type": "code",
   "execution_count": null,
   "metadata": {},
   "outputs": [],
   "source": [
    "hard_tf_top_3 = []\n",
    "hard_tf_not_top_3 = []\n",
    "for i,result in enumerate(hard_results_tf):\n",
    "#     print(i)\n",
    "    res_files = [result[0][0]]\n",
    "    pos = 1\n",
    "#     print(res_files)\n",
    "    while pos < len(result):\n",
    "        if result[pos][0] != result[pos-1][0]:\n",
    "            res_files.append(result[pos][0])\n",
    "        pos = pos+1\n",
    "    \n",
    "    this_narr_name = get_narr_name(names[i])\n",
    "    \n",
    "\n",
    "    if this_narr_name in res_files[0:3]:\n",
    "#         print('YES', this_narr_name, res_files.index(this_narr_name))\n",
    "        hard_tf_top_3.append([this_narr_name, res_files.index(this_narr_name)])\n",
    "    else:\n",
    "#         print('NO', this_narr_name, res_files.index(this_narr_name))\n",
    "        hard_tf_not_top_3.append([this_narr_name, res_files.index(this_narr_name)])\n",
    "    \n",
    "print()\n",
    "print(len(hard_tf_top_3))\n",
    "print(len(hard_tf_not_top_3))"
   ]
  },
  {
   "cell_type": "code",
   "execution_count": 19,
   "metadata": {
    "scrolled": true
   },
   "outputs": [
    {
     "name": "stdout",
     "output_type": "stream",
     "text": [
      "\n",
      "174\n",
      "31\n",
      "0.848780487804878\n"
     ]
    }
   ],
   "source": [
    "hard_top_3 = []\n",
    "hard_not_top_3 = []\n",
    "for i,result in enumerate(hard_results):\n",
    "#     print(i)\n",
    "    res_files = [result[0][0]]\n",
    "    pos = 1\n",
    "#     print(res_files)\n",
    "    while pos < len(result):\n",
    "        if result[pos][0] != result[pos-1][0]:\n",
    "            res_files.append(result[pos][0])\n",
    "        pos = pos+1\n",
    "    \n",
    "    this_narr_name = get_narr_name(names[i])\n",
    "\n",
    "    if this_narr_name in res_files[0:3]:\n",
    "#         print('YES', this_narr_name, res_files.index(this_narr_name))\n",
    "        hard_top_3.append([this_narr_name, res_files.index(this_narr_name),i, names[i]])\n",
    "    else:\n",
    "#         print('NO', this_narr_name, res_files.index(this_narr_name))\n",
    "        hard_not_top_3.append([this_narr_name, res_files.index(this_narr_name),i, names[i]])\n",
    "    \n",
    "print()\n",
    "print(len(hard_top_3))\n",
    "print(len(hard_not_top_3))\n",
    "print(len(hard_top_3)/(len(hard_top_3)+len(hard_not_top_3)))"
   ]
  },
  {
   "cell_type": "code",
   "execution_count": 30,
   "metadata": {
    "scrolled": true
   },
   "outputs": [
    {
     "data": {
      "text/plain": [
       "[['Chest Pain-Possible Acute Coronary Syndrome', 3, 13, '02_05.txt'],\n",
       " ['Dyspnea-Suspected Cardiac Origin', 6, 16, '02_08.txt'],\n",
       " ['Known or Suspected Congenital Heart Disease in the Adult',\n",
       "  4,\n",
       "  18,\n",
       "  '02_10.txt'],\n",
       " ['Suspected Infective Endocarditis', 11, 20, '02_12.txt'],\n",
       " ['Suspected Pulmonary Embolism', 7, 22, '02_14.txt'],\n",
       " ['Clinically Suspected Adnexal Mass, No Acute Symptoms', 17, 45, '04_05.txt'],\n",
       " ['Female Infertility', 13, 46, '04_06.txt'],\n",
       " ['First Trimester Vaginal Bleeding', 3, 47, '04_07.txt'],\n",
       " ['Gestational Trophoblastic Disease', 17, 48, '04_08.txt'],\n",
       " ['Chronic Extremity Joint Pain–Suspected Inflammatory Arthritis',\n",
       "  10,\n",
       "  68,\n",
       "  '06_09.txt'],\n",
       " ['Chronic Hip Pain', 14, 70, '06_11.txt'],\n",
       " ['Primary Bone Tumors', 16, 80, '06_21.txt'],\n",
       " ['Shoulder Pain-Atraumatic', 3, 81, '06_22.txt'],\n",
       " ['Soft-Tissue Masses', 54, 83, '06_24.txt'],\n",
       " ['Suspected Osteomyelitis, Septic Arthritis, or Soft Tissue Infection (Excluding Spine and Diabetic Foot)',\n",
       "  12,\n",
       "  86,\n",
       "  '06_27.txt'],\n",
       " ['Thoracic Outlet Syndrome', 5, 109, '07_22.txt'],\n",
       " ['Headache–Child', 5, 117, '08_06.txt'],\n",
       " ['Suspected Appendicitis-Child', 4, 123, '08_12.txt'],\n",
       " ['Acute Respiratory Illness in Immunocompromised Patients',\n",
       "  3,\n",
       "  129,\n",
       "  '09_02.txt'],\n",
       " ['Radiographically Detected Solitary Pulmonary Nodule', 10, 138, '09_11.txt'],\n",
       " ['Suspected Pulmonary Embolism', 9, 141, '09_14.txt'],\n",
       " ['Suspected Pulmonary Hypertension', 7, 142, '09_15.txt'],\n",
       " ['Thoracic Outlet Syndrome', 5, 143, '09_16.txt'],\n",
       " ['Hematuria', 5, 148, '10_05.txt'],\n",
       " ['Prostate Cancer–Pretreatment Detection, Surveillance, and Staging',\n",
       "  5,\n",
       "  157,\n",
       "  '10_14.txt'],\n",
       " ['Nonatherosclerotic Peripheral Arterial Disease', 8, 173, '11_10.txt'],\n",
       " ['Sudden Onset of Cold, Painful Leg', 5, 180, '11_17.txt'],\n",
       " ['Thoracic Outlet Syndrome', 5, 185, '11_22.txt'],\n",
       " ['Vascular Claudication–Assessment for Revascularization',\n",
       "  3,\n",
       "  186,\n",
       "  '11_23.txt'],\n",
       " ['Radiologic Management of Biliary Obstruction', 8, 190, '12_04.txt'],\n",
       " ['Radiologic Management of Urinary Tract Obstruction', 4, 201, '12_15.txt']]"
      ]
     },
     "execution_count": 30,
     "metadata": {},
     "output_type": "execute_result"
    }
   ],
   "source": [
    "hard_not_top_3"
   ]
  },
  {
   "cell_type": "code",
   "execution_count": 15,
   "metadata": {
    "scrolled": true
   },
   "outputs": [
    {
     "name": "stdout",
     "output_type": "stream",
     "text": [
      "0.35609756097560974\n",
      "1.3416496544776155\n",
      "\n",
      "1.6585365853658536\n",
      "4.794355197610689\n"
     ]
    }
   ],
   "source": [
    "import numpy as np\n",
    "\n",
    "# print(np.mean([x[1] for x in easy_doc_top_3] + [x[1] for x in easy_doc_not_top_3]))\n",
    "# print(np.std([x[1] for x in easy_doc_top_3] + [x[1] for x in easy_doc_not_top_3]))\n",
    "# print()\n",
    "# print(np.mean([x[1] for x in easy_head_top_3] + [x[1] for x in easy_head_not_top_3]))\n",
    "# print(np.std([x[1] for x in easy_head_top_3] + [x[1] for x in easy_head_not_top_3]))\n",
    "# print()\n",
    "print(np.mean([x[1] for x in easy_top_3] + [x[1] for x in easy_not_top_3]))\n",
    "print(np.std([x[1] for x in easy_top_3] + [x[1] for x in easy_not_top_3]))\n",
    "print()\n",
    "# print(np.mean([x[1] for x in hard_doc_top_3] + [x[1] for x in hard_doc_not_top_3]))\n",
    "# print(np.std([x[1] for x in hard_doc_top_3] + [x[1] for x in hard_doc_not_top_3]))\n",
    "# print()\n",
    "# print(np.mean([x[1] for x in hard_head_top_3] + [x[1] for x in hard_head_not_top_3]))\n",
    "# print(np.std([x[1] for x in hard_head_top_3] + [x[1] for x in hard_head_not_top_3]))\n",
    "# print()\n",
    "print(np.mean([x[1] for x in hard_top_3] + [x[1] for x in hard_not_top_3]))\n",
    "print(np.std([x[1] for x in hard_top_3] + [x[1] for x in hard_not_top_3]))"
   ]
  },
  {
   "cell_type": "code",
   "execution_count": 29,
   "metadata": {},
   "outputs": [
    {
     "name": "stdout",
     "output_type": "stream",
     "text": [
      "{'01': [9, 0], '02': [14, 0], '03': [18, 0], '04': [17, 1], '05': [1, 0], '06': [27, 1], '07': [22, 2], '08': [16, 0], '09': [16, 0], '10': [20, 0], '11': [23, 0], '12': [18, 0]}\n",
      "01 9 0\n",
      "02 14 0\n",
      "03 18 0\n",
      "04 17 1\n",
      "05 1 0\n",
      "06 27 1\n",
      "07 22 2\n",
      "08 16 0\n",
      "09 16 0\n",
      "10 20 0\n",
      "11 23 0\n",
      "12 18 0\n",
      "01 9 0\n",
      "02 9 5\n",
      "03 18 0\n",
      "04 14 4\n",
      "05 1 0\n",
      "06 22 6\n",
      "07 23 1\n",
      "08 14 2\n",
      "09 11 5\n",
      "10 18 2\n",
      "11 19 4\n",
      "12 16 2\n"
     ]
    }
   ],
   "source": [
    "# Subgroup analysis\n",
    "\n",
    "easy_subgroup = {}\n",
    "for each_res in easy_top_3:\n",
    "    cat = each_res[-1].split('_')[0]\n",
    "    if cat not in easy_subgroup.keys():\n",
    "        easy_subgroup[cat] = [1,0]\n",
    "    else:\n",
    "        easy_subgroup[cat][0] += 1\n",
    "for each_res in easy_not_top_3:\n",
    "    cat = each_res[-1].split('_')[0]\n",
    "    if cat not in easy_subgroup.keys():\n",
    "        easy_subgroup[cat] = [0,1]\n",
    "    else:\n",
    "        easy_subgroup[cat][1] += 1\n",
    "\n",
    "print(easy_subgroup)\n",
    "for key,each in easy_subgroup.items():\n",
    "    print(key,each[0],each[1])\n",
    "\n",
    "hard_subgroup = {}\n",
    "for each_res in hard_top_3:\n",
    "    cat = each_res[-1].split('_')[0]\n",
    "    if cat not in hard_subgroup.keys():\n",
    "        hard_subgroup[cat] = [1,0]\n",
    "    else:\n",
    "        hard_subgroup[cat][0] += 1\n",
    "for each_res in hard_not_top_3:\n",
    "    cat = each_res[-1].split('_')[0]\n",
    "    if cat not in hard_subgroup.keys():\n",
    "        hard_subgroup[cat] = [0,1]\n",
    "    else:\n",
    "        hard_subgroup[cat][1] += 1\n",
    "\n",
    "for key,each in hard_subgroup.items():\n",
    "    print(key,each[0],each[1])"
   ]
  },
  {
   "cell_type": "code",
   "execution_count": null,
   "metadata": {},
   "outputs": [],
   "source": [
    "hard_results[156]"
   ]
  },
  {
   "cell_type": "code",
   "execution_count": null,
   "metadata": {
    "scrolled": true
   },
   "outputs": [],
   "source": [
    "res_doc, res_head, res = biosentvec_embeds_fxn.run_me(model,[['35yo woman with recent abnormal periods presents with menometrorrhagia. MRI shows uterine fibroids. She prefers to bear children in the future. Next steps?','','','']])"
   ]
  },
  {
   "cell_type": "code",
   "execution_count": null,
   "metadata": {
    "scrolled": true
   },
   "outputs": [],
   "source": [
    "for each in res[0]:\n",
    "    print(each)\n",
    "len(res_doc)\n",
    "# a_res_2 = [x[1] for x in a_res[0]]"
   ]
  },
  {
   "cell_type": "code",
   "execution_count": 11,
   "metadata": {
    "scrolled": true
   },
   "outputs": [
    {
     "data": {
      "text/plain": [
       "[['Chest Pain-Possible Acute Coronary Syndrome', 3, 13, '02_05.txt'],\n",
       " ['Dyspnea-Suspected Cardiac Origin', 6, 16, '02_08.txt'],\n",
       " ['Known or Suspected Congenital Heart Disease in the Adult',\n",
       "  4,\n",
       "  18,\n",
       "  '02_10.txt'],\n",
       " ['Suspected Infective Endocarditis', 11, 20, '02_12.txt'],\n",
       " ['Suspected Pulmonary Embolism', 7, 22, '02_14.txt'],\n",
       " ['Clinically Suspected Adnexal Mass, No Acute Symptoms', 17, 45, '04_05.txt'],\n",
       " ['Female Infertility', 13, 46, '04_06.txt'],\n",
       " ['First Trimester Vaginal Bleeding', 3, 47, '04_07.txt'],\n",
       " ['Gestational Trophoblastic Disease', 17, 48, '04_08.txt'],\n",
       " ['Chronic Extremity Joint Pain–Suspected Inflammatory Arthritis',\n",
       "  10,\n",
       "  68,\n",
       "  '06_09.txt'],\n",
       " ['Chronic Hip Pain', 14, 70, '06_11.txt'],\n",
       " ['Primary Bone Tumors', 16, 80, '06_21.txt'],\n",
       " ['Shoulder Pain-Atraumatic', 3, 81, '06_22.txt'],\n",
       " ['Soft-Tissue Masses', 54, 83, '06_24.txt'],\n",
       " ['Suspected Osteomyelitis, Septic Arthritis, or Soft Tissue Infection (Excluding Spine and Diabetic Foot)',\n",
       "  12,\n",
       "  86,\n",
       "  '06_27.txt'],\n",
       " ['Thoracic Outlet Syndrome', 5, 109, '07_22.txt'],\n",
       " ['Headache–Child', 5, 117, '08_06.txt'],\n",
       " ['Suspected Appendicitis-Child', 4, 123, '08_12.txt'],\n",
       " ['Acute Respiratory Illness in Immunocompromised Patients',\n",
       "  3,\n",
       "  129,\n",
       "  '09_02.txt'],\n",
       " ['Radiographically Detected Solitary Pulmonary Nodule', 10, 138, '09_11.txt'],\n",
       " ['Suspected Pulmonary Embolism', 9, 141, '09_14.txt'],\n",
       " ['Suspected Pulmonary Hypertension', 7, 142, '09_15.txt'],\n",
       " ['Thoracic Outlet Syndrome', 5, 143, '09_16.txt'],\n",
       " ['Hematuria', 5, 148, '10_05.txt'],\n",
       " ['Prostate Cancer–Pretreatment Detection, Surveillance, and Staging',\n",
       "  5,\n",
       "  157,\n",
       "  '10_14.txt'],\n",
       " ['Nonatherosclerotic Peripheral Arterial Disease', 8, 173, '11_10.txt'],\n",
       " ['Sudden Onset of Cold, Painful Leg', 5, 180, '11_17.txt'],\n",
       " ['Thoracic Outlet Syndrome', 5, 185, '11_22.txt'],\n",
       " ['Vascular Claudication–Assessment for Revascularization',\n",
       "  3,\n",
       "  186,\n",
       "  '11_23.txt'],\n",
       " ['Radiologic Management of Biliary Obstruction', 8, 190, '12_04.txt'],\n",
       " ['Radiologic Management of Urinary Tract Obstruction', 4, 201, '12_15.txt']]"
      ]
     },
     "execution_count": 11,
     "metadata": {},
     "output_type": "execute_result"
    }
   ],
   "source": [
    "hard_not_top_3"
   ]
  },
  {
   "cell_type": "code",
   "execution_count": null,
   "metadata": {
    "scrolled": true
   },
   "outputs": [],
   "source": [
    "# tf_idf = np.load('../resources/tfidf_idf.npy')\n",
    "# tf_words = np.load('../resources/tfidf_words.npy')\n",
    "# tf_arr_np = np.load('../resources/tfidf_arrs_full.npy',allow_pickle=True).item()\n",
    "import numpy as np\n",
    "full = np.load('../../resources/tfidf.npy')\n",
    "doc_embs = []\n",
    "for doc in full:\n",
    "    print(doc[0][0])\n",
    "    emb = np.zeros(700)\n",
    "    for xx in range(50):\n",
    "        res = np.squeeze(model.embed_sentence(doc[xx][1]))\n",
    "        emb = np.add(emb, res)\n",
    "\n",
    "    emb = emb/50\n",
    "    doc_embs.append(emb)\n",
    "\n",
    "len(doc_embs)\n",
    "len(doc_embs[0])"
   ]
  },
  {
   "cell_type": "code",
   "execution_count": null,
   "metadata": {},
   "outputs": [],
   "source": [
    "np.save('../../resources/tfidf_embs_50.npy',doc_embs)"
   ]
  },
  {
   "cell_type": "code",
   "execution_count": 3,
   "metadata": {},
   "outputs": [
    {
     "data": {
      "text/plain": [
       "200"
      ]
     },
     "execution_count": 3,
     "metadata": {},
     "output_type": "execute_result"
    }
   ],
   "source": [
    "import numpy as np\n",
    "full = np.load('../resources/tfidf.npy')\n",
    "len(full[0])"
   ]
  },
  {
   "cell_type": "code",
   "execution_count": null,
   "metadata": {},
   "outputs": [],
   "source": []
  },
  {
   "cell_type": "code",
   "execution_count": null,
   "metadata": {},
   "outputs": [],
   "source": [
    "import biosentvec_embeds_tfidf_fxn"
   ]
  },
  {
   "cell_type": "code",
   "execution_count": null,
   "metadata": {},
   "outputs": [],
   "source": [
    "import importlib\n",
    "importlib.reload(biosentvec_embeds_tfidf_fxn)"
   ]
  },
  {
   "cell_type": "code",
   "execution_count": null,
   "metadata": {
    "scrolled": true
   },
   "outputs": [],
   "source": [
    "res_doc, res_head, res_tf, res = biosentvec_embeds_tfidf_fxn.run_me(model,[['59yo with history of hypertension and IBD presents with fever, ruq pain, high suspicion of sclerosing cholangitis. next steps','','','']])"
   ]
  },
  {
   "cell_type": "code",
   "execution_count": null,
   "metadata": {},
   "outputs": [],
   "source": [
    "for each in res[0]:\n",
    "    print(each)\n",
    "len(res_doc)"
   ]
  }
 ],
 "metadata": {
  "kernelspec": {
   "display_name": "Python 3",
   "language": "python",
   "name": "python3"
  },
  "language_info": {
   "codemirror_mode": {
    "name": "ipython",
    "version": 3
   },
   "file_extension": ".py",
   "mimetype": "text/x-python",
   "name": "python",
   "nbconvert_exporter": "python",
   "pygments_lexer": "ipython3",
   "version": "3.7.3"
  }
 },
 "nbformat": 4,
 "nbformat_minor": 4
}
