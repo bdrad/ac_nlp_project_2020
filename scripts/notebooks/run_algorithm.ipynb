{
 "cells": [
  {
   "cell_type": "code",
   "execution_count": null,
   "metadata": {},
   "outputs": [],
   "source": [
    "import sent2vec\n",
    "filename = '../../resources/BioSentVec.bin'\n",
    "model = sent2vec.Sent2vecModel()\n",
    "try:\n",
    "\tmodel.load_model(filename)\n",
    "except Exception as e:\n",
    "\tprint(e)\n",
    "print('model successfully loaded')"
   ]
  },
  {
   "cell_type": "code",
   "execution_count": null,
   "metadata": {},
   "outputs": [],
   "source": [
    "from sent2vec_search import Sent2VecSearch"
   ]
  },
  {
   "cell_type": "code",
   "execution_count": null,
   "metadata": {},
   "outputs": [],
   "source": [
    "import csv\n",
    "import numpy as np\n",
    "import random\n",
    "import re"
   ]
  },
  {
   "cell_type": "code",
   "execution_count": null,
   "metadata": {},
   "outputs": [],
   "source": [
    "in_f = '../resources/artificial_indications_filled_v2.csv'\n",
    "reader = csv.reader(open(in_f))\n",
    "easy_queries = []\n",
    "hard_queries = []\n",
    "for row in reader:\n",
    "    if row[2] != 'narr_names': # Don't include header row\n",
    "        [_,name,narr_name, simple, difficult, _, _] = row\n",
    "        if simple != '':\n",
    "            easy_queries.append([simple, '', '', ''])\n",
    "        if difficult != '':\n",
    "            hard_queries.append([difficult, '', '', ''])"
   ]
  },
  {
   "cell_type": "code",
   "execution_count": null,
   "metadata": {},
   "outputs": [],
   "source": [
    "docs_embed = np.load('../../resources/docs_embed.npy')\n",
    "headers_embed = np.load('../../resources/headers_embed.npy')\n",
    "tfidf_embed = np.load('../../resources/tfidf_embs_50.npy')\n",
    "names = np.load('../../resources/names.npy')\n",
    "\n",
    "vocab = []\n",
    "with open('../../resources/vocab.csv') as myfile:\n",
    "    csv_reader = csv.reader(myfile, delimiter=',')\n",
    "    for row in csv_reader:\n",
    "        vocab.append(row[0])\n",
    "\n",
    "word2int = np.load('../../resources/word2int.npy')"
   ]
  },
  {
   "cell_type": "code",
   "execution_count": null,
   "metadata": {},
   "outputs": [],
   "source": [
    "searcher = Sent2VecSearch(vocab, word2int, names, docs_embed, headers_embed, tfidf_embed, model=model)"
   ]
  },
  {
   "cell_type": "code",
   "execution_count": null,
   "metadata": {
    "scrolled": true
   },
   "outputs": [],
   "source": [
    "results = searcher.search(['aaa suspected','75','male','abdomen/pelvis'])"
   ]
  }
 ],
 "metadata": {
  "kernelspec": {
   "display_name": "Python 3",
   "language": "python",
   "name": "python3"
  },
  "language_info": {
   "codemirror_mode": {
    "name": "ipython",
    "version": 3
   },
   "file_extension": ".py",
   "mimetype": "text/x-python",
   "name": "python",
   "nbconvert_exporter": "python",
   "pygments_lexer": "ipython3",
   "version": "3.7.3"
  }
 },
 "nbformat": 4,
 "nbformat_minor": 4
}
